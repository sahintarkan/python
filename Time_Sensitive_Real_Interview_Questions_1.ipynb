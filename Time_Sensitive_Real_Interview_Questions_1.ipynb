{
  "cells": [
    {
      "cell_type": "markdown",
      "metadata": {
        "id": "view-in-github",
        "colab_type": "text"
      },
      "source": [
        "<a href=\"https://colab.research.google.com/github/sahintarkan/python/blob/main/Time_Sensitive_Real_Interview_Questions_1.ipynb\" target=\"_parent\"><img src=\"https://colab.research.google.com/assets/colab-badge.svg\" alt=\"Open In Colab\"/></a>"
      ]
    },
    {
      "cell_type": "code",
      "execution_count": null,
      "id": "beeb2da3",
      "metadata": {
        "id": "beeb2da3"
      },
      "outputs": [],
      "source": [
        "import pandas as pd"
      ]
    },
    {
      "cell_type": "code",
      "execution_count": null,
      "id": "c5429893",
      "metadata": {
        "id": "c5429893",
        "outputId": "2698d06a-6af0-4335-d935-f1936bade924"
      },
      "outputs": [
        {
          "data": {
            "text/html": [
              "<div>\n",
              "<style scoped>\n",
              "    .dataframe tbody tr th:only-of-type {\n",
              "        vertical-align: middle;\n",
              "    }\n",
              "\n",
              "    .dataframe tbody tr th {\n",
              "        vertical-align: top;\n",
              "    }\n",
              "\n",
              "    .dataframe thead th {\n",
              "        text-align: right;\n",
              "    }\n",
              "</style>\n",
              "<table border=\"1\" class=\"dataframe\">\n",
              "  <thead>\n",
              "    <tr style=\"text-align: right;\">\n",
              "      <th></th>\n",
              "      <th>buyer_id</th>\n",
              "      <th>buyer_country</th>\n",
              "      <th>seller_id</th>\n",
              "      <th>seller_country</th>\n",
              "      <th>product_code</th>\n",
              "      <th>category</th>\n",
              "      <th>brand</th>\n",
              "      <th>currency</th>\n",
              "      <th>price</th>\n",
              "      <th>date</th>\n",
              "    </tr>\n",
              "  </thead>\n",
              "  <tbody>\n",
              "    <tr>\n",
              "      <th>0</th>\n",
              "      <td>qzpjsi9t0o</td>\n",
              "      <td>GB</td>\n",
              "      <td>6oufpaot</td>\n",
              "      <td>GB</td>\n",
              "      <td>ydecnydr6obf</td>\n",
              "      <td>Dresses</td>\n",
              "      <td>NaN</td>\n",
              "      <td>GBP</td>\n",
              "      <td>19.11</td>\n",
              "      <td>2020-08-03</td>\n",
              "    </tr>\n",
              "    <tr>\n",
              "      <th>1</th>\n",
              "      <td>o79pns1qwo</td>\n",
              "      <td>GB</td>\n",
              "      <td>50xki2yg</td>\n",
              "      <td>GB</td>\n",
              "      <td>38chj507o6h2</td>\n",
              "      <td>Outerwear</td>\n",
              "      <td>Adidas Originals</td>\n",
              "      <td>GBP</td>\n",
              "      <td>15.92</td>\n",
              "      <td>2020-08-09</td>\n",
              "    </tr>\n",
              "    <tr>\n",
              "      <th>2</th>\n",
              "      <td>sjgbjdkhqx</td>\n",
              "      <td>GB</td>\n",
              "      <td>50xki2yg</td>\n",
              "      <td>GB</td>\n",
              "      <td>i9ynyxj5tdp8</td>\n",
              "      <td>Tops - Mens</td>\n",
              "      <td>NaN</td>\n",
              "      <td>GBP</td>\n",
              "      <td>6.37</td>\n",
              "      <td>2020-08-07</td>\n",
              "    </tr>\n",
              "    <tr>\n",
              "      <th>3</th>\n",
              "      <td>o79pns1qwo</td>\n",
              "      <td>GB</td>\n",
              "      <td>s0p322hh</td>\n",
              "      <td>GB</td>\n",
              "      <td>t50xe7moye8v</td>\n",
              "      <td>Tops - Mens</td>\n",
              "      <td>Berghaus</td>\n",
              "      <td>GBP</td>\n",
              "      <td>25.27</td>\n",
              "      <td>2020-08-09</td>\n",
              "    </tr>\n",
              "    <tr>\n",
              "      <th>4</th>\n",
              "      <td>o79pns1qwo</td>\n",
              "      <td>GB</td>\n",
              "      <td>dpkx192v</td>\n",
              "      <td>GB</td>\n",
              "      <td>hp4r9bjq68af</td>\n",
              "      <td>Bottoms - Womens</td>\n",
              "      <td>NaN</td>\n",
              "      <td>GBP</td>\n",
              "      <td>8.90</td>\n",
              "      <td>2020-08-09</td>\n",
              "    </tr>\n",
              "  </tbody>\n",
              "</table>\n",
              "</div>"
            ],
            "text/plain": [
              "     buyer_id buyer_country seller_id seller_country  product_code  \\\n",
              "0  qzpjsi9t0o            GB  6oufpaot             GB  ydecnydr6obf   \n",
              "1  o79pns1qwo            GB  50xki2yg             GB  38chj507o6h2   \n",
              "2  sjgbjdkhqx            GB  50xki2yg             GB  i9ynyxj5tdp8   \n",
              "3  o79pns1qwo            GB  s0p322hh             GB  t50xe7moye8v   \n",
              "4  o79pns1qwo            GB  dpkx192v             GB  hp4r9bjq68af   \n",
              "\n",
              "           category             brand currency  price        date  \n",
              "0           Dresses               NaN      GBP  19.11  2020-08-03  \n",
              "1         Outerwear  Adidas Originals      GBP  15.92  2020-08-09  \n",
              "2       Tops - Mens               NaN      GBP   6.37  2020-08-07  \n",
              "3       Tops - Mens          Berghaus      GBP  25.27  2020-08-09  \n",
              "4  Bottoms - Womens               NaN      GBP   8.90  2020-08-09  "
            ]
          },
          "execution_count": 3,
          "metadata": {},
          "output_type": "execute_result"
        }
      ],
      "source": [
        "df_salary = pd.read_csv('./sales_082020.csv')\n",
        "df_salary.head()"
      ]
    },
    {
      "cell_type": "code",
      "execution_count": null,
      "id": "40ad119a",
      "metadata": {
        "id": "40ad119a",
        "outputId": "2662a397-c53b-4a60-fac6-59cce9b2d968"
      },
      "outputs": [
        {
          "data": {
            "text/html": [
              "<div>\n",
              "<style scoped>\n",
              "    .dataframe tbody tr th:only-of-type {\n",
              "        vertical-align: middle;\n",
              "    }\n",
              "\n",
              "    .dataframe tbody tr th {\n",
              "        vertical-align: top;\n",
              "    }\n",
              "\n",
              "    .dataframe thead th {\n",
              "        text-align: right;\n",
              "    }\n",
              "</style>\n",
              "<table border=\"1\" class=\"dataframe\">\n",
              "  <thead>\n",
              "    <tr style=\"text-align: right;\">\n",
              "      <th></th>\n",
              "      <th>currency</th>\n",
              "      <th>date</th>\n",
              "      <th>rate</th>\n",
              "    </tr>\n",
              "  </thead>\n",
              "  <tbody>\n",
              "    <tr>\n",
              "      <th>0</th>\n",
              "      <td>EUR</td>\n",
              "      <td>8/1/2020</td>\n",
              "      <td>1.0</td>\n",
              "    </tr>\n",
              "    <tr>\n",
              "      <th>1</th>\n",
              "      <td>EUR</td>\n",
              "      <td>8/2/2020</td>\n",
              "      <td>1.0</td>\n",
              "    </tr>\n",
              "    <tr>\n",
              "      <th>2</th>\n",
              "      <td>EUR</td>\n",
              "      <td>8/3/2020</td>\n",
              "      <td>1.0</td>\n",
              "    </tr>\n",
              "    <tr>\n",
              "      <th>3</th>\n",
              "      <td>EUR</td>\n",
              "      <td>8/4/2020</td>\n",
              "      <td>1.0</td>\n",
              "    </tr>\n",
              "    <tr>\n",
              "      <th>4</th>\n",
              "      <td>EUR</td>\n",
              "      <td>8/5/2020</td>\n",
              "      <td>1.0</td>\n",
              "    </tr>\n",
              "  </tbody>\n",
              "</table>\n",
              "</div>"
            ],
            "text/plain": [
              "  currency      date  rate\n",
              "0      EUR  8/1/2020   1.0\n",
              "1      EUR  8/2/2020   1.0\n",
              "2      EUR  8/3/2020   1.0\n",
              "3      EUR  8/4/2020   1.0\n",
              "4      EUR  8/5/2020   1.0"
            ]
          },
          "execution_count": 5,
          "metadata": {},
          "output_type": "execute_result"
        }
      ],
      "source": [
        "df_currency = pd.read_csv('./currency_rates_082020_EUR.csv')\n",
        "df_currency.head()"
      ]
    },
    {
      "cell_type": "markdown",
      "id": "82163524",
      "metadata": {
        "id": "82163524"
      },
      "source": [
        "1. How many rows in the sales dataset?(Just write the numbers in the format of 000.000)"
      ]
    },
    {
      "cell_type": "code",
      "execution_count": null,
      "id": "4a8c7a89",
      "metadata": {
        "id": "4a8c7a89",
        "outputId": "8b4d00a9-0d9c-415a-ba27-c2ba3dc45b68"
      },
      "outputs": [
        {
          "data": {
            "text/html": [
              "<div>\n",
              "<style scoped>\n",
              "    .dataframe tbody tr th:only-of-type {\n",
              "        vertical-align: middle;\n",
              "    }\n",
              "\n",
              "    .dataframe tbody tr th {\n",
              "        vertical-align: top;\n",
              "    }\n",
              "\n",
              "    .dataframe thead th {\n",
              "        text-align: right;\n",
              "    }\n",
              "</style>\n",
              "<table border=\"1\" class=\"dataframe\">\n",
              "  <thead>\n",
              "    <tr style=\"text-align: right;\">\n",
              "      <th></th>\n",
              "      <th>buyer_id</th>\n",
              "      <th>buyer_country</th>\n",
              "      <th>seller_id</th>\n",
              "      <th>seller_country</th>\n",
              "      <th>product_code</th>\n",
              "      <th>category</th>\n",
              "      <th>brand</th>\n",
              "      <th>currency</th>\n",
              "      <th>price</th>\n",
              "      <th>date</th>\n",
              "    </tr>\n",
              "  </thead>\n",
              "  <tbody>\n",
              "    <tr>\n",
              "      <th>0</th>\n",
              "      <td>qzpjsi9t0o</td>\n",
              "      <td>GB</td>\n",
              "      <td>6oufpaot</td>\n",
              "      <td>GB</td>\n",
              "      <td>ydecnydr6obf</td>\n",
              "      <td>Dresses</td>\n",
              "      <td>NaN</td>\n",
              "      <td>GBP</td>\n",
              "      <td>19.11</td>\n",
              "      <td>2020-08-03</td>\n",
              "    </tr>\n",
              "    <tr>\n",
              "      <th>1</th>\n",
              "      <td>o79pns1qwo</td>\n",
              "      <td>GB</td>\n",
              "      <td>50xki2yg</td>\n",
              "      <td>GB</td>\n",
              "      <td>38chj507o6h2</td>\n",
              "      <td>Outerwear</td>\n",
              "      <td>Adidas Originals</td>\n",
              "      <td>GBP</td>\n",
              "      <td>15.92</td>\n",
              "      <td>2020-08-09</td>\n",
              "    </tr>\n",
              "    <tr>\n",
              "      <th>2</th>\n",
              "      <td>sjgbjdkhqx</td>\n",
              "      <td>GB</td>\n",
              "      <td>50xki2yg</td>\n",
              "      <td>GB</td>\n",
              "      <td>i9ynyxj5tdp8</td>\n",
              "      <td>Tops - Mens</td>\n",
              "      <td>NaN</td>\n",
              "      <td>GBP</td>\n",
              "      <td>6.37</td>\n",
              "      <td>2020-08-07</td>\n",
              "    </tr>\n",
              "    <tr>\n",
              "      <th>3</th>\n",
              "      <td>o79pns1qwo</td>\n",
              "      <td>GB</td>\n",
              "      <td>s0p322hh</td>\n",
              "      <td>GB</td>\n",
              "      <td>t50xe7moye8v</td>\n",
              "      <td>Tops - Mens</td>\n",
              "      <td>Berghaus</td>\n",
              "      <td>GBP</td>\n",
              "      <td>25.27</td>\n",
              "      <td>2020-08-09</td>\n",
              "    </tr>\n",
              "    <tr>\n",
              "      <th>4</th>\n",
              "      <td>o79pns1qwo</td>\n",
              "      <td>GB</td>\n",
              "      <td>dpkx192v</td>\n",
              "      <td>GB</td>\n",
              "      <td>hp4r9bjq68af</td>\n",
              "      <td>Bottoms - Womens</td>\n",
              "      <td>NaN</td>\n",
              "      <td>GBP</td>\n",
              "      <td>8.90</td>\n",
              "      <td>2020-08-09</td>\n",
              "    </tr>\n",
              "    <tr>\n",
              "      <th>...</th>\n",
              "      <td>...</td>\n",
              "      <td>...</td>\n",
              "      <td>...</td>\n",
              "      <td>...</td>\n",
              "      <td>...</td>\n",
              "      <td>...</td>\n",
              "      <td>...</td>\n",
              "      <td>...</td>\n",
              "      <td>...</td>\n",
              "      <td>...</td>\n",
              "    </tr>\n",
              "    <tr>\n",
              "      <th>237666</th>\n",
              "      <td>p7ibf7soot</td>\n",
              "      <td>GB</td>\n",
              "      <td>ss7jy9ks</td>\n",
              "      <td>GB</td>\n",
              "      <td>hzc7pmjxmsb6</td>\n",
              "      <td>Bottoms - Womens</td>\n",
              "      <td>NaN</td>\n",
              "      <td>GBP</td>\n",
              "      <td>17.11</td>\n",
              "      <td>2020-08-06</td>\n",
              "    </tr>\n",
              "    <tr>\n",
              "      <th>237667</th>\n",
              "      <td>2hg8zirueq</td>\n",
              "      <td>US</td>\n",
              "      <td>bk6apusi</td>\n",
              "      <td>US</td>\n",
              "      <td>fskn84lfyrvz</td>\n",
              "      <td>Home</td>\n",
              "      <td>NaN</td>\n",
              "      <td>USD</td>\n",
              "      <td>69.00</td>\n",
              "      <td>2020-08-05</td>\n",
              "    </tr>\n",
              "    <tr>\n",
              "      <th>237668</th>\n",
              "      <td>k5hmcfxcs6</td>\n",
              "      <td>GB</td>\n",
              "      <td>n2ez0xph</td>\n",
              "      <td>GB</td>\n",
              "      <td>5afe7yhdpcmz</td>\n",
              "      <td>Other</td>\n",
              "      <td>NaN</td>\n",
              "      <td>GBP</td>\n",
              "      <td>58.28</td>\n",
              "      <td>2020-08-05</td>\n",
              "    </tr>\n",
              "    <tr>\n",
              "      <th>237669</th>\n",
              "      <td>ca8nc8qv1x</td>\n",
              "      <td>GB</td>\n",
              "      <td>j1s4nqxb</td>\n",
              "      <td>GB</td>\n",
              "      <td>ktdrjbrq0fo2</td>\n",
              "      <td>Shoes</td>\n",
              "      <td>NaN</td>\n",
              "      <td>GBP</td>\n",
              "      <td>9.46</td>\n",
              "      <td>2020-08-05</td>\n",
              "    </tr>\n",
              "    <tr>\n",
              "      <th>237670</th>\n",
              "      <td>z09h7w9zcd</td>\n",
              "      <td>US</td>\n",
              "      <td>0au7baxi</td>\n",
              "      <td>US</td>\n",
              "      <td>0r1qni2g1zi4</td>\n",
              "      <td>Other</td>\n",
              "      <td>NaN</td>\n",
              "      <td>USD</td>\n",
              "      <td>160.76</td>\n",
              "      <td>2020-08-06</td>\n",
              "    </tr>\n",
              "  </tbody>\n",
              "</table>\n",
              "<p>237671 rows × 10 columns</p>\n",
              "</div>"
            ],
            "text/plain": [
              "          buyer_id buyer_country seller_id seller_country  product_code  \\\n",
              "0       qzpjsi9t0o            GB  6oufpaot             GB  ydecnydr6obf   \n",
              "1       o79pns1qwo            GB  50xki2yg             GB  38chj507o6h2   \n",
              "2       sjgbjdkhqx            GB  50xki2yg             GB  i9ynyxj5tdp8   \n",
              "3       o79pns1qwo            GB  s0p322hh             GB  t50xe7moye8v   \n",
              "4       o79pns1qwo            GB  dpkx192v             GB  hp4r9bjq68af   \n",
              "...            ...           ...       ...            ...           ...   \n",
              "237666  p7ibf7soot            GB  ss7jy9ks             GB  hzc7pmjxmsb6   \n",
              "237667  2hg8zirueq            US  bk6apusi             US  fskn84lfyrvz   \n",
              "237668  k5hmcfxcs6            GB  n2ez0xph             GB  5afe7yhdpcmz   \n",
              "237669  ca8nc8qv1x            GB  j1s4nqxb             GB  ktdrjbrq0fo2   \n",
              "237670  z09h7w9zcd            US  0au7baxi             US  0r1qni2g1zi4   \n",
              "\n",
              "                category             brand currency   price        date  \n",
              "0                Dresses               NaN      GBP   19.11  2020-08-03  \n",
              "1              Outerwear  Adidas Originals      GBP   15.92  2020-08-09  \n",
              "2            Tops - Mens               NaN      GBP    6.37  2020-08-07  \n",
              "3            Tops - Mens          Berghaus      GBP   25.27  2020-08-09  \n",
              "4       Bottoms - Womens               NaN      GBP    8.90  2020-08-09  \n",
              "...                  ...               ...      ...     ...         ...  \n",
              "237666  Bottoms - Womens               NaN      GBP   17.11  2020-08-06  \n",
              "237667              Home               NaN      USD   69.00  2020-08-05  \n",
              "237668             Other               NaN      GBP   58.28  2020-08-05  \n",
              "237669             Shoes               NaN      GBP    9.46  2020-08-05  \n",
              "237670             Other               NaN      USD  160.76  2020-08-06  \n",
              "\n",
              "[237671 rows x 10 columns]"
            ]
          },
          "execution_count": 6,
          "metadata": {},
          "output_type": "execute_result"
        }
      ],
      "source": [
        "df_salary"
      ]
    },
    {
      "cell_type": "code",
      "execution_count": null,
      "id": "59e57719",
      "metadata": {
        "id": "59e57719",
        "outputId": "895451b9-1b7b-4e77-8044-e638c77c0978"
      },
      "outputs": [
        {
          "name": "stdout",
          "output_type": "stream",
          "text": [
            "<class 'pandas.core.frame.DataFrame'>\n",
            "RangeIndex: 237671 entries, 0 to 237670\n",
            "Data columns (total 10 columns):\n",
            " #   Column          Non-Null Count   Dtype  \n",
            "---  ------          --------------   -----  \n",
            " 0   buyer_id        237671 non-null  object \n",
            " 1   buyer_country   237671 non-null  object \n",
            " 2   seller_id       237671 non-null  object \n",
            " 3   seller_country  237671 non-null  object \n",
            " 4   product_code    237671 non-null  object \n",
            " 5   category        237655 non-null  object \n",
            " 6   brand           119330 non-null  object \n",
            " 7   currency        237671 non-null  object \n",
            " 8   price           237671 non-null  float64\n",
            " 9   date            237671 non-null  object \n",
            "dtypes: float64(1), object(9)\n",
            "memory usage: 18.1+ MB\n"
          ]
        }
      ],
      "source": [
        "df_salary.info()"
      ]
    },
    {
      "cell_type": "code",
      "execution_count": null,
      "id": "740e2469",
      "metadata": {
        "id": "740e2469",
        "outputId": "2afa836a-e25a-4159-8383-01a9bf73e0a7"
      },
      "outputs": [
        {
          "data": {
            "text/plain": [
              "237671"
            ]
          },
          "execution_count": 7,
          "metadata": {},
          "output_type": "execute_result"
        }
      ],
      "source": [
        "len(df_salary)"
      ]
    },
    {
      "cell_type": "code",
      "execution_count": null,
      "id": "c27383ac",
      "metadata": {
        "id": "c27383ac",
        "outputId": "a04015c9-9a65-4ee2-85ba-3408ddb19e99"
      },
      "outputs": [
        {
          "data": {
            "text/plain": [
              "(237671, 10)"
            ]
          },
          "execution_count": 29,
          "metadata": {},
          "output_type": "execute_result"
        }
      ],
      "source": [
        "df_salary.shape"
      ]
    },
    {
      "cell_type": "code",
      "execution_count": null,
      "id": "a271e8c3",
      "metadata": {
        "id": "a271e8c3",
        "outputId": "3a41e878-07aa-48d3-c170-999a51245149"
      },
      "outputs": [
        {
          "data": {
            "text/plain": [
              "237671"
            ]
          },
          "execution_count": 9,
          "metadata": {},
          "output_type": "execute_result"
        }
      ],
      "source": [
        "df_salary.shape[0]"
      ]
    },
    {
      "cell_type": "code",
      "execution_count": null,
      "id": "170560ed",
      "metadata": {
        "id": "170560ed",
        "outputId": "41dda339-25b8-4432-dc2c-20a300771bea"
      },
      "outputs": [
        {
          "data": {
            "text/plain": [
              "RangeIndex(start=0, stop=237671, step=1)"
            ]
          },
          "execution_count": 15,
          "metadata": {},
          "output_type": "execute_result"
        }
      ],
      "source": [
        "df_salary.index"
      ]
    },
    {
      "cell_type": "code",
      "execution_count": null,
      "id": "16360472",
      "metadata": {
        "id": "16360472",
        "outputId": "baeb4fa3-1042-4580-9bad-d28b5e97c284"
      },
      "outputs": [
        {
          "data": {
            "text/plain": [
              "buyer_id          237671\n",
              "buyer_country     237671\n",
              "seller_id         237671\n",
              "seller_country    237671\n",
              "product_code      237671\n",
              "category          237655\n",
              "brand             119330\n",
              "currency          237671\n",
              "price             237671\n",
              "date              237671\n",
              "dtype: int64"
            ]
          },
          "execution_count": 20,
          "metadata": {},
          "output_type": "execute_result"
        }
      ],
      "source": [
        "df_salary.count()"
      ]
    },
    {
      "cell_type": "code",
      "execution_count": null,
      "id": "8bbd608b",
      "metadata": {
        "id": "8bbd608b",
        "outputId": "ff728bc8-1ff5-4611-9741-4a69d048608f"
      },
      "outputs": [
        {
          "data": {
            "text/plain": [
              "237671"
            ]
          },
          "execution_count": 21,
          "metadata": {},
          "output_type": "execute_result"
        }
      ],
      "source": [
        "df_salary.count()[0]"
      ]
    },
    {
      "cell_type": "code",
      "execution_count": null,
      "id": "40baae4a",
      "metadata": {
        "id": "40baae4a",
        "outputId": "83094f1a-6364-49d5-bfd5-de7e8d04408b"
      },
      "outputs": [
        {
          "data": {
            "text/plain": [
              "237671"
            ]
          },
          "execution_count": 19,
          "metadata": {},
          "output_type": "execute_result"
        }
      ],
      "source": [
        "df_salary.buyer_id.count()"
      ]
    },
    {
      "cell_type": "code",
      "execution_count": null,
      "id": "af11c7f1",
      "metadata": {
        "id": "af11c7f1",
        "outputId": "d079e0bc-1763-4ca0-f7cf-2481403ec7ff"
      },
      "outputs": [
        {
          "data": {
            "text/plain": [
              "2376710"
            ]
          },
          "execution_count": 17,
          "metadata": {},
          "output_type": "execute_result"
        }
      ],
      "source": [
        "df_salary.size"
      ]
    },
    {
      "cell_type": "markdown",
      "id": "51e051cf",
      "metadata": {
        "id": "51e051cf"
      },
      "source": [
        "2. How many columns in the sales dataset?(Just write the numbers)"
      ]
    },
    {
      "cell_type": "code",
      "execution_count": null,
      "id": "39608026",
      "metadata": {
        "id": "39608026",
        "outputId": "f0c0c1ed-c277-4bf4-9517-d9b41572ba89"
      },
      "outputs": [
        {
          "data": {
            "text/plain": [
              "Index(['buyer_id', 'buyer_country', 'seller_id', 'seller_country',\n",
              "       'product_code', 'category', 'brand', 'currency', 'price', 'date'],\n",
              "      dtype='object')"
            ]
          },
          "execution_count": 22,
          "metadata": {},
          "output_type": "execute_result"
        }
      ],
      "source": [
        "df_salary.columns"
      ]
    },
    {
      "cell_type": "code",
      "execution_count": null,
      "id": "f6a1bf78",
      "metadata": {
        "id": "f6a1bf78",
        "outputId": "0e7acdf3-4d0f-4178-9616-20f1bd452506"
      },
      "outputs": [
        {
          "data": {
            "text/plain": [
              "10"
            ]
          },
          "execution_count": 25,
          "metadata": {},
          "output_type": "execute_result"
        }
      ],
      "source": [
        "len(df_salary.columns)"
      ]
    },
    {
      "cell_type": "code",
      "execution_count": null,
      "id": "d9ab59c6",
      "metadata": {
        "id": "d9ab59c6",
        "outputId": "1e71ce36-640c-4c84-c4ee-eeeef2ef982b"
      },
      "outputs": [
        {
          "data": {
            "text/plain": [
              "(10,)"
            ]
          },
          "execution_count": 28,
          "metadata": {},
          "output_type": "execute_result"
        }
      ],
      "source": [
        "df_salary.columns.shape"
      ]
    },
    {
      "cell_type": "code",
      "execution_count": null,
      "id": "fea14508",
      "metadata": {
        "id": "fea14508",
        "outputId": "00274275-5c82-4f21-a4a8-33f34282d7ea"
      },
      "outputs": [
        {
          "data": {
            "text/plain": [
              "10"
            ]
          },
          "execution_count": 24,
          "metadata": {},
          "output_type": "execute_result"
        }
      ],
      "source": [
        "df_salary.columns.shape[0]"
      ]
    },
    {
      "cell_type": "code",
      "execution_count": null,
      "id": "a3655d49",
      "metadata": {
        "id": "a3655d49",
        "outputId": "ccbf6a2b-f616-4d8c-95ef-a1faf33e0e6a"
      },
      "outputs": [
        {
          "data": {
            "text/plain": [
              "10"
            ]
          },
          "execution_count": 26,
          "metadata": {},
          "output_type": "execute_result"
        }
      ],
      "source": [
        "df_salary.columns.size"
      ]
    },
    {
      "cell_type": "code",
      "execution_count": null,
      "id": "af2feafa",
      "metadata": {
        "id": "af2feafa",
        "outputId": "0ad75a40-d911-4671-d4f7-ac1dcb3f580b"
      },
      "outputs": [
        {
          "name": "stdout",
          "output_type": "stream",
          "text": [
            "<class 'pandas.core.frame.DataFrame'>\n",
            "RangeIndex: 237671 entries, 0 to 237670\n",
            "Data columns (total 10 columns):\n",
            " #   Column          Non-Null Count   Dtype  \n",
            "---  ------          --------------   -----  \n",
            " 0   buyer_id        237671 non-null  object \n",
            " 1   buyer_country   237671 non-null  object \n",
            " 2   seller_id       237671 non-null  object \n",
            " 3   seller_country  237671 non-null  object \n",
            " 4   product_code    237671 non-null  object \n",
            " 5   category        237655 non-null  object \n",
            " 6   brand           119330 non-null  object \n",
            " 7   currency        237671 non-null  object \n",
            " 8   price           237671 non-null  float64\n",
            " 9   date            237671 non-null  object \n",
            "dtypes: float64(1), object(9)\n",
            "memory usage: 18.1+ MB\n"
          ]
        }
      ],
      "source": [
        "df_salary.info()"
      ]
    },
    {
      "cell_type": "markdown",
      "id": "4b7dea46",
      "metadata": {
        "id": "4b7dea46"
      },
      "source": [
        "3. What is the total number of sellers?(Just write the numbers in the format of 000.000)"
      ]
    },
    {
      "cell_type": "code",
      "execution_count": null,
      "id": "4a6666ee",
      "metadata": {
        "id": "4a6666ee",
        "outputId": "02b6167f-026d-445a-c895-817a0e2a402e"
      },
      "outputs": [
        {
          "data": {
            "text/html": [
              "<div>\n",
              "<style scoped>\n",
              "    .dataframe tbody tr th:only-of-type {\n",
              "        vertical-align: middle;\n",
              "    }\n",
              "\n",
              "    .dataframe tbody tr th {\n",
              "        vertical-align: top;\n",
              "    }\n",
              "\n",
              "    .dataframe thead th {\n",
              "        text-align: right;\n",
              "    }\n",
              "</style>\n",
              "<table border=\"1\" class=\"dataframe\">\n",
              "  <thead>\n",
              "    <tr style=\"text-align: right;\">\n",
              "      <th></th>\n",
              "      <th>buyer_id</th>\n",
              "      <th>buyer_country</th>\n",
              "      <th>seller_id</th>\n",
              "      <th>seller_country</th>\n",
              "      <th>product_code</th>\n",
              "      <th>category</th>\n",
              "      <th>brand</th>\n",
              "      <th>currency</th>\n",
              "      <th>price</th>\n",
              "      <th>date</th>\n",
              "    </tr>\n",
              "  </thead>\n",
              "  <tbody>\n",
              "    <tr>\n",
              "      <th>0</th>\n",
              "      <td>qzpjsi9t0o</td>\n",
              "      <td>GB</td>\n",
              "      <td>6oufpaot</td>\n",
              "      <td>GB</td>\n",
              "      <td>ydecnydr6obf</td>\n",
              "      <td>Dresses</td>\n",
              "      <td>NaN</td>\n",
              "      <td>GBP</td>\n",
              "      <td>19.11</td>\n",
              "      <td>2020-08-03</td>\n",
              "    </tr>\n",
              "    <tr>\n",
              "      <th>1</th>\n",
              "      <td>o79pns1qwo</td>\n",
              "      <td>GB</td>\n",
              "      <td>50xki2yg</td>\n",
              "      <td>GB</td>\n",
              "      <td>38chj507o6h2</td>\n",
              "      <td>Outerwear</td>\n",
              "      <td>Adidas Originals</td>\n",
              "      <td>GBP</td>\n",
              "      <td>15.92</td>\n",
              "      <td>2020-08-09</td>\n",
              "    </tr>\n",
              "    <tr>\n",
              "      <th>2</th>\n",
              "      <td>sjgbjdkhqx</td>\n",
              "      <td>GB</td>\n",
              "      <td>50xki2yg</td>\n",
              "      <td>GB</td>\n",
              "      <td>i9ynyxj5tdp8</td>\n",
              "      <td>Tops - Mens</td>\n",
              "      <td>NaN</td>\n",
              "      <td>GBP</td>\n",
              "      <td>6.37</td>\n",
              "      <td>2020-08-07</td>\n",
              "    </tr>\n",
              "    <tr>\n",
              "      <th>3</th>\n",
              "      <td>o79pns1qwo</td>\n",
              "      <td>GB</td>\n",
              "      <td>s0p322hh</td>\n",
              "      <td>GB</td>\n",
              "      <td>t50xe7moye8v</td>\n",
              "      <td>Tops - Mens</td>\n",
              "      <td>Berghaus</td>\n",
              "      <td>GBP</td>\n",
              "      <td>25.27</td>\n",
              "      <td>2020-08-09</td>\n",
              "    </tr>\n",
              "    <tr>\n",
              "      <th>4</th>\n",
              "      <td>o79pns1qwo</td>\n",
              "      <td>GB</td>\n",
              "      <td>dpkx192v</td>\n",
              "      <td>GB</td>\n",
              "      <td>hp4r9bjq68af</td>\n",
              "      <td>Bottoms - Womens</td>\n",
              "      <td>NaN</td>\n",
              "      <td>GBP</td>\n",
              "      <td>8.90</td>\n",
              "      <td>2020-08-09</td>\n",
              "    </tr>\n",
              "    <tr>\n",
              "      <th>...</th>\n",
              "      <td>...</td>\n",
              "      <td>...</td>\n",
              "      <td>...</td>\n",
              "      <td>...</td>\n",
              "      <td>...</td>\n",
              "      <td>...</td>\n",
              "      <td>...</td>\n",
              "      <td>...</td>\n",
              "      <td>...</td>\n",
              "      <td>...</td>\n",
              "    </tr>\n",
              "    <tr>\n",
              "      <th>237666</th>\n",
              "      <td>p7ibf7soot</td>\n",
              "      <td>GB</td>\n",
              "      <td>ss7jy9ks</td>\n",
              "      <td>GB</td>\n",
              "      <td>hzc7pmjxmsb6</td>\n",
              "      <td>Bottoms - Womens</td>\n",
              "      <td>NaN</td>\n",
              "      <td>GBP</td>\n",
              "      <td>17.11</td>\n",
              "      <td>2020-08-06</td>\n",
              "    </tr>\n",
              "    <tr>\n",
              "      <th>237667</th>\n",
              "      <td>2hg8zirueq</td>\n",
              "      <td>US</td>\n",
              "      <td>bk6apusi</td>\n",
              "      <td>US</td>\n",
              "      <td>fskn84lfyrvz</td>\n",
              "      <td>Home</td>\n",
              "      <td>NaN</td>\n",
              "      <td>USD</td>\n",
              "      <td>69.00</td>\n",
              "      <td>2020-08-05</td>\n",
              "    </tr>\n",
              "    <tr>\n",
              "      <th>237668</th>\n",
              "      <td>k5hmcfxcs6</td>\n",
              "      <td>GB</td>\n",
              "      <td>n2ez0xph</td>\n",
              "      <td>GB</td>\n",
              "      <td>5afe7yhdpcmz</td>\n",
              "      <td>Other</td>\n",
              "      <td>NaN</td>\n",
              "      <td>GBP</td>\n",
              "      <td>58.28</td>\n",
              "      <td>2020-08-05</td>\n",
              "    </tr>\n",
              "    <tr>\n",
              "      <th>237669</th>\n",
              "      <td>ca8nc8qv1x</td>\n",
              "      <td>GB</td>\n",
              "      <td>j1s4nqxb</td>\n",
              "      <td>GB</td>\n",
              "      <td>ktdrjbrq0fo2</td>\n",
              "      <td>Shoes</td>\n",
              "      <td>NaN</td>\n",
              "      <td>GBP</td>\n",
              "      <td>9.46</td>\n",
              "      <td>2020-08-05</td>\n",
              "    </tr>\n",
              "    <tr>\n",
              "      <th>237670</th>\n",
              "      <td>z09h7w9zcd</td>\n",
              "      <td>US</td>\n",
              "      <td>0au7baxi</td>\n",
              "      <td>US</td>\n",
              "      <td>0r1qni2g1zi4</td>\n",
              "      <td>Other</td>\n",
              "      <td>NaN</td>\n",
              "      <td>USD</td>\n",
              "      <td>160.76</td>\n",
              "      <td>2020-08-06</td>\n",
              "    </tr>\n",
              "  </tbody>\n",
              "</table>\n",
              "<p>237671 rows × 10 columns</p>\n",
              "</div>"
            ],
            "text/plain": [
              "          buyer_id buyer_country seller_id seller_country  product_code  \\\n",
              "0       qzpjsi9t0o            GB  6oufpaot             GB  ydecnydr6obf   \n",
              "1       o79pns1qwo            GB  50xki2yg             GB  38chj507o6h2   \n",
              "2       sjgbjdkhqx            GB  50xki2yg             GB  i9ynyxj5tdp8   \n",
              "3       o79pns1qwo            GB  s0p322hh             GB  t50xe7moye8v   \n",
              "4       o79pns1qwo            GB  dpkx192v             GB  hp4r9bjq68af   \n",
              "...            ...           ...       ...            ...           ...   \n",
              "237666  p7ibf7soot            GB  ss7jy9ks             GB  hzc7pmjxmsb6   \n",
              "237667  2hg8zirueq            US  bk6apusi             US  fskn84lfyrvz   \n",
              "237668  k5hmcfxcs6            GB  n2ez0xph             GB  5afe7yhdpcmz   \n",
              "237669  ca8nc8qv1x            GB  j1s4nqxb             GB  ktdrjbrq0fo2   \n",
              "237670  z09h7w9zcd            US  0au7baxi             US  0r1qni2g1zi4   \n",
              "\n",
              "                category             brand currency   price        date  \n",
              "0                Dresses               NaN      GBP   19.11  2020-08-03  \n",
              "1              Outerwear  Adidas Originals      GBP   15.92  2020-08-09  \n",
              "2            Tops - Mens               NaN      GBP    6.37  2020-08-07  \n",
              "3            Tops - Mens          Berghaus      GBP   25.27  2020-08-09  \n",
              "4       Bottoms - Womens               NaN      GBP    8.90  2020-08-09  \n",
              "...                  ...               ...      ...     ...         ...  \n",
              "237666  Bottoms - Womens               NaN      GBP   17.11  2020-08-06  \n",
              "237667              Home               NaN      USD   69.00  2020-08-05  \n",
              "237668             Other               NaN      GBP   58.28  2020-08-05  \n",
              "237669             Shoes               NaN      GBP    9.46  2020-08-05  \n",
              "237670             Other               NaN      USD  160.76  2020-08-06  \n",
              "\n",
              "[237671 rows x 10 columns]"
            ]
          },
          "execution_count": 32,
          "metadata": {},
          "output_type": "execute_result"
        }
      ],
      "source": [
        "df_salary"
      ]
    },
    {
      "cell_type": "code",
      "execution_count": null,
      "id": "9170869d",
      "metadata": {
        "id": "9170869d",
        "outputId": "98a51faa-331c-4ed2-989d-c0fe774d01f1"
      },
      "outputs": [
        {
          "data": {
            "text/plain": [
              "114227"
            ]
          },
          "execution_count": 40,
          "metadata": {},
          "output_type": "execute_result"
        }
      ],
      "source": [
        "df_salary.seller_id.nunique()"
      ]
    },
    {
      "cell_type": "code",
      "execution_count": null,
      "id": "35cbec73",
      "metadata": {
        "id": "35cbec73",
        "outputId": "3eb4e89a-1b73-4eb5-df9e-38a9a2fca846"
      },
      "outputs": [
        {
          "data": {
            "text/plain": [
              "pzsiehl0    703\n",
              "wd3rgi3q    525\n",
              "j21w87xy    500\n",
              "dbm0o9qu    436\n",
              "hbtm3tdy    316\n",
              "           ... \n",
              "b79drc4f      1\n",
              "ivtfeqcd      1\n",
              "uvfzdgb4      1\n",
              "pbrox97s      1\n",
              "0au7baxi      1\n",
              "Name: seller_id, Length: 114227, dtype: int64"
            ]
          },
          "execution_count": 42,
          "metadata": {},
          "output_type": "execute_result"
        }
      ],
      "source": [
        "df_salary.seller_id.value_counts()"
      ]
    },
    {
      "cell_type": "code",
      "execution_count": null,
      "id": "4bb9ac61",
      "metadata": {
        "id": "4bb9ac61",
        "outputId": "723efe71-dded-4b11-c5e4-cb125f659bbf"
      },
      "outputs": [
        {
          "data": {
            "text/plain": [
              "array(['6oufpaot', '50xki2yg', 's0p322hh', ..., 'n2ez0xph', 'j1s4nqxb',\n",
              "       '0au7baxi'], dtype=object)"
            ]
          },
          "execution_count": 38,
          "metadata": {},
          "output_type": "execute_result"
        }
      ],
      "source": [
        "df_salary.seller_id.unique()"
      ]
    },
    {
      "cell_type": "code",
      "execution_count": null,
      "id": "f62c18f5",
      "metadata": {
        "id": "f62c18f5",
        "outputId": "da9c81bc-238e-40f9-f267-7880e3165339"
      },
      "outputs": [
        {
          "data": {
            "text/plain": [
              "114227"
            ]
          },
          "execution_count": 37,
          "metadata": {},
          "output_type": "execute_result"
        }
      ],
      "source": [
        "len(df_salary.seller_id.unique())"
      ]
    },
    {
      "cell_type": "code",
      "execution_count": null,
      "id": "a10ce21f",
      "metadata": {
        "id": "a10ce21f",
        "outputId": "5e526f54-8330-4f2a-e082-f6a3ae3db5d5"
      },
      "outputs": [
        {
          "data": {
            "text/plain": [
              "(114227,)"
            ]
          },
          "execution_count": 39,
          "metadata": {},
          "output_type": "execute_result"
        }
      ],
      "source": [
        "df_salary.seller_id.unique().shape"
      ]
    },
    {
      "cell_type": "markdown",
      "id": "7693493d",
      "metadata": {
        "id": "7693493d"
      },
      "source": [
        "4. What is the total value of sales in EUR?(Just write the numbers in the format of 0.000.000 )"
      ]
    },
    {
      "cell_type": "code",
      "execution_count": null,
      "id": "6ab70a46",
      "metadata": {
        "id": "6ab70a46",
        "outputId": "d77e728a-0eeb-4c27-f6a9-3e655e9e7683"
      },
      "outputs": [
        {
          "data": {
            "text/html": [
              "<div>\n",
              "<style scoped>\n",
              "    .dataframe tbody tr th:only-of-type {\n",
              "        vertical-align: middle;\n",
              "    }\n",
              "\n",
              "    .dataframe tbody tr th {\n",
              "        vertical-align: top;\n",
              "    }\n",
              "\n",
              "    .dataframe thead th {\n",
              "        text-align: right;\n",
              "    }\n",
              "</style>\n",
              "<table border=\"1\" class=\"dataframe\">\n",
              "  <thead>\n",
              "    <tr style=\"text-align: right;\">\n",
              "      <th></th>\n",
              "      <th>buyer_id</th>\n",
              "      <th>buyer_country</th>\n",
              "      <th>seller_id</th>\n",
              "      <th>seller_country</th>\n",
              "      <th>product_code</th>\n",
              "      <th>category</th>\n",
              "      <th>brand</th>\n",
              "      <th>currency</th>\n",
              "      <th>price</th>\n",
              "      <th>date</th>\n",
              "    </tr>\n",
              "  </thead>\n",
              "  <tbody>\n",
              "    <tr>\n",
              "      <th>0</th>\n",
              "      <td>qzpjsi9t0o</td>\n",
              "      <td>GB</td>\n",
              "      <td>6oufpaot</td>\n",
              "      <td>GB</td>\n",
              "      <td>ydecnydr6obf</td>\n",
              "      <td>Dresses</td>\n",
              "      <td>NaN</td>\n",
              "      <td>GBP</td>\n",
              "      <td>19.11</td>\n",
              "      <td>2020-08-03</td>\n",
              "    </tr>\n",
              "    <tr>\n",
              "      <th>1</th>\n",
              "      <td>o79pns1qwo</td>\n",
              "      <td>GB</td>\n",
              "      <td>50xki2yg</td>\n",
              "      <td>GB</td>\n",
              "      <td>38chj507o6h2</td>\n",
              "      <td>Outerwear</td>\n",
              "      <td>Adidas Originals</td>\n",
              "      <td>GBP</td>\n",
              "      <td>15.92</td>\n",
              "      <td>2020-08-09</td>\n",
              "    </tr>\n",
              "    <tr>\n",
              "      <th>2</th>\n",
              "      <td>sjgbjdkhqx</td>\n",
              "      <td>GB</td>\n",
              "      <td>50xki2yg</td>\n",
              "      <td>GB</td>\n",
              "      <td>i9ynyxj5tdp8</td>\n",
              "      <td>Tops - Mens</td>\n",
              "      <td>NaN</td>\n",
              "      <td>GBP</td>\n",
              "      <td>6.37</td>\n",
              "      <td>2020-08-07</td>\n",
              "    </tr>\n",
              "    <tr>\n",
              "      <th>3</th>\n",
              "      <td>o79pns1qwo</td>\n",
              "      <td>GB</td>\n",
              "      <td>s0p322hh</td>\n",
              "      <td>GB</td>\n",
              "      <td>t50xe7moye8v</td>\n",
              "      <td>Tops - Mens</td>\n",
              "      <td>Berghaus</td>\n",
              "      <td>GBP</td>\n",
              "      <td>25.27</td>\n",
              "      <td>2020-08-09</td>\n",
              "    </tr>\n",
              "    <tr>\n",
              "      <th>4</th>\n",
              "      <td>o79pns1qwo</td>\n",
              "      <td>GB</td>\n",
              "      <td>dpkx192v</td>\n",
              "      <td>GB</td>\n",
              "      <td>hp4r9bjq68af</td>\n",
              "      <td>Bottoms - Womens</td>\n",
              "      <td>NaN</td>\n",
              "      <td>GBP</td>\n",
              "      <td>8.90</td>\n",
              "      <td>2020-08-09</td>\n",
              "    </tr>\n",
              "    <tr>\n",
              "      <th>...</th>\n",
              "      <td>...</td>\n",
              "      <td>...</td>\n",
              "      <td>...</td>\n",
              "      <td>...</td>\n",
              "      <td>...</td>\n",
              "      <td>...</td>\n",
              "      <td>...</td>\n",
              "      <td>...</td>\n",
              "      <td>...</td>\n",
              "      <td>...</td>\n",
              "    </tr>\n",
              "    <tr>\n",
              "      <th>237666</th>\n",
              "      <td>p7ibf7soot</td>\n",
              "      <td>GB</td>\n",
              "      <td>ss7jy9ks</td>\n",
              "      <td>GB</td>\n",
              "      <td>hzc7pmjxmsb6</td>\n",
              "      <td>Bottoms - Womens</td>\n",
              "      <td>NaN</td>\n",
              "      <td>GBP</td>\n",
              "      <td>17.11</td>\n",
              "      <td>2020-08-06</td>\n",
              "    </tr>\n",
              "    <tr>\n",
              "      <th>237667</th>\n",
              "      <td>2hg8zirueq</td>\n",
              "      <td>US</td>\n",
              "      <td>bk6apusi</td>\n",
              "      <td>US</td>\n",
              "      <td>fskn84lfyrvz</td>\n",
              "      <td>Home</td>\n",
              "      <td>NaN</td>\n",
              "      <td>USD</td>\n",
              "      <td>69.00</td>\n",
              "      <td>2020-08-05</td>\n",
              "    </tr>\n",
              "    <tr>\n",
              "      <th>237668</th>\n",
              "      <td>k5hmcfxcs6</td>\n",
              "      <td>GB</td>\n",
              "      <td>n2ez0xph</td>\n",
              "      <td>GB</td>\n",
              "      <td>5afe7yhdpcmz</td>\n",
              "      <td>Other</td>\n",
              "      <td>NaN</td>\n",
              "      <td>GBP</td>\n",
              "      <td>58.28</td>\n",
              "      <td>2020-08-05</td>\n",
              "    </tr>\n",
              "    <tr>\n",
              "      <th>237669</th>\n",
              "      <td>ca8nc8qv1x</td>\n",
              "      <td>GB</td>\n",
              "      <td>j1s4nqxb</td>\n",
              "      <td>GB</td>\n",
              "      <td>ktdrjbrq0fo2</td>\n",
              "      <td>Shoes</td>\n",
              "      <td>NaN</td>\n",
              "      <td>GBP</td>\n",
              "      <td>9.46</td>\n",
              "      <td>2020-08-05</td>\n",
              "    </tr>\n",
              "    <tr>\n",
              "      <th>237670</th>\n",
              "      <td>z09h7w9zcd</td>\n",
              "      <td>US</td>\n",
              "      <td>0au7baxi</td>\n",
              "      <td>US</td>\n",
              "      <td>0r1qni2g1zi4</td>\n",
              "      <td>Other</td>\n",
              "      <td>NaN</td>\n",
              "      <td>USD</td>\n",
              "      <td>160.76</td>\n",
              "      <td>2020-08-06</td>\n",
              "    </tr>\n",
              "  </tbody>\n",
              "</table>\n",
              "<p>237671 rows × 10 columns</p>\n",
              "</div>"
            ],
            "text/plain": [
              "          buyer_id buyer_country seller_id seller_country  product_code  \\\n",
              "0       qzpjsi9t0o            GB  6oufpaot             GB  ydecnydr6obf   \n",
              "1       o79pns1qwo            GB  50xki2yg             GB  38chj507o6h2   \n",
              "2       sjgbjdkhqx            GB  50xki2yg             GB  i9ynyxj5tdp8   \n",
              "3       o79pns1qwo            GB  s0p322hh             GB  t50xe7moye8v   \n",
              "4       o79pns1qwo            GB  dpkx192v             GB  hp4r9bjq68af   \n",
              "...            ...           ...       ...            ...           ...   \n",
              "237666  p7ibf7soot            GB  ss7jy9ks             GB  hzc7pmjxmsb6   \n",
              "237667  2hg8zirueq            US  bk6apusi             US  fskn84lfyrvz   \n",
              "237668  k5hmcfxcs6            GB  n2ez0xph             GB  5afe7yhdpcmz   \n",
              "237669  ca8nc8qv1x            GB  j1s4nqxb             GB  ktdrjbrq0fo2   \n",
              "237670  z09h7w9zcd            US  0au7baxi             US  0r1qni2g1zi4   \n",
              "\n",
              "                category             brand currency   price        date  \n",
              "0                Dresses               NaN      GBP   19.11  2020-08-03  \n",
              "1              Outerwear  Adidas Originals      GBP   15.92  2020-08-09  \n",
              "2            Tops - Mens               NaN      GBP    6.37  2020-08-07  \n",
              "3            Tops - Mens          Berghaus      GBP   25.27  2020-08-09  \n",
              "4       Bottoms - Womens               NaN      GBP    8.90  2020-08-09  \n",
              "...                  ...               ...      ...     ...         ...  \n",
              "237666  Bottoms - Womens               NaN      GBP   17.11  2020-08-06  \n",
              "237667              Home               NaN      USD   69.00  2020-08-05  \n",
              "237668             Other               NaN      GBP   58.28  2020-08-05  \n",
              "237669             Shoes               NaN      GBP    9.46  2020-08-05  \n",
              "237670             Other               NaN      USD  160.76  2020-08-06  \n",
              "\n",
              "[237671 rows x 10 columns]"
            ]
          },
          "execution_count": 41,
          "metadata": {},
          "output_type": "execute_result"
        }
      ],
      "source": [
        "df_salary"
      ]
    },
    {
      "cell_type": "code",
      "execution_count": null,
      "id": "e3af7a6b",
      "metadata": {
        "id": "e3af7a6b",
        "outputId": "290d666f-4665-4c21-f2c4-7d9044ced8f9"
      },
      "outputs": [
        {
          "data": {
            "text/html": [
              "<div>\n",
              "<style scoped>\n",
              "    .dataframe tbody tr th:only-of-type {\n",
              "        vertical-align: middle;\n",
              "    }\n",
              "\n",
              "    .dataframe tbody tr th {\n",
              "        vertical-align: top;\n",
              "    }\n",
              "\n",
              "    .dataframe thead th {\n",
              "        text-align: right;\n",
              "    }\n",
              "</style>\n",
              "<table border=\"1\" class=\"dataframe\">\n",
              "  <thead>\n",
              "    <tr style=\"text-align: right;\">\n",
              "      <th></th>\n",
              "      <th>currency</th>\n",
              "      <th>date</th>\n",
              "      <th>rate</th>\n",
              "    </tr>\n",
              "  </thead>\n",
              "  <tbody>\n",
              "    <tr>\n",
              "      <th>0</th>\n",
              "      <td>EUR</td>\n",
              "      <td>8/1/2020</td>\n",
              "      <td>1.0000</td>\n",
              "    </tr>\n",
              "    <tr>\n",
              "      <th>1</th>\n",
              "      <td>EUR</td>\n",
              "      <td>8/2/2020</td>\n",
              "      <td>1.0000</td>\n",
              "    </tr>\n",
              "    <tr>\n",
              "      <th>2</th>\n",
              "      <td>EUR</td>\n",
              "      <td>8/3/2020</td>\n",
              "      <td>1.0000</td>\n",
              "    </tr>\n",
              "    <tr>\n",
              "      <th>3</th>\n",
              "      <td>EUR</td>\n",
              "      <td>8/4/2020</td>\n",
              "      <td>1.0000</td>\n",
              "    </tr>\n",
              "    <tr>\n",
              "      <th>4</th>\n",
              "      <td>EUR</td>\n",
              "      <td>8/5/2020</td>\n",
              "      <td>1.0000</td>\n",
              "    </tr>\n",
              "    <tr>\n",
              "      <th>...</th>\n",
              "      <td>...</td>\n",
              "      <td>...</td>\n",
              "      <td>...</td>\n",
              "    </tr>\n",
              "    <tr>\n",
              "      <th>215</th>\n",
              "      <td>BRL</td>\n",
              "      <td>8/6/2020</td>\n",
              "      <td>6.3324</td>\n",
              "    </tr>\n",
              "    <tr>\n",
              "      <th>216</th>\n",
              "      <td>BRL</td>\n",
              "      <td>8/7/2020</td>\n",
              "      <td>6.4111</td>\n",
              "    </tr>\n",
              "    <tr>\n",
              "      <th>217</th>\n",
              "      <td>BRL</td>\n",
              "      <td>8/8/2020</td>\n",
              "      <td>6.4111</td>\n",
              "    </tr>\n",
              "    <tr>\n",
              "      <th>218</th>\n",
              "      <td>BRL</td>\n",
              "      <td>8/9/2020</td>\n",
              "      <td>6.4111</td>\n",
              "    </tr>\n",
              "    <tr>\n",
              "      <th>219</th>\n",
              "      <td>BRL</td>\n",
              "      <td>8/10/2020</td>\n",
              "      <td>6.4351</td>\n",
              "    </tr>\n",
              "  </tbody>\n",
              "</table>\n",
              "<p>220 rows × 3 columns</p>\n",
              "</div>"
            ],
            "text/plain": [
              "    currency       date    rate\n",
              "0        EUR   8/1/2020  1.0000\n",
              "1        EUR   8/2/2020  1.0000\n",
              "2        EUR   8/3/2020  1.0000\n",
              "3        EUR   8/4/2020  1.0000\n",
              "4        EUR   8/5/2020  1.0000\n",
              "..       ...        ...     ...\n",
              "215      BRL   8/6/2020  6.3324\n",
              "216      BRL   8/7/2020  6.4111\n",
              "217      BRL   8/8/2020  6.4111\n",
              "218      BRL   8/9/2020  6.4111\n",
              "219      BRL  8/10/2020  6.4351\n",
              "\n",
              "[220 rows x 3 columns]"
            ]
          },
          "execution_count": 43,
          "metadata": {},
          "output_type": "execute_result"
        }
      ],
      "source": [
        "df_currency"
      ]
    },
    {
      "cell_type": "code",
      "execution_count": null,
      "id": "df69d8c0",
      "metadata": {
        "id": "df69d8c0",
        "outputId": "d686e5cd-2bd6-4375-f229-63de56a3c495"
      },
      "outputs": [
        {
          "data": {
            "text/html": [
              "<div>\n",
              "<style scoped>\n",
              "    .dataframe tbody tr th:only-of-type {\n",
              "        vertical-align: middle;\n",
              "    }\n",
              "\n",
              "    .dataframe tbody tr th {\n",
              "        vertical-align: top;\n",
              "    }\n",
              "\n",
              "    .dataframe thead th {\n",
              "        text-align: right;\n",
              "    }\n",
              "</style>\n",
              "<table border=\"1\" class=\"dataframe\">\n",
              "  <thead>\n",
              "    <tr style=\"text-align: right;\">\n",
              "      <th></th>\n",
              "      <th>buyer_id</th>\n",
              "      <th>buyer_country</th>\n",
              "      <th>seller_id</th>\n",
              "      <th>seller_country</th>\n",
              "      <th>product_code</th>\n",
              "      <th>category</th>\n",
              "      <th>brand</th>\n",
              "      <th>currency</th>\n",
              "      <th>price</th>\n",
              "      <th>date</th>\n",
              "      <th>rate</th>\n",
              "    </tr>\n",
              "  </thead>\n",
              "  <tbody>\n",
              "  </tbody>\n",
              "</table>\n",
              "</div>"
            ],
            "text/plain": [
              "Empty DataFrame\n",
              "Columns: [buyer_id, buyer_country, seller_id, seller_country, product_code, category, brand, currency, price, date, rate]\n",
              "Index: []"
            ]
          },
          "execution_count": 47,
          "metadata": {},
          "output_type": "execute_result"
        }
      ],
      "source": [
        "df = pd.merge(left=df_salary, right=df_currency, on=['currency', 'date'])\n",
        "df"
      ]
    },
    {
      "cell_type": "code",
      "execution_count": null,
      "id": "147e7e07",
      "metadata": {
        "id": "147e7e07",
        "outputId": "b96f5f38-e071-40d9-b5bf-529809018707"
      },
      "outputs": [
        {
          "data": {
            "text/plain": [
              "Timestamp('2000-03-11 00:00:00')"
            ]
          },
          "execution_count": 48,
          "metadata": {},
          "output_type": "execute_result"
        }
      ],
      "source": [
        "pd.to_datetime('3/11/2000')"
      ]
    },
    {
      "cell_type": "code",
      "execution_count": null,
      "id": "5dc13a7b",
      "metadata": {
        "id": "5dc13a7b",
        "outputId": "493aadfd-fca2-4098-f416-ac292cdcdd7e"
      },
      "outputs": [
        {
          "data": {
            "text/plain": [
              "Timestamp('2020-08-03 00:00:00')"
            ]
          },
          "execution_count": 49,
          "metadata": {},
          "output_type": "execute_result"
        }
      ],
      "source": [
        "pd.to_datetime('2020-08-03')"
      ]
    },
    {
      "cell_type": "code",
      "execution_count": null,
      "id": "393bf56d",
      "metadata": {
        "id": "393bf56d",
        "outputId": "c6f32d4a-84cb-4a53-b268-b0a6884c2650"
      },
      "outputs": [
        {
          "name": "stdout",
          "output_type": "stream",
          "text": [
            "<class 'pandas.core.frame.DataFrame'>\n",
            "RangeIndex: 237671 entries, 0 to 237670\n",
            "Data columns (total 10 columns):\n",
            " #   Column          Non-Null Count   Dtype  \n",
            "---  ------          --------------   -----  \n",
            " 0   buyer_id        237671 non-null  object \n",
            " 1   buyer_country   237671 non-null  object \n",
            " 2   seller_id       237671 non-null  object \n",
            " 3   seller_country  237671 non-null  object \n",
            " 4   product_code    237671 non-null  object \n",
            " 5   category        237655 non-null  object \n",
            " 6   brand           119330 non-null  object \n",
            " 7   currency        237671 non-null  object \n",
            " 8   price           237671 non-null  float64\n",
            " 9   date            237671 non-null  object \n",
            "dtypes: float64(1), object(9)\n",
            "memory usage: 18.1+ MB\n"
          ]
        }
      ],
      "source": [
        "df_salary.info()"
      ]
    },
    {
      "cell_type": "code",
      "execution_count": null,
      "id": "760faa3f",
      "metadata": {
        "id": "760faa3f",
        "outputId": "e6c39bda-7338-4965-c98e-67877f9a8049"
      },
      "outputs": [
        {
          "data": {
            "text/plain": [
              "dtype('O')"
            ]
          },
          "execution_count": 55,
          "metadata": {},
          "output_type": "execute_result"
        }
      ],
      "source": [
        "df_salary.date.dtype"
      ]
    },
    {
      "cell_type": "code",
      "execution_count": null,
      "id": "8edb61b0",
      "metadata": {
        "id": "8edb61b0",
        "outputId": "8771bd1c-a019-43e4-8807-4af984511b86"
      },
      "outputs": [
        {
          "name": "stdout",
          "output_type": "stream",
          "text": [
            "<class 'pandas.core.frame.DataFrame'>\n",
            "RangeIndex: 220 entries, 0 to 219\n",
            "Data columns (total 3 columns):\n",
            " #   Column    Non-Null Count  Dtype  \n",
            "---  ------    --------------  -----  \n",
            " 0   currency  220 non-null    object \n",
            " 1   date      220 non-null    object \n",
            " 2   rate      220 non-null    float64\n",
            "dtypes: float64(1), object(2)\n",
            "memory usage: 5.3+ KB\n"
          ]
        }
      ],
      "source": [
        "df_currency.info()"
      ]
    },
    {
      "cell_type": "code",
      "execution_count": null,
      "id": "3d19edd2",
      "metadata": {
        "id": "3d19edd2",
        "outputId": "eba1f6ea-241c-4dd5-b53f-34a995a06ea5"
      },
      "outputs": [
        {
          "data": {
            "text/plain": [
              "dtype('O')"
            ]
          },
          "execution_count": 61,
          "metadata": {},
          "output_type": "execute_result"
        }
      ],
      "source": [
        "df_currency.date.dtype"
      ]
    },
    {
      "cell_type": "code",
      "execution_count": null,
      "id": "caa9d809",
      "metadata": {
        "id": "caa9d809",
        "outputId": "a1a7d055-d276-408e-da08-93bbe74c64e0"
      },
      "outputs": [
        {
          "data": {
            "text/plain": [
              "str"
            ]
          },
          "execution_count": 60,
          "metadata": {},
          "output_type": "execute_result"
        }
      ],
      "source": [
        "type(df_currency.date[0])"
      ]
    },
    {
      "cell_type": "code",
      "execution_count": null,
      "id": "ebbd1332",
      "metadata": {
        "id": "ebbd1332"
      },
      "outputs": [],
      "source": [
        "df_salary['date'] = pd.to_datetime(df_salary.date)"
      ]
    },
    {
      "cell_type": "code",
      "execution_count": null,
      "id": "74199684",
      "metadata": {
        "id": "74199684"
      },
      "outputs": [],
      "source": [
        "df_currency['date'] = pd.to_datetime(df_currency.date)"
      ]
    },
    {
      "cell_type": "code",
      "execution_count": null,
      "id": "d0fc2f0a",
      "metadata": {
        "id": "d0fc2f0a",
        "outputId": "c3cf65c7-3e0e-42b2-d9ee-6829366b8366"
      },
      "outputs": [
        {
          "data": {
            "text/html": [
              "<div>\n",
              "<style scoped>\n",
              "    .dataframe tbody tr th:only-of-type {\n",
              "        vertical-align: middle;\n",
              "    }\n",
              "\n",
              "    .dataframe tbody tr th {\n",
              "        vertical-align: top;\n",
              "    }\n",
              "\n",
              "    .dataframe thead th {\n",
              "        text-align: right;\n",
              "    }\n",
              "</style>\n",
              "<table border=\"1\" class=\"dataframe\">\n",
              "  <thead>\n",
              "    <tr style=\"text-align: right;\">\n",
              "      <th></th>\n",
              "      <th>buyer_id</th>\n",
              "      <th>buyer_country</th>\n",
              "      <th>seller_id</th>\n",
              "      <th>seller_country</th>\n",
              "      <th>product_code</th>\n",
              "      <th>category</th>\n",
              "      <th>brand</th>\n",
              "      <th>currency</th>\n",
              "      <th>price</th>\n",
              "      <th>date</th>\n",
              "      <th>rate</th>\n",
              "    </tr>\n",
              "  </thead>\n",
              "  <tbody>\n",
              "    <tr>\n",
              "      <th>0</th>\n",
              "      <td>qzpjsi9t0o</td>\n",
              "      <td>GB</td>\n",
              "      <td>6oufpaot</td>\n",
              "      <td>GB</td>\n",
              "      <td>ydecnydr6obf</td>\n",
              "      <td>Dresses</td>\n",
              "      <td>NaN</td>\n",
              "      <td>GBP</td>\n",
              "      <td>19.11</td>\n",
              "      <td>2020-08-03</td>\n",
              "      <td>0.89935</td>\n",
              "    </tr>\n",
              "    <tr>\n",
              "      <th>1</th>\n",
              "      <td>rd209r8c7c</td>\n",
              "      <td>GB</td>\n",
              "      <td>9p2ansc9</td>\n",
              "      <td>GB</td>\n",
              "      <td>wpxxf59cq7pc</td>\n",
              "      <td>Outerwear - Mens</td>\n",
              "      <td>Adidas Originals</td>\n",
              "      <td>GBP</td>\n",
              "      <td>24.91</td>\n",
              "      <td>2020-08-03</td>\n",
              "      <td>0.89935</td>\n",
              "    </tr>\n",
              "    <tr>\n",
              "      <th>2</th>\n",
              "      <td>pqbcrl8azx</td>\n",
              "      <td>GB</td>\n",
              "      <td>r9zmzem8</td>\n",
              "      <td>GB</td>\n",
              "      <td>ua9mmn86wsqy</td>\n",
              "      <td>Tops - Womens</td>\n",
              "      <td>NaN</td>\n",
              "      <td>GBP</td>\n",
              "      <td>19.31</td>\n",
              "      <td>2020-08-03</td>\n",
              "      <td>0.89935</td>\n",
              "    </tr>\n",
              "    <tr>\n",
              "      <th>3</th>\n",
              "      <td>j5en1rwmxp</td>\n",
              "      <td>GB</td>\n",
              "      <td>3o2nz88r</td>\n",
              "      <td>GB</td>\n",
              "      <td>tduo2uy8iszl</td>\n",
              "      <td>Bottoms - Womens</td>\n",
              "      <td>Urban Outfitters</td>\n",
              "      <td>GBP</td>\n",
              "      <td>16.98</td>\n",
              "      <td>2020-08-03</td>\n",
              "      <td>0.89935</td>\n",
              "    </tr>\n",
              "    <tr>\n",
              "      <th>4</th>\n",
              "      <td>kjdezxeh1l</td>\n",
              "      <td>GB</td>\n",
              "      <td>7g56ublf</td>\n",
              "      <td>GB</td>\n",
              "      <td>39o00tcu89zq</td>\n",
              "      <td>Other</td>\n",
              "      <td>NaN</td>\n",
              "      <td>GBP</td>\n",
              "      <td>2.85</td>\n",
              "      <td>2020-08-03</td>\n",
              "      <td>0.89935</td>\n",
              "    </tr>\n",
              "    <tr>\n",
              "      <th>...</th>\n",
              "      <td>...</td>\n",
              "      <td>...</td>\n",
              "      <td>...</td>\n",
              "      <td>...</td>\n",
              "      <td>...</td>\n",
              "      <td>...</td>\n",
              "      <td>...</td>\n",
              "      <td>...</td>\n",
              "      <td>...</td>\n",
              "      <td>...</td>\n",
              "      <td>...</td>\n",
              "    </tr>\n",
              "    <tr>\n",
              "      <th>237666</th>\n",
              "      <td>d7dx6f3qv7</td>\n",
              "      <td>RoW</td>\n",
              "      <td>e2p108mu</td>\n",
              "      <td>RoW</td>\n",
              "      <td>nan9a4p10ayk</td>\n",
              "      <td>Tops - Mens</td>\n",
              "      <td>NaN</td>\n",
              "      <td>PLN</td>\n",
              "      <td>4.24</td>\n",
              "      <td>2020-08-04</td>\n",
              "      <td>4.39693</td>\n",
              "    </tr>\n",
              "    <tr>\n",
              "      <th>237667</th>\n",
              "      <td>iaf2ck3rj6</td>\n",
              "      <td>IT</td>\n",
              "      <td>gjb1qntq</td>\n",
              "      <td>RoW</td>\n",
              "      <td>lxj477q1hab2</td>\n",
              "      <td>Accessories</td>\n",
              "      <td>NaN</td>\n",
              "      <td>CZK</td>\n",
              "      <td>3923.18</td>\n",
              "      <td>2020-08-04</td>\n",
              "      <td>26.12360</td>\n",
              "    </tr>\n",
              "    <tr>\n",
              "      <th>237668</th>\n",
              "      <td>tucgt70cwc</td>\n",
              "      <td>AU</td>\n",
              "      <td>9adnlxvr</td>\n",
              "      <td>RoW</td>\n",
              "      <td>2g0g0obhwjuc</td>\n",
              "      <td>Jewellery</td>\n",
              "      <td>NaN</td>\n",
              "      <td>PLN</td>\n",
              "      <td>525.82</td>\n",
              "      <td>2020-08-09</td>\n",
              "      <td>4.41427</td>\n",
              "    </tr>\n",
              "    <tr>\n",
              "      <th>237669</th>\n",
              "      <td>rrfjxzbdxu</td>\n",
              "      <td>US</td>\n",
              "      <td>w2pozh7u</td>\n",
              "      <td>US</td>\n",
              "      <td>5mm5eg99xbu2</td>\n",
              "      <td>Bottoms - Womens</td>\n",
              "      <td>Brandy Melville</td>\n",
              "      <td>BRL</td>\n",
              "      <td>34.92</td>\n",
              "      <td>2020-08-06</td>\n",
              "      <td>6.33240</td>\n",
              "    </tr>\n",
              "    <tr>\n",
              "      <th>237670</th>\n",
              "      <td>wnmihth4io</td>\n",
              "      <td>GB</td>\n",
              "      <td>5yogzc17</td>\n",
              "      <td>RoW</td>\n",
              "      <td>wrgq88ujwh5d</td>\n",
              "      <td>Bottoms - Womens</td>\n",
              "      <td>NaN</td>\n",
              "      <td>NOK</td>\n",
              "      <td>533.06</td>\n",
              "      <td>2020-08-08</td>\n",
              "      <td>10.64540</td>\n",
              "    </tr>\n",
              "  </tbody>\n",
              "</table>\n",
              "<p>237671 rows × 11 columns</p>\n",
              "</div>"
            ],
            "text/plain": [
              "          buyer_id buyer_country seller_id seller_country  product_code  \\\n",
              "0       qzpjsi9t0o            GB  6oufpaot             GB  ydecnydr6obf   \n",
              "1       rd209r8c7c            GB  9p2ansc9             GB  wpxxf59cq7pc   \n",
              "2       pqbcrl8azx            GB  r9zmzem8             GB  ua9mmn86wsqy   \n",
              "3       j5en1rwmxp            GB  3o2nz88r             GB  tduo2uy8iszl   \n",
              "4       kjdezxeh1l            GB  7g56ublf             GB  39o00tcu89zq   \n",
              "...            ...           ...       ...            ...           ...   \n",
              "237666  d7dx6f3qv7           RoW  e2p108mu            RoW  nan9a4p10ayk   \n",
              "237667  iaf2ck3rj6            IT  gjb1qntq            RoW  lxj477q1hab2   \n",
              "237668  tucgt70cwc            AU  9adnlxvr            RoW  2g0g0obhwjuc   \n",
              "237669  rrfjxzbdxu            US  w2pozh7u             US  5mm5eg99xbu2   \n",
              "237670  wnmihth4io            GB  5yogzc17            RoW  wrgq88ujwh5d   \n",
              "\n",
              "                category             brand currency    price       date  \\\n",
              "0                Dresses               NaN      GBP    19.11 2020-08-03   \n",
              "1       Outerwear - Mens  Adidas Originals      GBP    24.91 2020-08-03   \n",
              "2          Tops - Womens               NaN      GBP    19.31 2020-08-03   \n",
              "3       Bottoms - Womens  Urban Outfitters      GBP    16.98 2020-08-03   \n",
              "4                  Other               NaN      GBP     2.85 2020-08-03   \n",
              "...                  ...               ...      ...      ...        ...   \n",
              "237666       Tops - Mens               NaN      PLN     4.24 2020-08-04   \n",
              "237667       Accessories               NaN      CZK  3923.18 2020-08-04   \n",
              "237668         Jewellery               NaN      PLN   525.82 2020-08-09   \n",
              "237669  Bottoms - Womens   Brandy Melville      BRL    34.92 2020-08-06   \n",
              "237670  Bottoms - Womens               NaN      NOK   533.06 2020-08-08   \n",
              "\n",
              "            rate  \n",
              "0        0.89935  \n",
              "1        0.89935  \n",
              "2        0.89935  \n",
              "3        0.89935  \n",
              "4        0.89935  \n",
              "...          ...  \n",
              "237666   4.39693  \n",
              "237667  26.12360  \n",
              "237668   4.41427  \n",
              "237669   6.33240  \n",
              "237670  10.64540  \n",
              "\n",
              "[237671 rows x 11 columns]"
            ]
          },
          "execution_count": 64,
          "metadata": {},
          "output_type": "execute_result"
        }
      ],
      "source": [
        "df = pd.merge(left=df_salary, right=df_currency, on=['currency', 'date'])\n",
        "df"
      ]
    },
    {
      "cell_type": "code",
      "execution_count": null,
      "id": "acc0cc40",
      "metadata": {
        "id": "acc0cc40",
        "outputId": "e3c85a58-5455-4875-b174-c481b8f081df"
      },
      "outputs": [
        {
          "name": "stdout",
          "output_type": "stream",
          "text": [
            "<class 'pandas.core.frame.DataFrame'>\n",
            "Int64Index: 237671 entries, 0 to 237670\n",
            "Data columns (total 11 columns):\n",
            " #   Column          Non-Null Count   Dtype         \n",
            "---  ------          --------------   -----         \n",
            " 0   buyer_id        237671 non-null  object        \n",
            " 1   buyer_country   237671 non-null  object        \n",
            " 2   seller_id       237671 non-null  object        \n",
            " 3   seller_country  237671 non-null  object        \n",
            " 4   product_code    237671 non-null  object        \n",
            " 5   category        237655 non-null  object        \n",
            " 6   brand           119330 non-null  object        \n",
            " 7   currency        237671 non-null  object        \n",
            " 8   price           237671 non-null  float64       \n",
            " 9   date            237671 non-null  datetime64[ns]\n",
            " 10  rate            237671 non-null  float64       \n",
            "dtypes: datetime64[ns](1), float64(2), object(8)\n",
            "memory usage: 21.8+ MB\n"
          ]
        }
      ],
      "source": [
        "df.info()"
      ]
    },
    {
      "cell_type": "code",
      "execution_count": null,
      "id": "1e6d41c6",
      "metadata": {
        "id": "1e6d41c6",
        "outputId": "a5569782-bb53-4942-8b8f-878a39132077"
      },
      "outputs": [
        {
          "data": {
            "text/html": [
              "<div>\n",
              "<style scoped>\n",
              "    .dataframe tbody tr th:only-of-type {\n",
              "        vertical-align: middle;\n",
              "    }\n",
              "\n",
              "    .dataframe tbody tr th {\n",
              "        vertical-align: top;\n",
              "    }\n",
              "\n",
              "    .dataframe thead th {\n",
              "        text-align: right;\n",
              "    }\n",
              "</style>\n",
              "<table border=\"1\" class=\"dataframe\">\n",
              "  <thead>\n",
              "    <tr style=\"text-align: right;\">\n",
              "      <th></th>\n",
              "      <th>currency</th>\n",
              "      <th>date</th>\n",
              "      <th>rate</th>\n",
              "    </tr>\n",
              "  </thead>\n",
              "  <tbody>\n",
              "    <tr>\n",
              "      <th>0</th>\n",
              "      <td>EUR</td>\n",
              "      <td>2020-08-01</td>\n",
              "      <td>1.0</td>\n",
              "    </tr>\n",
              "    <tr>\n",
              "      <th>1</th>\n",
              "      <td>EUR</td>\n",
              "      <td>2020-08-02</td>\n",
              "      <td>1.0</td>\n",
              "    </tr>\n",
              "    <tr>\n",
              "      <th>2</th>\n",
              "      <td>EUR</td>\n",
              "      <td>2020-08-03</td>\n",
              "      <td>1.0</td>\n",
              "    </tr>\n",
              "    <tr>\n",
              "      <th>3</th>\n",
              "      <td>EUR</td>\n",
              "      <td>2020-08-04</td>\n",
              "      <td>1.0</td>\n",
              "    </tr>\n",
              "    <tr>\n",
              "      <th>4</th>\n",
              "      <td>EUR</td>\n",
              "      <td>2020-08-05</td>\n",
              "      <td>1.0</td>\n",
              "    </tr>\n",
              "    <tr>\n",
              "      <th>5</th>\n",
              "      <td>EUR</td>\n",
              "      <td>2020-08-06</td>\n",
              "      <td>1.0</td>\n",
              "    </tr>\n",
              "    <tr>\n",
              "      <th>6</th>\n",
              "      <td>EUR</td>\n",
              "      <td>2020-08-07</td>\n",
              "      <td>1.0</td>\n",
              "    </tr>\n",
              "    <tr>\n",
              "      <th>7</th>\n",
              "      <td>EUR</td>\n",
              "      <td>2020-08-08</td>\n",
              "      <td>1.0</td>\n",
              "    </tr>\n",
              "    <tr>\n",
              "      <th>8</th>\n",
              "      <td>EUR</td>\n",
              "      <td>2020-08-09</td>\n",
              "      <td>1.0</td>\n",
              "    </tr>\n",
              "    <tr>\n",
              "      <th>9</th>\n",
              "      <td>EUR</td>\n",
              "      <td>2020-08-10</td>\n",
              "      <td>1.0</td>\n",
              "    </tr>\n",
              "  </tbody>\n",
              "</table>\n",
              "</div>"
            ],
            "text/plain": [
              "  currency       date  rate\n",
              "0      EUR 2020-08-01   1.0\n",
              "1      EUR 2020-08-02   1.0\n",
              "2      EUR 2020-08-03   1.0\n",
              "3      EUR 2020-08-04   1.0\n",
              "4      EUR 2020-08-05   1.0\n",
              "5      EUR 2020-08-06   1.0\n",
              "6      EUR 2020-08-07   1.0\n",
              "7      EUR 2020-08-08   1.0\n",
              "8      EUR 2020-08-09   1.0\n",
              "9      EUR 2020-08-10   1.0"
            ]
          },
          "execution_count": 69,
          "metadata": {},
          "output_type": "execute_result"
        }
      ],
      "source": [
        "df_currency.head(10)"
      ]
    },
    {
      "cell_type": "code",
      "execution_count": null,
      "id": "b83ac067",
      "metadata": {
        "id": "b83ac067",
        "outputId": "5336de2c-9ef0-4add-8882-3f68216c168f"
      },
      "outputs": [
        {
          "data": {
            "text/html": [
              "<div>\n",
              "<style scoped>\n",
              "    .dataframe tbody tr th:only-of-type {\n",
              "        vertical-align: middle;\n",
              "    }\n",
              "\n",
              "    .dataframe tbody tr th {\n",
              "        vertical-align: top;\n",
              "    }\n",
              "\n",
              "    .dataframe thead th {\n",
              "        text-align: right;\n",
              "    }\n",
              "</style>\n",
              "<table border=\"1\" class=\"dataframe\">\n",
              "  <thead>\n",
              "    <tr style=\"text-align: right;\">\n",
              "      <th></th>\n",
              "      <th>buyer_id</th>\n",
              "      <th>buyer_country</th>\n",
              "      <th>seller_id</th>\n",
              "      <th>seller_country</th>\n",
              "      <th>product_code</th>\n",
              "      <th>category</th>\n",
              "      <th>brand</th>\n",
              "      <th>currency</th>\n",
              "      <th>price</th>\n",
              "      <th>date</th>\n",
              "      <th>rate</th>\n",
              "      <th>sales</th>\n",
              "    </tr>\n",
              "  </thead>\n",
              "  <tbody>\n",
              "    <tr>\n",
              "      <th>0</th>\n",
              "      <td>qzpjsi9t0o</td>\n",
              "      <td>GB</td>\n",
              "      <td>6oufpaot</td>\n",
              "      <td>GB</td>\n",
              "      <td>ydecnydr6obf</td>\n",
              "      <td>Dresses</td>\n",
              "      <td>NaN</td>\n",
              "      <td>GBP</td>\n",
              "      <td>19.11</td>\n",
              "      <td>2020-08-03</td>\n",
              "      <td>0.89935</td>\n",
              "      <td>21.248680</td>\n",
              "    </tr>\n",
              "    <tr>\n",
              "      <th>1</th>\n",
              "      <td>rd209r8c7c</td>\n",
              "      <td>GB</td>\n",
              "      <td>9p2ansc9</td>\n",
              "      <td>GB</td>\n",
              "      <td>wpxxf59cq7pc</td>\n",
              "      <td>Outerwear - Mens</td>\n",
              "      <td>Adidas Originals</td>\n",
              "      <td>GBP</td>\n",
              "      <td>24.91</td>\n",
              "      <td>2020-08-03</td>\n",
              "      <td>0.89935</td>\n",
              "      <td>27.697782</td>\n",
              "    </tr>\n",
              "    <tr>\n",
              "      <th>2</th>\n",
              "      <td>pqbcrl8azx</td>\n",
              "      <td>GB</td>\n",
              "      <td>r9zmzem8</td>\n",
              "      <td>GB</td>\n",
              "      <td>ua9mmn86wsqy</td>\n",
              "      <td>Tops - Womens</td>\n",
              "      <td>NaN</td>\n",
              "      <td>GBP</td>\n",
              "      <td>19.31</td>\n",
              "      <td>2020-08-03</td>\n",
              "      <td>0.89935</td>\n",
              "      <td>21.471062</td>\n",
              "    </tr>\n",
              "    <tr>\n",
              "      <th>3</th>\n",
              "      <td>j5en1rwmxp</td>\n",
              "      <td>GB</td>\n",
              "      <td>3o2nz88r</td>\n",
              "      <td>GB</td>\n",
              "      <td>tduo2uy8iszl</td>\n",
              "      <td>Bottoms - Womens</td>\n",
              "      <td>Urban Outfitters</td>\n",
              "      <td>GBP</td>\n",
              "      <td>16.98</td>\n",
              "      <td>2020-08-03</td>\n",
              "      <td>0.89935</td>\n",
              "      <td>18.880302</td>\n",
              "    </tr>\n",
              "    <tr>\n",
              "      <th>4</th>\n",
              "      <td>kjdezxeh1l</td>\n",
              "      <td>GB</td>\n",
              "      <td>7g56ublf</td>\n",
              "      <td>GB</td>\n",
              "      <td>39o00tcu89zq</td>\n",
              "      <td>Other</td>\n",
              "      <td>NaN</td>\n",
              "      <td>GBP</td>\n",
              "      <td>2.85</td>\n",
              "      <td>2020-08-03</td>\n",
              "      <td>0.89935</td>\n",
              "      <td>3.168955</td>\n",
              "    </tr>\n",
              "    <tr>\n",
              "      <th>...</th>\n",
              "      <td>...</td>\n",
              "      <td>...</td>\n",
              "      <td>...</td>\n",
              "      <td>...</td>\n",
              "      <td>...</td>\n",
              "      <td>...</td>\n",
              "      <td>...</td>\n",
              "      <td>...</td>\n",
              "      <td>...</td>\n",
              "      <td>...</td>\n",
              "      <td>...</td>\n",
              "      <td>...</td>\n",
              "    </tr>\n",
              "    <tr>\n",
              "      <th>237666</th>\n",
              "      <td>d7dx6f3qv7</td>\n",
              "      <td>RoW</td>\n",
              "      <td>e2p108mu</td>\n",
              "      <td>RoW</td>\n",
              "      <td>nan9a4p10ayk</td>\n",
              "      <td>Tops - Mens</td>\n",
              "      <td>NaN</td>\n",
              "      <td>PLN</td>\n",
              "      <td>4.24</td>\n",
              "      <td>2020-08-04</td>\n",
              "      <td>4.39693</td>\n",
              "      <td>0.964309</td>\n",
              "    </tr>\n",
              "    <tr>\n",
              "      <th>237667</th>\n",
              "      <td>iaf2ck3rj6</td>\n",
              "      <td>IT</td>\n",
              "      <td>gjb1qntq</td>\n",
              "      <td>RoW</td>\n",
              "      <td>lxj477q1hab2</td>\n",
              "      <td>Accessories</td>\n",
              "      <td>NaN</td>\n",
              "      <td>CZK</td>\n",
              "      <td>3923.18</td>\n",
              "      <td>2020-08-04</td>\n",
              "      <td>26.12360</td>\n",
              "      <td>150.177617</td>\n",
              "    </tr>\n",
              "    <tr>\n",
              "      <th>237668</th>\n",
              "      <td>tucgt70cwc</td>\n",
              "      <td>AU</td>\n",
              "      <td>9adnlxvr</td>\n",
              "      <td>RoW</td>\n",
              "      <td>2g0g0obhwjuc</td>\n",
              "      <td>Jewellery</td>\n",
              "      <td>NaN</td>\n",
              "      <td>PLN</td>\n",
              "      <td>525.82</td>\n",
              "      <td>2020-08-09</td>\n",
              "      <td>4.41427</td>\n",
              "      <td>119.118223</td>\n",
              "    </tr>\n",
              "    <tr>\n",
              "      <th>237669</th>\n",
              "      <td>rrfjxzbdxu</td>\n",
              "      <td>US</td>\n",
              "      <td>w2pozh7u</td>\n",
              "      <td>US</td>\n",
              "      <td>5mm5eg99xbu2</td>\n",
              "      <td>Bottoms - Womens</td>\n",
              "      <td>Brandy Melville</td>\n",
              "      <td>BRL</td>\n",
              "      <td>34.92</td>\n",
              "      <td>2020-08-06</td>\n",
              "      <td>6.33240</td>\n",
              "      <td>5.514497</td>\n",
              "    </tr>\n",
              "    <tr>\n",
              "      <th>237670</th>\n",
              "      <td>wnmihth4io</td>\n",
              "      <td>GB</td>\n",
              "      <td>5yogzc17</td>\n",
              "      <td>RoW</td>\n",
              "      <td>wrgq88ujwh5d</td>\n",
              "      <td>Bottoms - Womens</td>\n",
              "      <td>NaN</td>\n",
              "      <td>NOK</td>\n",
              "      <td>533.06</td>\n",
              "      <td>2020-08-08</td>\n",
              "      <td>10.64540</td>\n",
              "      <td>50.074210</td>\n",
              "    </tr>\n",
              "  </tbody>\n",
              "</table>\n",
              "<p>237671 rows × 12 columns</p>\n",
              "</div>"
            ],
            "text/plain": [
              "          buyer_id buyer_country seller_id seller_country  product_code  \\\n",
              "0       qzpjsi9t0o            GB  6oufpaot             GB  ydecnydr6obf   \n",
              "1       rd209r8c7c            GB  9p2ansc9             GB  wpxxf59cq7pc   \n",
              "2       pqbcrl8azx            GB  r9zmzem8             GB  ua9mmn86wsqy   \n",
              "3       j5en1rwmxp            GB  3o2nz88r             GB  tduo2uy8iszl   \n",
              "4       kjdezxeh1l            GB  7g56ublf             GB  39o00tcu89zq   \n",
              "...            ...           ...       ...            ...           ...   \n",
              "237666  d7dx6f3qv7           RoW  e2p108mu            RoW  nan9a4p10ayk   \n",
              "237667  iaf2ck3rj6            IT  gjb1qntq            RoW  lxj477q1hab2   \n",
              "237668  tucgt70cwc            AU  9adnlxvr            RoW  2g0g0obhwjuc   \n",
              "237669  rrfjxzbdxu            US  w2pozh7u             US  5mm5eg99xbu2   \n",
              "237670  wnmihth4io            GB  5yogzc17            RoW  wrgq88ujwh5d   \n",
              "\n",
              "                category             brand currency    price       date  \\\n",
              "0                Dresses               NaN      GBP    19.11 2020-08-03   \n",
              "1       Outerwear - Mens  Adidas Originals      GBP    24.91 2020-08-03   \n",
              "2          Tops - Womens               NaN      GBP    19.31 2020-08-03   \n",
              "3       Bottoms - Womens  Urban Outfitters      GBP    16.98 2020-08-03   \n",
              "4                  Other               NaN      GBP     2.85 2020-08-03   \n",
              "...                  ...               ...      ...      ...        ...   \n",
              "237666       Tops - Mens               NaN      PLN     4.24 2020-08-04   \n",
              "237667       Accessories               NaN      CZK  3923.18 2020-08-04   \n",
              "237668         Jewellery               NaN      PLN   525.82 2020-08-09   \n",
              "237669  Bottoms - Womens   Brandy Melville      BRL    34.92 2020-08-06   \n",
              "237670  Bottoms - Womens               NaN      NOK   533.06 2020-08-08   \n",
              "\n",
              "            rate       sales  \n",
              "0        0.89935   21.248680  \n",
              "1        0.89935   27.697782  \n",
              "2        0.89935   21.471062  \n",
              "3        0.89935   18.880302  \n",
              "4        0.89935    3.168955  \n",
              "...          ...         ...  \n",
              "237666   4.39693    0.964309  \n",
              "237667  26.12360  150.177617  \n",
              "237668   4.41427  119.118223  \n",
              "237669   6.33240    5.514497  \n",
              "237670  10.64540   50.074210  \n",
              "\n",
              "[237671 rows x 12 columns]"
            ]
          },
          "execution_count": 70,
          "metadata": {},
          "output_type": "execute_result"
        }
      ],
      "source": [
        "df['sales'] = df.price/df.rate\n",
        "df"
      ]
    },
    {
      "cell_type": "code",
      "execution_count": null,
      "id": "437fc29d",
      "metadata": {
        "id": "437fc29d",
        "outputId": "20acc851-f0e9-424e-d9c3-5e48bd363e94"
      },
      "outputs": [
        {
          "data": {
            "text/plain": [
              "6471510.822498876"
            ]
          },
          "execution_count": 75,
          "metadata": {},
          "output_type": "execute_result"
        }
      ],
      "source": [
        "df['sales'].sum()"
      ]
    },
    {
      "cell_type": "code",
      "execution_count": null,
      "id": "2bf3ccb9",
      "metadata": {
        "id": "2bf3ccb9",
        "outputId": "7f9bff18-e592-4dfa-d613-70bdff2031b2"
      },
      "outputs": [
        {
          "data": {
            "text/plain": [
              "6471510.8"
            ]
          },
          "execution_count": 72,
          "metadata": {},
          "output_type": "execute_result"
        }
      ],
      "source": [
        "round(df['sales'].sum(), 1)"
      ]
    },
    {
      "cell_type": "code",
      "execution_count": null,
      "id": "2d6018e3",
      "metadata": {
        "id": "2d6018e3",
        "outputId": "1a716a53-3727-49ce-d488-9e8185eede5b"
      },
      "outputs": [
        {
          "data": {
            "text/plain": [
              "6471511"
            ]
          },
          "execution_count": 73,
          "metadata": {},
          "output_type": "execute_result"
        }
      ],
      "source": [
        "round(df['sales'].sum())"
      ]
    },
    {
      "cell_type": "code",
      "execution_count": null,
      "id": "751efa42",
      "metadata": {
        "id": "751efa42",
        "outputId": "b05625e0-b5f2-4902-e601-bcf284b4fe5a"
      },
      "outputs": [
        {
          "data": {
            "text/plain": [
              "6471510"
            ]
          },
          "execution_count": 74,
          "metadata": {},
          "output_type": "execute_result"
        }
      ],
      "source": [
        "int(df['sales'].sum())"
      ]
    },
    {
      "cell_type": "markdown",
      "id": "47d78b10",
      "metadata": {
        "id": "47d78b10"
      },
      "source": [
        "5. Which brand has the highest number of purchases during the period?(Just write down the brand as in the dataset, your answer is supposed to be case sensitive)"
      ]
    },
    {
      "cell_type": "code",
      "execution_count": null,
      "id": "89ea8b75",
      "metadata": {
        "id": "89ea8b75",
        "outputId": "48fc6f1b-3ec8-493f-a0eb-79a8c6f0e90a"
      },
      "outputs": [
        {
          "data": {
            "text/html": [
              "<div>\n",
              "<style scoped>\n",
              "    .dataframe tbody tr th:only-of-type {\n",
              "        vertical-align: middle;\n",
              "    }\n",
              "\n",
              "    .dataframe tbody tr th {\n",
              "        vertical-align: top;\n",
              "    }\n",
              "\n",
              "    .dataframe thead th {\n",
              "        text-align: right;\n",
              "    }\n",
              "</style>\n",
              "<table border=\"1\" class=\"dataframe\">\n",
              "  <thead>\n",
              "    <tr style=\"text-align: right;\">\n",
              "      <th></th>\n",
              "      <th>buyer_id</th>\n",
              "      <th>buyer_country</th>\n",
              "      <th>seller_id</th>\n",
              "      <th>seller_country</th>\n",
              "      <th>product_code</th>\n",
              "      <th>category</th>\n",
              "      <th>brand</th>\n",
              "      <th>currency</th>\n",
              "      <th>price</th>\n",
              "      <th>date</th>\n",
              "      <th>rate</th>\n",
              "      <th>sales</th>\n",
              "    </tr>\n",
              "  </thead>\n",
              "  <tbody>\n",
              "    <tr>\n",
              "      <th>0</th>\n",
              "      <td>qzpjsi9t0o</td>\n",
              "      <td>GB</td>\n",
              "      <td>6oufpaot</td>\n",
              "      <td>GB</td>\n",
              "      <td>ydecnydr6obf</td>\n",
              "      <td>Dresses</td>\n",
              "      <td>NaN</td>\n",
              "      <td>GBP</td>\n",
              "      <td>19.11</td>\n",
              "      <td>2020-08-03</td>\n",
              "      <td>0.89935</td>\n",
              "      <td>21.248680</td>\n",
              "    </tr>\n",
              "    <tr>\n",
              "      <th>1</th>\n",
              "      <td>rd209r8c7c</td>\n",
              "      <td>GB</td>\n",
              "      <td>9p2ansc9</td>\n",
              "      <td>GB</td>\n",
              "      <td>wpxxf59cq7pc</td>\n",
              "      <td>Outerwear - Mens</td>\n",
              "      <td>Adidas Originals</td>\n",
              "      <td>GBP</td>\n",
              "      <td>24.91</td>\n",
              "      <td>2020-08-03</td>\n",
              "      <td>0.89935</td>\n",
              "      <td>27.697782</td>\n",
              "    </tr>\n",
              "    <tr>\n",
              "      <th>2</th>\n",
              "      <td>pqbcrl8azx</td>\n",
              "      <td>GB</td>\n",
              "      <td>r9zmzem8</td>\n",
              "      <td>GB</td>\n",
              "      <td>ua9mmn86wsqy</td>\n",
              "      <td>Tops - Womens</td>\n",
              "      <td>NaN</td>\n",
              "      <td>GBP</td>\n",
              "      <td>19.31</td>\n",
              "      <td>2020-08-03</td>\n",
              "      <td>0.89935</td>\n",
              "      <td>21.471062</td>\n",
              "    </tr>\n",
              "    <tr>\n",
              "      <th>3</th>\n",
              "      <td>j5en1rwmxp</td>\n",
              "      <td>GB</td>\n",
              "      <td>3o2nz88r</td>\n",
              "      <td>GB</td>\n",
              "      <td>tduo2uy8iszl</td>\n",
              "      <td>Bottoms - Womens</td>\n",
              "      <td>Urban Outfitters</td>\n",
              "      <td>GBP</td>\n",
              "      <td>16.98</td>\n",
              "      <td>2020-08-03</td>\n",
              "      <td>0.89935</td>\n",
              "      <td>18.880302</td>\n",
              "    </tr>\n",
              "    <tr>\n",
              "      <th>4</th>\n",
              "      <td>kjdezxeh1l</td>\n",
              "      <td>GB</td>\n",
              "      <td>7g56ublf</td>\n",
              "      <td>GB</td>\n",
              "      <td>39o00tcu89zq</td>\n",
              "      <td>Other</td>\n",
              "      <td>NaN</td>\n",
              "      <td>GBP</td>\n",
              "      <td>2.85</td>\n",
              "      <td>2020-08-03</td>\n",
              "      <td>0.89935</td>\n",
              "      <td>3.168955</td>\n",
              "    </tr>\n",
              "    <tr>\n",
              "      <th>...</th>\n",
              "      <td>...</td>\n",
              "      <td>...</td>\n",
              "      <td>...</td>\n",
              "      <td>...</td>\n",
              "      <td>...</td>\n",
              "      <td>...</td>\n",
              "      <td>...</td>\n",
              "      <td>...</td>\n",
              "      <td>...</td>\n",
              "      <td>...</td>\n",
              "      <td>...</td>\n",
              "      <td>...</td>\n",
              "    </tr>\n",
              "    <tr>\n",
              "      <th>237666</th>\n",
              "      <td>d7dx6f3qv7</td>\n",
              "      <td>RoW</td>\n",
              "      <td>e2p108mu</td>\n",
              "      <td>RoW</td>\n",
              "      <td>nan9a4p10ayk</td>\n",
              "      <td>Tops - Mens</td>\n",
              "      <td>NaN</td>\n",
              "      <td>PLN</td>\n",
              "      <td>4.24</td>\n",
              "      <td>2020-08-04</td>\n",
              "      <td>4.39693</td>\n",
              "      <td>0.964309</td>\n",
              "    </tr>\n",
              "    <tr>\n",
              "      <th>237667</th>\n",
              "      <td>iaf2ck3rj6</td>\n",
              "      <td>IT</td>\n",
              "      <td>gjb1qntq</td>\n",
              "      <td>RoW</td>\n",
              "      <td>lxj477q1hab2</td>\n",
              "      <td>Accessories</td>\n",
              "      <td>NaN</td>\n",
              "      <td>CZK</td>\n",
              "      <td>3923.18</td>\n",
              "      <td>2020-08-04</td>\n",
              "      <td>26.12360</td>\n",
              "      <td>150.177617</td>\n",
              "    </tr>\n",
              "    <tr>\n",
              "      <th>237668</th>\n",
              "      <td>tucgt70cwc</td>\n",
              "      <td>AU</td>\n",
              "      <td>9adnlxvr</td>\n",
              "      <td>RoW</td>\n",
              "      <td>2g0g0obhwjuc</td>\n",
              "      <td>Jewellery</td>\n",
              "      <td>NaN</td>\n",
              "      <td>PLN</td>\n",
              "      <td>525.82</td>\n",
              "      <td>2020-08-09</td>\n",
              "      <td>4.41427</td>\n",
              "      <td>119.118223</td>\n",
              "    </tr>\n",
              "    <tr>\n",
              "      <th>237669</th>\n",
              "      <td>rrfjxzbdxu</td>\n",
              "      <td>US</td>\n",
              "      <td>w2pozh7u</td>\n",
              "      <td>US</td>\n",
              "      <td>5mm5eg99xbu2</td>\n",
              "      <td>Bottoms - Womens</td>\n",
              "      <td>Brandy Melville</td>\n",
              "      <td>BRL</td>\n",
              "      <td>34.92</td>\n",
              "      <td>2020-08-06</td>\n",
              "      <td>6.33240</td>\n",
              "      <td>5.514497</td>\n",
              "    </tr>\n",
              "    <tr>\n",
              "      <th>237670</th>\n",
              "      <td>wnmihth4io</td>\n",
              "      <td>GB</td>\n",
              "      <td>5yogzc17</td>\n",
              "      <td>RoW</td>\n",
              "      <td>wrgq88ujwh5d</td>\n",
              "      <td>Bottoms - Womens</td>\n",
              "      <td>NaN</td>\n",
              "      <td>NOK</td>\n",
              "      <td>533.06</td>\n",
              "      <td>2020-08-08</td>\n",
              "      <td>10.64540</td>\n",
              "      <td>50.074210</td>\n",
              "    </tr>\n",
              "  </tbody>\n",
              "</table>\n",
              "<p>237671 rows × 12 columns</p>\n",
              "</div>"
            ],
            "text/plain": [
              "          buyer_id buyer_country seller_id seller_country  product_code  \\\n",
              "0       qzpjsi9t0o            GB  6oufpaot             GB  ydecnydr6obf   \n",
              "1       rd209r8c7c            GB  9p2ansc9             GB  wpxxf59cq7pc   \n",
              "2       pqbcrl8azx            GB  r9zmzem8             GB  ua9mmn86wsqy   \n",
              "3       j5en1rwmxp            GB  3o2nz88r             GB  tduo2uy8iszl   \n",
              "4       kjdezxeh1l            GB  7g56ublf             GB  39o00tcu89zq   \n",
              "...            ...           ...       ...            ...           ...   \n",
              "237666  d7dx6f3qv7           RoW  e2p108mu            RoW  nan9a4p10ayk   \n",
              "237667  iaf2ck3rj6            IT  gjb1qntq            RoW  lxj477q1hab2   \n",
              "237668  tucgt70cwc            AU  9adnlxvr            RoW  2g0g0obhwjuc   \n",
              "237669  rrfjxzbdxu            US  w2pozh7u             US  5mm5eg99xbu2   \n",
              "237670  wnmihth4io            GB  5yogzc17            RoW  wrgq88ujwh5d   \n",
              "\n",
              "                category             brand currency    price       date  \\\n",
              "0                Dresses               NaN      GBP    19.11 2020-08-03   \n",
              "1       Outerwear - Mens  Adidas Originals      GBP    24.91 2020-08-03   \n",
              "2          Tops - Womens               NaN      GBP    19.31 2020-08-03   \n",
              "3       Bottoms - Womens  Urban Outfitters      GBP    16.98 2020-08-03   \n",
              "4                  Other               NaN      GBP     2.85 2020-08-03   \n",
              "...                  ...               ...      ...      ...        ...   \n",
              "237666       Tops - Mens               NaN      PLN     4.24 2020-08-04   \n",
              "237667       Accessories               NaN      CZK  3923.18 2020-08-04   \n",
              "237668         Jewellery               NaN      PLN   525.82 2020-08-09   \n",
              "237669  Bottoms - Womens   Brandy Melville      BRL    34.92 2020-08-06   \n",
              "237670  Bottoms - Womens               NaN      NOK   533.06 2020-08-08   \n",
              "\n",
              "            rate       sales  \n",
              "0        0.89935   21.248680  \n",
              "1        0.89935   27.697782  \n",
              "2        0.89935   21.471062  \n",
              "3        0.89935   18.880302  \n",
              "4        0.89935    3.168955  \n",
              "...          ...         ...  \n",
              "237666   4.39693    0.964309  \n",
              "237667  26.12360  150.177617  \n",
              "237668   4.41427  119.118223  \n",
              "237669   6.33240    5.514497  \n",
              "237670  10.64540   50.074210  \n",
              "\n",
              "[237671 rows x 12 columns]"
            ]
          },
          "execution_count": 76,
          "metadata": {},
          "output_type": "execute_result"
        }
      ],
      "source": [
        "df"
      ]
    },
    {
      "cell_type": "code",
      "execution_count": null,
      "id": "0895d9c2",
      "metadata": {
        "id": "0895d9c2",
        "outputId": "a417b855-9dda-4b65-eda9-68b547edb8b9"
      },
      "outputs": [
        {
          "data": {
            "text/plain": [
              "Nike                  9575\n",
              "Brandy Melville       5065\n",
              "Topshop               4561\n",
              "PrettyLittle Thing    4136\n",
              "Adidas                3905\n",
              "                      ... \n",
              "Filson                   1\n",
              "Surf Gypsy               1\n",
              "Chaser                   1\n",
              "All Things Mochi         1\n",
              "KTZ                      1\n",
              "Name: brand, Length: 1134, dtype: int64"
            ]
          },
          "execution_count": 77,
          "metadata": {},
          "output_type": "execute_result"
        }
      ],
      "source": [
        "df.brand.value_counts()"
      ]
    },
    {
      "cell_type": "code",
      "execution_count": null,
      "id": "11793d9f",
      "metadata": {
        "id": "11793d9f",
        "outputId": "64b7e980-24f3-47b8-f2a2-d925eafb404f"
      },
      "outputs": [
        {
          "data": {
            "text/plain": [
              "array([nan, 'Adidas Originals', 'Urban Outfitters', ..., 'Lisa Says Gah',\n",
              "       'LC Lauren Conrad', 'KTZ'], dtype=object)"
            ]
          },
          "execution_count": 78,
          "metadata": {},
          "output_type": "execute_result"
        }
      ],
      "source": [
        "df.brand.unique()"
      ]
    },
    {
      "cell_type": "markdown",
      "id": "834659be",
      "metadata": {
        "id": "834659be"
      },
      "source": [
        "6. How many items in the “Jewellery” category have no brand associated with them?(Just write the numbers in the format of 00.000)"
      ]
    },
    {
      "cell_type": "code",
      "execution_count": null,
      "id": "44a56876",
      "metadata": {
        "id": "44a56876",
        "outputId": "61bca6b1-1fe3-476c-eae9-6809564efdb5"
      },
      "outputs": [
        {
          "data": {
            "text/html": [
              "<div>\n",
              "<style scoped>\n",
              "    .dataframe tbody tr th:only-of-type {\n",
              "        vertical-align: middle;\n",
              "    }\n",
              "\n",
              "    .dataframe tbody tr th {\n",
              "        vertical-align: top;\n",
              "    }\n",
              "\n",
              "    .dataframe thead th {\n",
              "        text-align: right;\n",
              "    }\n",
              "</style>\n",
              "<table border=\"1\" class=\"dataframe\">\n",
              "  <thead>\n",
              "    <tr style=\"text-align: right;\">\n",
              "      <th></th>\n",
              "      <th>buyer_id</th>\n",
              "      <th>buyer_country</th>\n",
              "      <th>seller_id</th>\n",
              "      <th>seller_country</th>\n",
              "      <th>product_code</th>\n",
              "      <th>category</th>\n",
              "      <th>brand</th>\n",
              "      <th>currency</th>\n",
              "      <th>price</th>\n",
              "      <th>date</th>\n",
              "      <th>rate</th>\n",
              "      <th>sales</th>\n",
              "    </tr>\n",
              "  </thead>\n",
              "  <tbody>\n",
              "    <tr>\n",
              "      <th>0</th>\n",
              "      <td>qzpjsi9t0o</td>\n",
              "      <td>GB</td>\n",
              "      <td>6oufpaot</td>\n",
              "      <td>GB</td>\n",
              "      <td>ydecnydr6obf</td>\n",
              "      <td>Dresses</td>\n",
              "      <td>NaN</td>\n",
              "      <td>GBP</td>\n",
              "      <td>19.11</td>\n",
              "      <td>2020-08-03</td>\n",
              "      <td>0.89935</td>\n",
              "      <td>21.248680</td>\n",
              "    </tr>\n",
              "    <tr>\n",
              "      <th>1</th>\n",
              "      <td>rd209r8c7c</td>\n",
              "      <td>GB</td>\n",
              "      <td>9p2ansc9</td>\n",
              "      <td>GB</td>\n",
              "      <td>wpxxf59cq7pc</td>\n",
              "      <td>Outerwear - Mens</td>\n",
              "      <td>Adidas Originals</td>\n",
              "      <td>GBP</td>\n",
              "      <td>24.91</td>\n",
              "      <td>2020-08-03</td>\n",
              "      <td>0.89935</td>\n",
              "      <td>27.697782</td>\n",
              "    </tr>\n",
              "    <tr>\n",
              "      <th>2</th>\n",
              "      <td>pqbcrl8azx</td>\n",
              "      <td>GB</td>\n",
              "      <td>r9zmzem8</td>\n",
              "      <td>GB</td>\n",
              "      <td>ua9mmn86wsqy</td>\n",
              "      <td>Tops - Womens</td>\n",
              "      <td>NaN</td>\n",
              "      <td>GBP</td>\n",
              "      <td>19.31</td>\n",
              "      <td>2020-08-03</td>\n",
              "      <td>0.89935</td>\n",
              "      <td>21.471062</td>\n",
              "    </tr>\n",
              "    <tr>\n",
              "      <th>3</th>\n",
              "      <td>j5en1rwmxp</td>\n",
              "      <td>GB</td>\n",
              "      <td>3o2nz88r</td>\n",
              "      <td>GB</td>\n",
              "      <td>tduo2uy8iszl</td>\n",
              "      <td>Bottoms - Womens</td>\n",
              "      <td>Urban Outfitters</td>\n",
              "      <td>GBP</td>\n",
              "      <td>16.98</td>\n",
              "      <td>2020-08-03</td>\n",
              "      <td>0.89935</td>\n",
              "      <td>18.880302</td>\n",
              "    </tr>\n",
              "    <tr>\n",
              "      <th>4</th>\n",
              "      <td>kjdezxeh1l</td>\n",
              "      <td>GB</td>\n",
              "      <td>7g56ublf</td>\n",
              "      <td>GB</td>\n",
              "      <td>39o00tcu89zq</td>\n",
              "      <td>Other</td>\n",
              "      <td>NaN</td>\n",
              "      <td>GBP</td>\n",
              "      <td>2.85</td>\n",
              "      <td>2020-08-03</td>\n",
              "      <td>0.89935</td>\n",
              "      <td>3.168955</td>\n",
              "    </tr>\n",
              "    <tr>\n",
              "      <th>...</th>\n",
              "      <td>...</td>\n",
              "      <td>...</td>\n",
              "      <td>...</td>\n",
              "      <td>...</td>\n",
              "      <td>...</td>\n",
              "      <td>...</td>\n",
              "      <td>...</td>\n",
              "      <td>...</td>\n",
              "      <td>...</td>\n",
              "      <td>...</td>\n",
              "      <td>...</td>\n",
              "      <td>...</td>\n",
              "    </tr>\n",
              "    <tr>\n",
              "      <th>237666</th>\n",
              "      <td>d7dx6f3qv7</td>\n",
              "      <td>RoW</td>\n",
              "      <td>e2p108mu</td>\n",
              "      <td>RoW</td>\n",
              "      <td>nan9a4p10ayk</td>\n",
              "      <td>Tops - Mens</td>\n",
              "      <td>NaN</td>\n",
              "      <td>PLN</td>\n",
              "      <td>4.24</td>\n",
              "      <td>2020-08-04</td>\n",
              "      <td>4.39693</td>\n",
              "      <td>0.964309</td>\n",
              "    </tr>\n",
              "    <tr>\n",
              "      <th>237667</th>\n",
              "      <td>iaf2ck3rj6</td>\n",
              "      <td>IT</td>\n",
              "      <td>gjb1qntq</td>\n",
              "      <td>RoW</td>\n",
              "      <td>lxj477q1hab2</td>\n",
              "      <td>Accessories</td>\n",
              "      <td>NaN</td>\n",
              "      <td>CZK</td>\n",
              "      <td>3923.18</td>\n",
              "      <td>2020-08-04</td>\n",
              "      <td>26.12360</td>\n",
              "      <td>150.177617</td>\n",
              "    </tr>\n",
              "    <tr>\n",
              "      <th>237668</th>\n",
              "      <td>tucgt70cwc</td>\n",
              "      <td>AU</td>\n",
              "      <td>9adnlxvr</td>\n",
              "      <td>RoW</td>\n",
              "      <td>2g0g0obhwjuc</td>\n",
              "      <td>Jewellery</td>\n",
              "      <td>NaN</td>\n",
              "      <td>PLN</td>\n",
              "      <td>525.82</td>\n",
              "      <td>2020-08-09</td>\n",
              "      <td>4.41427</td>\n",
              "      <td>119.118223</td>\n",
              "    </tr>\n",
              "    <tr>\n",
              "      <th>237669</th>\n",
              "      <td>rrfjxzbdxu</td>\n",
              "      <td>US</td>\n",
              "      <td>w2pozh7u</td>\n",
              "      <td>US</td>\n",
              "      <td>5mm5eg99xbu2</td>\n",
              "      <td>Bottoms - Womens</td>\n",
              "      <td>Brandy Melville</td>\n",
              "      <td>BRL</td>\n",
              "      <td>34.92</td>\n",
              "      <td>2020-08-06</td>\n",
              "      <td>6.33240</td>\n",
              "      <td>5.514497</td>\n",
              "    </tr>\n",
              "    <tr>\n",
              "      <th>237670</th>\n",
              "      <td>wnmihth4io</td>\n",
              "      <td>GB</td>\n",
              "      <td>5yogzc17</td>\n",
              "      <td>RoW</td>\n",
              "      <td>wrgq88ujwh5d</td>\n",
              "      <td>Bottoms - Womens</td>\n",
              "      <td>NaN</td>\n",
              "      <td>NOK</td>\n",
              "      <td>533.06</td>\n",
              "      <td>2020-08-08</td>\n",
              "      <td>10.64540</td>\n",
              "      <td>50.074210</td>\n",
              "    </tr>\n",
              "  </tbody>\n",
              "</table>\n",
              "<p>237671 rows × 12 columns</p>\n",
              "</div>"
            ],
            "text/plain": [
              "          buyer_id buyer_country seller_id seller_country  product_code  \\\n",
              "0       qzpjsi9t0o            GB  6oufpaot             GB  ydecnydr6obf   \n",
              "1       rd209r8c7c            GB  9p2ansc9             GB  wpxxf59cq7pc   \n",
              "2       pqbcrl8azx            GB  r9zmzem8             GB  ua9mmn86wsqy   \n",
              "3       j5en1rwmxp            GB  3o2nz88r             GB  tduo2uy8iszl   \n",
              "4       kjdezxeh1l            GB  7g56ublf             GB  39o00tcu89zq   \n",
              "...            ...           ...       ...            ...           ...   \n",
              "237666  d7dx6f3qv7           RoW  e2p108mu            RoW  nan9a4p10ayk   \n",
              "237667  iaf2ck3rj6            IT  gjb1qntq            RoW  lxj477q1hab2   \n",
              "237668  tucgt70cwc            AU  9adnlxvr            RoW  2g0g0obhwjuc   \n",
              "237669  rrfjxzbdxu            US  w2pozh7u             US  5mm5eg99xbu2   \n",
              "237670  wnmihth4io            GB  5yogzc17            RoW  wrgq88ujwh5d   \n",
              "\n",
              "                category             brand currency    price       date  \\\n",
              "0                Dresses               NaN      GBP    19.11 2020-08-03   \n",
              "1       Outerwear - Mens  Adidas Originals      GBP    24.91 2020-08-03   \n",
              "2          Tops - Womens               NaN      GBP    19.31 2020-08-03   \n",
              "3       Bottoms - Womens  Urban Outfitters      GBP    16.98 2020-08-03   \n",
              "4                  Other               NaN      GBP     2.85 2020-08-03   \n",
              "...                  ...               ...      ...      ...        ...   \n",
              "237666       Tops - Mens               NaN      PLN     4.24 2020-08-04   \n",
              "237667       Accessories               NaN      CZK  3923.18 2020-08-04   \n",
              "237668         Jewellery               NaN      PLN   525.82 2020-08-09   \n",
              "237669  Bottoms - Womens   Brandy Melville      BRL    34.92 2020-08-06   \n",
              "237670  Bottoms - Womens               NaN      NOK   533.06 2020-08-08   \n",
              "\n",
              "            rate       sales  \n",
              "0        0.89935   21.248680  \n",
              "1        0.89935   27.697782  \n",
              "2        0.89935   21.471062  \n",
              "3        0.89935   18.880302  \n",
              "4        0.89935    3.168955  \n",
              "...          ...         ...  \n",
              "237666   4.39693    0.964309  \n",
              "237667  26.12360  150.177617  \n",
              "237668   4.41427  119.118223  \n",
              "237669   6.33240    5.514497  \n",
              "237670  10.64540   50.074210  \n",
              "\n",
              "[237671 rows x 12 columns]"
            ]
          },
          "execution_count": 79,
          "metadata": {},
          "output_type": "execute_result"
        }
      ],
      "source": [
        "df"
      ]
    },
    {
      "cell_type": "code",
      "execution_count": null,
      "id": "2b74742f",
      "metadata": {
        "id": "2b74742f",
        "outputId": "cd56fab0-be1d-4b54-a820-575c18bd6d38"
      },
      "outputs": [
        {
          "data": {
            "text/plain": [
              "Tops - Womens        45450\n",
              "Tops - Mens          32611\n",
              "Bottoms - Womens     30001\n",
              "Shoes                21764\n",
              "Accessories          21153\n",
              "Dresses              19238\n",
              "Jewellery            14923\n",
              "Beauty                8746\n",
              "Other                 6599\n",
              "Outerwear             6321\n",
              "Bottoms - Mens        5763\n",
              "Lingerie              5301\n",
              "Outerwear - Mens      4156\n",
              "Tech                  3496\n",
              "Home                  3477\n",
              "Music                 2510\n",
              "Kids                  2135\n",
              "Art                   1777\n",
              "Books & magazines     1081\n",
              "Film                   466\n",
              "Sports equipment       413\n",
              "Underwear              177\n",
              "Transportation          90\n",
              "UNSPECIFIED              7\n",
              "Name: category, dtype: int64"
            ]
          },
          "execution_count": 80,
          "metadata": {},
          "output_type": "execute_result"
        }
      ],
      "source": [
        "df.category.value_counts()"
      ]
    },
    {
      "cell_type": "code",
      "execution_count": null,
      "id": "13a0bc1b",
      "metadata": {
        "id": "13a0bc1b",
        "outputId": "4a5dc97d-8044-40e8-fce8-fa3763275fe9"
      },
      "outputs": [
        {
          "data": {
            "text/plain": [
              "array(['Dresses', 'Outerwear - Mens', 'Tops - Womens', ..., 'Jewellery',\n",
              "       'Bottoms - Womens', 'Bottoms - Womens'], dtype=object)"
            ]
          },
          "execution_count": 81,
          "metadata": {},
          "output_type": "execute_result"
        }
      ],
      "source": [
        "df.category.values"
      ]
    },
    {
      "cell_type": "code",
      "execution_count": null,
      "id": "d2cbe16e",
      "metadata": {
        "id": "d2cbe16e",
        "outputId": "a6f0f86f-b7ae-4f97-f6bd-7ed56f79ef45"
      },
      "outputs": [
        {
          "data": {
            "text/html": [
              "<div>\n",
              "<style scoped>\n",
              "    .dataframe tbody tr th:only-of-type {\n",
              "        vertical-align: middle;\n",
              "    }\n",
              "\n",
              "    .dataframe tbody tr th {\n",
              "        vertical-align: top;\n",
              "    }\n",
              "\n",
              "    .dataframe thead th {\n",
              "        text-align: right;\n",
              "    }\n",
              "</style>\n",
              "<table border=\"1\" class=\"dataframe\">\n",
              "  <thead>\n",
              "    <tr style=\"text-align: right;\">\n",
              "      <th></th>\n",
              "      <th>buyer_id</th>\n",
              "      <th>buyer_country</th>\n",
              "      <th>seller_id</th>\n",
              "      <th>seller_country</th>\n",
              "      <th>product_code</th>\n",
              "      <th>category</th>\n",
              "      <th>brand</th>\n",
              "      <th>currency</th>\n",
              "      <th>price</th>\n",
              "      <th>date</th>\n",
              "      <th>rate</th>\n",
              "      <th>sales</th>\n",
              "    </tr>\n",
              "  </thead>\n",
              "  <tbody>\n",
              "    <tr>\n",
              "      <th>12</th>\n",
              "      <td>p6nqo9ow69</td>\n",
              "      <td>GB</td>\n",
              "      <td>nssbpcrq</td>\n",
              "      <td>GB</td>\n",
              "      <td>wq0l762madfz</td>\n",
              "      <td>Jewellery</td>\n",
              "      <td>NaN</td>\n",
              "      <td>GBP</td>\n",
              "      <td>5.46</td>\n",
              "      <td>2020-08-03</td>\n",
              "      <td>0.899350</td>\n",
              "      <td>6.071051</td>\n",
              "    </tr>\n",
              "    <tr>\n",
              "      <th>13</th>\n",
              "      <td>p6nqo9ow69</td>\n",
              "      <td>GB</td>\n",
              "      <td>nssbpcrq</td>\n",
              "      <td>GB</td>\n",
              "      <td>barsdufpkov1</td>\n",
              "      <td>Jewellery</td>\n",
              "      <td>NaN</td>\n",
              "      <td>GBP</td>\n",
              "      <td>5.38</td>\n",
              "      <td>2020-08-03</td>\n",
              "      <td>0.899350</td>\n",
              "      <td>5.982098</td>\n",
              "    </tr>\n",
              "    <tr>\n",
              "      <th>14</th>\n",
              "      <td>p6nqo9ow69</td>\n",
              "      <td>GB</td>\n",
              "      <td>nssbpcrq</td>\n",
              "      <td>GB</td>\n",
              "      <td>sx4v979fwe9g</td>\n",
              "      <td>Jewellery</td>\n",
              "      <td>NaN</td>\n",
              "      <td>GBP</td>\n",
              "      <td>5.55</td>\n",
              "      <td>2020-08-03</td>\n",
              "      <td>0.899350</td>\n",
              "      <td>6.171124</td>\n",
              "    </tr>\n",
              "    <tr>\n",
              "      <th>17</th>\n",
              "      <td>pykp4zs8mc</td>\n",
              "      <td>GB</td>\n",
              "      <td>scikolkp</td>\n",
              "      <td>GB</td>\n",
              "      <td>737xf8jztbe3</td>\n",
              "      <td>Jewellery</td>\n",
              "      <td>NaN</td>\n",
              "      <td>GBP</td>\n",
              "      <td>3.16</td>\n",
              "      <td>2020-08-03</td>\n",
              "      <td>0.899350</td>\n",
              "      <td>3.513649</td>\n",
              "    </tr>\n",
              "    <tr>\n",
              "      <th>18</th>\n",
              "      <td>o5xp196pcv</td>\n",
              "      <td>GB</td>\n",
              "      <td>scikolkp</td>\n",
              "      <td>GB</td>\n",
              "      <td>737xf8jztbe3</td>\n",
              "      <td>Jewellery</td>\n",
              "      <td>NaN</td>\n",
              "      <td>GBP</td>\n",
              "      <td>3.19</td>\n",
              "      <td>2020-08-03</td>\n",
              "      <td>0.899350</td>\n",
              "      <td>3.547006</td>\n",
              "    </tr>\n",
              "    <tr>\n",
              "      <th>...</th>\n",
              "      <td>...</td>\n",
              "      <td>...</td>\n",
              "      <td>...</td>\n",
              "      <td>...</td>\n",
              "      <td>...</td>\n",
              "      <td>...</td>\n",
              "      <td>...</td>\n",
              "      <td>...</td>\n",
              "      <td>...</td>\n",
              "      <td>...</td>\n",
              "      <td>...</td>\n",
              "      <td>...</td>\n",
              "    </tr>\n",
              "    <tr>\n",
              "      <th>237559</th>\n",
              "      <td>r5yybfohtd</td>\n",
              "      <td>RoW</td>\n",
              "      <td>obj73jrd</td>\n",
              "      <td>RoW</td>\n",
              "      <td>cltpu36u88j9</td>\n",
              "      <td>Jewellery</td>\n",
              "      <td>NaN</td>\n",
              "      <td>CHF</td>\n",
              "      <td>51.37</td>\n",
              "      <td>2020-08-06</td>\n",
              "      <td>1.080625</td>\n",
              "      <td>47.537305</td>\n",
              "    </tr>\n",
              "    <tr>\n",
              "      <th>237603</th>\n",
              "      <td>cdg1teu4ci</td>\n",
              "      <td>RoW</td>\n",
              "      <td>qkbj84x9</td>\n",
              "      <td>RoW</td>\n",
              "      <td>57vayo0pe16h</td>\n",
              "      <td>Jewellery</td>\n",
              "      <td>NaN</td>\n",
              "      <td>CHF</td>\n",
              "      <td>6.43</td>\n",
              "      <td>2020-08-05</td>\n",
              "      <td>1.078185</td>\n",
              "      <td>5.963726</td>\n",
              "    </tr>\n",
              "    <tr>\n",
              "      <th>237605</th>\n",
              "      <td>akms2z4sfi</td>\n",
              "      <td>RoW</td>\n",
              "      <td>46doai5x</td>\n",
              "      <td>RoW</td>\n",
              "      <td>23m53gbwhy5i</td>\n",
              "      <td>Jewellery</td>\n",
              "      <td>NaN</td>\n",
              "      <td>CHF</td>\n",
              "      <td>12.98</td>\n",
              "      <td>2020-08-05</td>\n",
              "      <td>1.078185</td>\n",
              "      <td>12.038750</td>\n",
              "    </tr>\n",
              "    <tr>\n",
              "      <th>237644</th>\n",
              "      <td>5dqjb29gah</td>\n",
              "      <td>RoW</td>\n",
              "      <td>echsgc0o</td>\n",
              "      <td>RoW</td>\n",
              "      <td>gamzhdm6zesg</td>\n",
              "      <td>Jewellery</td>\n",
              "      <td>NaN</td>\n",
              "      <td>SEK</td>\n",
              "      <td>328.72</td>\n",
              "      <td>2020-08-07</td>\n",
              "      <td>10.314180</td>\n",
              "      <td>31.870687</td>\n",
              "    </tr>\n",
              "    <tr>\n",
              "      <th>237668</th>\n",
              "      <td>tucgt70cwc</td>\n",
              "      <td>AU</td>\n",
              "      <td>9adnlxvr</td>\n",
              "      <td>RoW</td>\n",
              "      <td>2g0g0obhwjuc</td>\n",
              "      <td>Jewellery</td>\n",
              "      <td>NaN</td>\n",
              "      <td>PLN</td>\n",
              "      <td>525.82</td>\n",
              "      <td>2020-08-09</td>\n",
              "      <td>4.414270</td>\n",
              "      <td>119.118223</td>\n",
              "    </tr>\n",
              "  </tbody>\n",
              "</table>\n",
              "<p>14923 rows × 12 columns</p>\n",
              "</div>"
            ],
            "text/plain": [
              "          buyer_id buyer_country seller_id seller_country  product_code  \\\n",
              "12      p6nqo9ow69            GB  nssbpcrq             GB  wq0l762madfz   \n",
              "13      p6nqo9ow69            GB  nssbpcrq             GB  barsdufpkov1   \n",
              "14      p6nqo9ow69            GB  nssbpcrq             GB  sx4v979fwe9g   \n",
              "17      pykp4zs8mc            GB  scikolkp             GB  737xf8jztbe3   \n",
              "18      o5xp196pcv            GB  scikolkp             GB  737xf8jztbe3   \n",
              "...            ...           ...       ...            ...           ...   \n",
              "237559  r5yybfohtd           RoW  obj73jrd            RoW  cltpu36u88j9   \n",
              "237603  cdg1teu4ci           RoW  qkbj84x9            RoW  57vayo0pe16h   \n",
              "237605  akms2z4sfi           RoW  46doai5x            RoW  23m53gbwhy5i   \n",
              "237644  5dqjb29gah           RoW  echsgc0o            RoW  gamzhdm6zesg   \n",
              "237668  tucgt70cwc            AU  9adnlxvr            RoW  2g0g0obhwjuc   \n",
              "\n",
              "         category brand currency   price       date       rate       sales  \n",
              "12      Jewellery   NaN      GBP    5.46 2020-08-03   0.899350    6.071051  \n",
              "13      Jewellery   NaN      GBP    5.38 2020-08-03   0.899350    5.982098  \n",
              "14      Jewellery   NaN      GBP    5.55 2020-08-03   0.899350    6.171124  \n",
              "17      Jewellery   NaN      GBP    3.16 2020-08-03   0.899350    3.513649  \n",
              "18      Jewellery   NaN      GBP    3.19 2020-08-03   0.899350    3.547006  \n",
              "...           ...   ...      ...     ...        ...        ...         ...  \n",
              "237559  Jewellery   NaN      CHF   51.37 2020-08-06   1.080625   47.537305  \n",
              "237603  Jewellery   NaN      CHF    6.43 2020-08-05   1.078185    5.963726  \n",
              "237605  Jewellery   NaN      CHF   12.98 2020-08-05   1.078185   12.038750  \n",
              "237644  Jewellery   NaN      SEK  328.72 2020-08-07  10.314180   31.870687  \n",
              "237668  Jewellery   NaN      PLN  525.82 2020-08-09   4.414270  119.118223  \n",
              "\n",
              "[14923 rows x 12 columns]"
            ]
          },
          "execution_count": 89,
          "metadata": {},
          "output_type": "execute_result"
        }
      ],
      "source": [
        "df.loc[ df.category == 'Jewellery']"
      ]
    },
    {
      "cell_type": "code",
      "execution_count": null,
      "id": "86f30545",
      "metadata": {
        "id": "86f30545",
        "outputId": "13f0d90e-615f-48fe-c7e0-a52c2cc5273e"
      },
      "outputs": [
        {
          "data": {
            "text/html": [
              "<div>\n",
              "<style scoped>\n",
              "    .dataframe tbody tr th:only-of-type {\n",
              "        vertical-align: middle;\n",
              "    }\n",
              "\n",
              "    .dataframe tbody tr th {\n",
              "        vertical-align: top;\n",
              "    }\n",
              "\n",
              "    .dataframe thead th {\n",
              "        text-align: right;\n",
              "    }\n",
              "</style>\n",
              "<table border=\"1\" class=\"dataframe\">\n",
              "  <thead>\n",
              "    <tr style=\"text-align: right;\">\n",
              "      <th></th>\n",
              "      <th>buyer_id</th>\n",
              "      <th>buyer_country</th>\n",
              "      <th>seller_id</th>\n",
              "      <th>seller_country</th>\n",
              "      <th>product_code</th>\n",
              "      <th>category</th>\n",
              "      <th>brand</th>\n",
              "      <th>currency</th>\n",
              "      <th>price</th>\n",
              "      <th>date</th>\n",
              "      <th>rate</th>\n",
              "      <th>sales</th>\n",
              "    </tr>\n",
              "  </thead>\n",
              "  <tbody>\n",
              "    <tr>\n",
              "      <th>0</th>\n",
              "      <td>False</td>\n",
              "      <td>False</td>\n",
              "      <td>False</td>\n",
              "      <td>False</td>\n",
              "      <td>False</td>\n",
              "      <td>False</td>\n",
              "      <td>True</td>\n",
              "      <td>False</td>\n",
              "      <td>False</td>\n",
              "      <td>False</td>\n",
              "      <td>False</td>\n",
              "      <td>False</td>\n",
              "    </tr>\n",
              "    <tr>\n",
              "      <th>1</th>\n",
              "      <td>False</td>\n",
              "      <td>False</td>\n",
              "      <td>False</td>\n",
              "      <td>False</td>\n",
              "      <td>False</td>\n",
              "      <td>False</td>\n",
              "      <td>False</td>\n",
              "      <td>False</td>\n",
              "      <td>False</td>\n",
              "      <td>False</td>\n",
              "      <td>False</td>\n",
              "      <td>False</td>\n",
              "    </tr>\n",
              "    <tr>\n",
              "      <th>2</th>\n",
              "      <td>False</td>\n",
              "      <td>False</td>\n",
              "      <td>False</td>\n",
              "      <td>False</td>\n",
              "      <td>False</td>\n",
              "      <td>False</td>\n",
              "      <td>True</td>\n",
              "      <td>False</td>\n",
              "      <td>False</td>\n",
              "      <td>False</td>\n",
              "      <td>False</td>\n",
              "      <td>False</td>\n",
              "    </tr>\n",
              "    <tr>\n",
              "      <th>3</th>\n",
              "      <td>False</td>\n",
              "      <td>False</td>\n",
              "      <td>False</td>\n",
              "      <td>False</td>\n",
              "      <td>False</td>\n",
              "      <td>False</td>\n",
              "      <td>False</td>\n",
              "      <td>False</td>\n",
              "      <td>False</td>\n",
              "      <td>False</td>\n",
              "      <td>False</td>\n",
              "      <td>False</td>\n",
              "    </tr>\n",
              "    <tr>\n",
              "      <th>4</th>\n",
              "      <td>False</td>\n",
              "      <td>False</td>\n",
              "      <td>False</td>\n",
              "      <td>False</td>\n",
              "      <td>False</td>\n",
              "      <td>False</td>\n",
              "      <td>True</td>\n",
              "      <td>False</td>\n",
              "      <td>False</td>\n",
              "      <td>False</td>\n",
              "      <td>False</td>\n",
              "      <td>False</td>\n",
              "    </tr>\n",
              "    <tr>\n",
              "      <th>...</th>\n",
              "      <td>...</td>\n",
              "      <td>...</td>\n",
              "      <td>...</td>\n",
              "      <td>...</td>\n",
              "      <td>...</td>\n",
              "      <td>...</td>\n",
              "      <td>...</td>\n",
              "      <td>...</td>\n",
              "      <td>...</td>\n",
              "      <td>...</td>\n",
              "      <td>...</td>\n",
              "      <td>...</td>\n",
              "    </tr>\n",
              "    <tr>\n",
              "      <th>237666</th>\n",
              "      <td>False</td>\n",
              "      <td>False</td>\n",
              "      <td>False</td>\n",
              "      <td>False</td>\n",
              "      <td>False</td>\n",
              "      <td>False</td>\n",
              "      <td>True</td>\n",
              "      <td>False</td>\n",
              "      <td>False</td>\n",
              "      <td>False</td>\n",
              "      <td>False</td>\n",
              "      <td>False</td>\n",
              "    </tr>\n",
              "    <tr>\n",
              "      <th>237667</th>\n",
              "      <td>False</td>\n",
              "      <td>False</td>\n",
              "      <td>False</td>\n",
              "      <td>False</td>\n",
              "      <td>False</td>\n",
              "      <td>False</td>\n",
              "      <td>True</td>\n",
              "      <td>False</td>\n",
              "      <td>False</td>\n",
              "      <td>False</td>\n",
              "      <td>False</td>\n",
              "      <td>False</td>\n",
              "    </tr>\n",
              "    <tr>\n",
              "      <th>237668</th>\n",
              "      <td>False</td>\n",
              "      <td>False</td>\n",
              "      <td>False</td>\n",
              "      <td>False</td>\n",
              "      <td>False</td>\n",
              "      <td>False</td>\n",
              "      <td>True</td>\n",
              "      <td>False</td>\n",
              "      <td>False</td>\n",
              "      <td>False</td>\n",
              "      <td>False</td>\n",
              "      <td>False</td>\n",
              "    </tr>\n",
              "    <tr>\n",
              "      <th>237669</th>\n",
              "      <td>False</td>\n",
              "      <td>False</td>\n",
              "      <td>False</td>\n",
              "      <td>False</td>\n",
              "      <td>False</td>\n",
              "      <td>False</td>\n",
              "      <td>False</td>\n",
              "      <td>False</td>\n",
              "      <td>False</td>\n",
              "      <td>False</td>\n",
              "      <td>False</td>\n",
              "      <td>False</td>\n",
              "    </tr>\n",
              "    <tr>\n",
              "      <th>237670</th>\n",
              "      <td>False</td>\n",
              "      <td>False</td>\n",
              "      <td>False</td>\n",
              "      <td>False</td>\n",
              "      <td>False</td>\n",
              "      <td>False</td>\n",
              "      <td>True</td>\n",
              "      <td>False</td>\n",
              "      <td>False</td>\n",
              "      <td>False</td>\n",
              "      <td>False</td>\n",
              "      <td>False</td>\n",
              "    </tr>\n",
              "  </tbody>\n",
              "</table>\n",
              "<p>237671 rows × 12 columns</p>\n",
              "</div>"
            ],
            "text/plain": [
              "        buyer_id  buyer_country  seller_id  seller_country  product_code  \\\n",
              "0          False          False      False           False         False   \n",
              "1          False          False      False           False         False   \n",
              "2          False          False      False           False         False   \n",
              "3          False          False      False           False         False   \n",
              "4          False          False      False           False         False   \n",
              "...          ...            ...        ...             ...           ...   \n",
              "237666     False          False      False           False         False   \n",
              "237667     False          False      False           False         False   \n",
              "237668     False          False      False           False         False   \n",
              "237669     False          False      False           False         False   \n",
              "237670     False          False      False           False         False   \n",
              "\n",
              "        category  brand  currency  price   date   rate  sales  \n",
              "0          False   True     False  False  False  False  False  \n",
              "1          False  False     False  False  False  False  False  \n",
              "2          False   True     False  False  False  False  False  \n",
              "3          False  False     False  False  False  False  False  \n",
              "4          False   True     False  False  False  False  False  \n",
              "...          ...    ...       ...    ...    ...    ...    ...  \n",
              "237666     False   True     False  False  False  False  False  \n",
              "237667     False   True     False  False  False  False  False  \n",
              "237668     False   True     False  False  False  False  False  \n",
              "237669     False  False     False  False  False  False  False  \n",
              "237670     False   True     False  False  False  False  False  \n",
              "\n",
              "[237671 rows x 12 columns]"
            ]
          },
          "execution_count": 90,
          "metadata": {},
          "output_type": "execute_result"
        }
      ],
      "source": [
        "df.isna()"
      ]
    },
    {
      "cell_type": "code",
      "execution_count": null,
      "id": "431460bd",
      "metadata": {
        "id": "431460bd",
        "outputId": "81901515-4b65-429f-cfbb-fdcf1fb8d598"
      },
      "outputs": [
        {
          "data": {
            "text/plain": [
              "0          True\n",
              "1         False\n",
              "2          True\n",
              "3         False\n",
              "4          True\n",
              "          ...  \n",
              "237666     True\n",
              "237667     True\n",
              "237668     True\n",
              "237669    False\n",
              "237670     True\n",
              "Name: brand, Length: 237671, dtype: bool"
            ]
          },
          "execution_count": 91,
          "metadata": {},
          "output_type": "execute_result"
        }
      ],
      "source": [
        "df.brand.isna()"
      ]
    },
    {
      "cell_type": "code",
      "execution_count": null,
      "id": "366206e4",
      "metadata": {
        "id": "366206e4",
        "outputId": "0c0c500e-701d-4d33-b6f5-98eb62e899e3"
      },
      "outputs": [
        {
          "data": {
            "text/html": [
              "<div>\n",
              "<style scoped>\n",
              "    .dataframe tbody tr th:only-of-type {\n",
              "        vertical-align: middle;\n",
              "    }\n",
              "\n",
              "    .dataframe tbody tr th {\n",
              "        vertical-align: top;\n",
              "    }\n",
              "\n",
              "    .dataframe thead th {\n",
              "        text-align: right;\n",
              "    }\n",
              "</style>\n",
              "<table border=\"1\" class=\"dataframe\">\n",
              "  <thead>\n",
              "    <tr style=\"text-align: right;\">\n",
              "      <th></th>\n",
              "      <th>buyer_id</th>\n",
              "      <th>buyer_country</th>\n",
              "      <th>seller_id</th>\n",
              "      <th>seller_country</th>\n",
              "      <th>product_code</th>\n",
              "      <th>category</th>\n",
              "      <th>brand</th>\n",
              "      <th>currency</th>\n",
              "      <th>price</th>\n",
              "      <th>date</th>\n",
              "      <th>rate</th>\n",
              "      <th>sales</th>\n",
              "    </tr>\n",
              "  </thead>\n",
              "  <tbody>\n",
              "    <tr>\n",
              "      <th>12</th>\n",
              "      <td>p6nqo9ow69</td>\n",
              "      <td>GB</td>\n",
              "      <td>nssbpcrq</td>\n",
              "      <td>GB</td>\n",
              "      <td>wq0l762madfz</td>\n",
              "      <td>Jewellery</td>\n",
              "      <td>NaN</td>\n",
              "      <td>GBP</td>\n",
              "      <td>5.46</td>\n",
              "      <td>2020-08-03</td>\n",
              "      <td>0.899350</td>\n",
              "      <td>6.071051</td>\n",
              "    </tr>\n",
              "    <tr>\n",
              "      <th>13</th>\n",
              "      <td>p6nqo9ow69</td>\n",
              "      <td>GB</td>\n",
              "      <td>nssbpcrq</td>\n",
              "      <td>GB</td>\n",
              "      <td>barsdufpkov1</td>\n",
              "      <td>Jewellery</td>\n",
              "      <td>NaN</td>\n",
              "      <td>GBP</td>\n",
              "      <td>5.38</td>\n",
              "      <td>2020-08-03</td>\n",
              "      <td>0.899350</td>\n",
              "      <td>5.982098</td>\n",
              "    </tr>\n",
              "    <tr>\n",
              "      <th>14</th>\n",
              "      <td>p6nqo9ow69</td>\n",
              "      <td>GB</td>\n",
              "      <td>nssbpcrq</td>\n",
              "      <td>GB</td>\n",
              "      <td>sx4v979fwe9g</td>\n",
              "      <td>Jewellery</td>\n",
              "      <td>NaN</td>\n",
              "      <td>GBP</td>\n",
              "      <td>5.55</td>\n",
              "      <td>2020-08-03</td>\n",
              "      <td>0.899350</td>\n",
              "      <td>6.171124</td>\n",
              "    </tr>\n",
              "    <tr>\n",
              "      <th>17</th>\n",
              "      <td>pykp4zs8mc</td>\n",
              "      <td>GB</td>\n",
              "      <td>scikolkp</td>\n",
              "      <td>GB</td>\n",
              "      <td>737xf8jztbe3</td>\n",
              "      <td>Jewellery</td>\n",
              "      <td>NaN</td>\n",
              "      <td>GBP</td>\n",
              "      <td>3.16</td>\n",
              "      <td>2020-08-03</td>\n",
              "      <td>0.899350</td>\n",
              "      <td>3.513649</td>\n",
              "    </tr>\n",
              "    <tr>\n",
              "      <th>18</th>\n",
              "      <td>o5xp196pcv</td>\n",
              "      <td>GB</td>\n",
              "      <td>scikolkp</td>\n",
              "      <td>GB</td>\n",
              "      <td>737xf8jztbe3</td>\n",
              "      <td>Jewellery</td>\n",
              "      <td>NaN</td>\n",
              "      <td>GBP</td>\n",
              "      <td>3.19</td>\n",
              "      <td>2020-08-03</td>\n",
              "      <td>0.899350</td>\n",
              "      <td>3.547006</td>\n",
              "    </tr>\n",
              "    <tr>\n",
              "      <th>...</th>\n",
              "      <td>...</td>\n",
              "      <td>...</td>\n",
              "      <td>...</td>\n",
              "      <td>...</td>\n",
              "      <td>...</td>\n",
              "      <td>...</td>\n",
              "      <td>...</td>\n",
              "      <td>...</td>\n",
              "      <td>...</td>\n",
              "      <td>...</td>\n",
              "      <td>...</td>\n",
              "      <td>...</td>\n",
              "    </tr>\n",
              "    <tr>\n",
              "      <th>237559</th>\n",
              "      <td>r5yybfohtd</td>\n",
              "      <td>RoW</td>\n",
              "      <td>obj73jrd</td>\n",
              "      <td>RoW</td>\n",
              "      <td>cltpu36u88j9</td>\n",
              "      <td>Jewellery</td>\n",
              "      <td>NaN</td>\n",
              "      <td>CHF</td>\n",
              "      <td>51.37</td>\n",
              "      <td>2020-08-06</td>\n",
              "      <td>1.080625</td>\n",
              "      <td>47.537305</td>\n",
              "    </tr>\n",
              "    <tr>\n",
              "      <th>237603</th>\n",
              "      <td>cdg1teu4ci</td>\n",
              "      <td>RoW</td>\n",
              "      <td>qkbj84x9</td>\n",
              "      <td>RoW</td>\n",
              "      <td>57vayo0pe16h</td>\n",
              "      <td>Jewellery</td>\n",
              "      <td>NaN</td>\n",
              "      <td>CHF</td>\n",
              "      <td>6.43</td>\n",
              "      <td>2020-08-05</td>\n",
              "      <td>1.078185</td>\n",
              "      <td>5.963726</td>\n",
              "    </tr>\n",
              "    <tr>\n",
              "      <th>237605</th>\n",
              "      <td>akms2z4sfi</td>\n",
              "      <td>RoW</td>\n",
              "      <td>46doai5x</td>\n",
              "      <td>RoW</td>\n",
              "      <td>23m53gbwhy5i</td>\n",
              "      <td>Jewellery</td>\n",
              "      <td>NaN</td>\n",
              "      <td>CHF</td>\n",
              "      <td>12.98</td>\n",
              "      <td>2020-08-05</td>\n",
              "      <td>1.078185</td>\n",
              "      <td>12.038750</td>\n",
              "    </tr>\n",
              "    <tr>\n",
              "      <th>237644</th>\n",
              "      <td>5dqjb29gah</td>\n",
              "      <td>RoW</td>\n",
              "      <td>echsgc0o</td>\n",
              "      <td>RoW</td>\n",
              "      <td>gamzhdm6zesg</td>\n",
              "      <td>Jewellery</td>\n",
              "      <td>NaN</td>\n",
              "      <td>SEK</td>\n",
              "      <td>328.72</td>\n",
              "      <td>2020-08-07</td>\n",
              "      <td>10.314180</td>\n",
              "      <td>31.870687</td>\n",
              "    </tr>\n",
              "    <tr>\n",
              "      <th>237668</th>\n",
              "      <td>tucgt70cwc</td>\n",
              "      <td>AU</td>\n",
              "      <td>9adnlxvr</td>\n",
              "      <td>RoW</td>\n",
              "      <td>2g0g0obhwjuc</td>\n",
              "      <td>Jewellery</td>\n",
              "      <td>NaN</td>\n",
              "      <td>PLN</td>\n",
              "      <td>525.82</td>\n",
              "      <td>2020-08-09</td>\n",
              "      <td>4.414270</td>\n",
              "      <td>119.118223</td>\n",
              "    </tr>\n",
              "  </tbody>\n",
              "</table>\n",
              "<p>13525 rows × 12 columns</p>\n",
              "</div>"
            ],
            "text/plain": [
              "          buyer_id buyer_country seller_id seller_country  product_code  \\\n",
              "12      p6nqo9ow69            GB  nssbpcrq             GB  wq0l762madfz   \n",
              "13      p6nqo9ow69            GB  nssbpcrq             GB  barsdufpkov1   \n",
              "14      p6nqo9ow69            GB  nssbpcrq             GB  sx4v979fwe9g   \n",
              "17      pykp4zs8mc            GB  scikolkp             GB  737xf8jztbe3   \n",
              "18      o5xp196pcv            GB  scikolkp             GB  737xf8jztbe3   \n",
              "...            ...           ...       ...            ...           ...   \n",
              "237559  r5yybfohtd           RoW  obj73jrd            RoW  cltpu36u88j9   \n",
              "237603  cdg1teu4ci           RoW  qkbj84x9            RoW  57vayo0pe16h   \n",
              "237605  akms2z4sfi           RoW  46doai5x            RoW  23m53gbwhy5i   \n",
              "237644  5dqjb29gah           RoW  echsgc0o            RoW  gamzhdm6zesg   \n",
              "237668  tucgt70cwc            AU  9adnlxvr            RoW  2g0g0obhwjuc   \n",
              "\n",
              "         category brand currency   price       date       rate       sales  \n",
              "12      Jewellery   NaN      GBP    5.46 2020-08-03   0.899350    6.071051  \n",
              "13      Jewellery   NaN      GBP    5.38 2020-08-03   0.899350    5.982098  \n",
              "14      Jewellery   NaN      GBP    5.55 2020-08-03   0.899350    6.171124  \n",
              "17      Jewellery   NaN      GBP    3.16 2020-08-03   0.899350    3.513649  \n",
              "18      Jewellery   NaN      GBP    3.19 2020-08-03   0.899350    3.547006  \n",
              "...           ...   ...      ...     ...        ...        ...         ...  \n",
              "237559  Jewellery   NaN      CHF   51.37 2020-08-06   1.080625   47.537305  \n",
              "237603  Jewellery   NaN      CHF    6.43 2020-08-05   1.078185    5.963726  \n",
              "237605  Jewellery   NaN      CHF   12.98 2020-08-05   1.078185   12.038750  \n",
              "237644  Jewellery   NaN      SEK  328.72 2020-08-07  10.314180   31.870687  \n",
              "237668  Jewellery   NaN      PLN  525.82 2020-08-09   4.414270  119.118223  \n",
              "\n",
              "[13525 rows x 12 columns]"
            ]
          },
          "execution_count": 92,
          "metadata": {},
          "output_type": "execute_result"
        }
      ],
      "source": [
        "df.loc[ df.category == 'Jewellery'].loc[df.brand.isna()]"
      ]
    },
    {
      "cell_type": "code",
      "execution_count": null,
      "id": "ed209531",
      "metadata": {
        "id": "ed209531",
        "outputId": "596d3c56-c20c-4e40-cf74-03b4e1a776fc"
      },
      "outputs": [
        {
          "data": {
            "text/plain": [
              "10931"
            ]
          },
          "execution_count": 97,
          "metadata": {},
          "output_type": "execute_result"
        }
      ],
      "source": [
        "df.loc[ df.category == 'Jewellery'].loc[df.brand.isna()].product_code.nunique()"
      ]
    },
    {
      "cell_type": "code",
      "execution_count": null,
      "id": "971e5428",
      "metadata": {
        "id": "971e5428"
      },
      "outputs": [],
      "source": [
        ""
      ]
    },
    {
      "cell_type": "code",
      "execution_count": null,
      "id": "12ea0fe8",
      "metadata": {
        "id": "12ea0fe8",
        "outputId": "58b7969a-5940-4fe4-ee9f-66e4fd7b3b95"
      },
      "outputs": [
        {
          "data": {
            "text/plain": [
              "0         ydecnydr6obf\n",
              "1         wpxxf59cq7pc\n",
              "2         ua9mmn86wsqy\n",
              "3         tduo2uy8iszl\n",
              "4         39o00tcu89zq\n",
              "              ...     \n",
              "237666    nan9a4p10ayk\n",
              "237667    lxj477q1hab2\n",
              "237668    2g0g0obhwjuc\n",
              "237669    5mm5eg99xbu2\n",
              "237670    wrgq88ujwh5d\n",
              "Name: product_code, Length: 237671, dtype: object"
            ]
          },
          "execution_count": 96,
          "metadata": {},
          "output_type": "execute_result"
        }
      ],
      "source": [
        "df.product_code"
      ]
    },
    {
      "cell_type": "code",
      "execution_count": null,
      "id": "afa085c6",
      "metadata": {
        "id": "afa085c6",
        "outputId": "5bd6c66c-bd9b-49ad-aac6-305be1877849"
      },
      "outputs": [
        {
          "data": {
            "text/plain": [
              "fb59ug7bzkz5    177\n",
              "wkc7by4bxkn9    103\n",
              "2x1b88kr0j4c     77\n",
              "qjdrcwym5i7s     63\n",
              "hjh76t2fcxqe     62\n",
              "               ... \n",
              "4q113dttuetr      1\n",
              "8dvx5h9cm1ae      1\n",
              "y6uw2qhd18vz      1\n",
              "httlhu12gcs1      1\n",
              "wrgq88ujwh5d      1\n",
              "Name: product_code, Length: 226311, dtype: int64"
            ]
          },
          "execution_count": 93,
          "metadata": {},
          "output_type": "execute_result"
        }
      ],
      "source": [
        "df.product_code.value_counts()"
      ]
    },
    {
      "cell_type": "code",
      "execution_count": null,
      "id": "fe00eda1",
      "metadata": {
        "id": "fe00eda1"
      },
      "outputs": [],
      "source": [
        "df.product_code.value_counts()"
      ]
    },
    {
      "cell_type": "code",
      "execution_count": null,
      "id": "8674021c",
      "metadata": {
        "id": "8674021c",
        "outputId": "de83596f-7c69-4587-ea48-493679973cb0"
      },
      "outputs": [
        {
          "data": {
            "text/plain": [
              "226311"
            ]
          },
          "execution_count": 95,
          "metadata": {},
          "output_type": "execute_result"
        }
      ],
      "source": [
        "df.product_code.nunique()"
      ]
    },
    {
      "cell_type": "markdown",
      "id": "46de0b89",
      "metadata": {
        "id": "46de0b89"
      },
      "source": [
        "7. How many brands have between 35 and 55 transactions (inclusive)?(Just write the numbers)"
      ]
    },
    {
      "cell_type": "code",
      "execution_count": null,
      "id": "f27b448e",
      "metadata": {
        "id": "f27b448e",
        "outputId": "ebac085c-1023-436a-f353-89ca9cbd28f2"
      },
      "outputs": [
        {
          "data": {
            "text/html": [
              "<div>\n",
              "<style scoped>\n",
              "    .dataframe tbody tr th:only-of-type {\n",
              "        vertical-align: middle;\n",
              "    }\n",
              "\n",
              "    .dataframe tbody tr th {\n",
              "        vertical-align: top;\n",
              "    }\n",
              "\n",
              "    .dataframe thead th {\n",
              "        text-align: right;\n",
              "    }\n",
              "</style>\n",
              "<table border=\"1\" class=\"dataframe\">\n",
              "  <thead>\n",
              "    <tr style=\"text-align: right;\">\n",
              "      <th></th>\n",
              "      <th>buyer_id</th>\n",
              "      <th>buyer_country</th>\n",
              "      <th>seller_id</th>\n",
              "      <th>seller_country</th>\n",
              "      <th>product_code</th>\n",
              "      <th>category</th>\n",
              "      <th>brand</th>\n",
              "      <th>currency</th>\n",
              "      <th>price</th>\n",
              "      <th>date</th>\n",
              "      <th>rate</th>\n",
              "      <th>sales</th>\n",
              "    </tr>\n",
              "  </thead>\n",
              "  <tbody>\n",
              "    <tr>\n",
              "      <th>0</th>\n",
              "      <td>qzpjsi9t0o</td>\n",
              "      <td>GB</td>\n",
              "      <td>6oufpaot</td>\n",
              "      <td>GB</td>\n",
              "      <td>ydecnydr6obf</td>\n",
              "      <td>Dresses</td>\n",
              "      <td>NaN</td>\n",
              "      <td>GBP</td>\n",
              "      <td>19.11</td>\n",
              "      <td>2020-08-03</td>\n",
              "      <td>0.89935</td>\n",
              "      <td>21.248680</td>\n",
              "    </tr>\n",
              "    <tr>\n",
              "      <th>1</th>\n",
              "      <td>rd209r8c7c</td>\n",
              "      <td>GB</td>\n",
              "      <td>9p2ansc9</td>\n",
              "      <td>GB</td>\n",
              "      <td>wpxxf59cq7pc</td>\n",
              "      <td>Outerwear - Mens</td>\n",
              "      <td>Adidas Originals</td>\n",
              "      <td>GBP</td>\n",
              "      <td>24.91</td>\n",
              "      <td>2020-08-03</td>\n",
              "      <td>0.89935</td>\n",
              "      <td>27.697782</td>\n",
              "    </tr>\n",
              "    <tr>\n",
              "      <th>2</th>\n",
              "      <td>pqbcrl8azx</td>\n",
              "      <td>GB</td>\n",
              "      <td>r9zmzem8</td>\n",
              "      <td>GB</td>\n",
              "      <td>ua9mmn86wsqy</td>\n",
              "      <td>Tops - Womens</td>\n",
              "      <td>NaN</td>\n",
              "      <td>GBP</td>\n",
              "      <td>19.31</td>\n",
              "      <td>2020-08-03</td>\n",
              "      <td>0.89935</td>\n",
              "      <td>21.471062</td>\n",
              "    </tr>\n",
              "    <tr>\n",
              "      <th>3</th>\n",
              "      <td>j5en1rwmxp</td>\n",
              "      <td>GB</td>\n",
              "      <td>3o2nz88r</td>\n",
              "      <td>GB</td>\n",
              "      <td>tduo2uy8iszl</td>\n",
              "      <td>Bottoms - Womens</td>\n",
              "      <td>Urban Outfitters</td>\n",
              "      <td>GBP</td>\n",
              "      <td>16.98</td>\n",
              "      <td>2020-08-03</td>\n",
              "      <td>0.89935</td>\n",
              "      <td>18.880302</td>\n",
              "    </tr>\n",
              "    <tr>\n",
              "      <th>4</th>\n",
              "      <td>kjdezxeh1l</td>\n",
              "      <td>GB</td>\n",
              "      <td>7g56ublf</td>\n",
              "      <td>GB</td>\n",
              "      <td>39o00tcu89zq</td>\n",
              "      <td>Other</td>\n",
              "      <td>NaN</td>\n",
              "      <td>GBP</td>\n",
              "      <td>2.85</td>\n",
              "      <td>2020-08-03</td>\n",
              "      <td>0.89935</td>\n",
              "      <td>3.168955</td>\n",
              "    </tr>\n",
              "    <tr>\n",
              "      <th>...</th>\n",
              "      <td>...</td>\n",
              "      <td>...</td>\n",
              "      <td>...</td>\n",
              "      <td>...</td>\n",
              "      <td>...</td>\n",
              "      <td>...</td>\n",
              "      <td>...</td>\n",
              "      <td>...</td>\n",
              "      <td>...</td>\n",
              "      <td>...</td>\n",
              "      <td>...</td>\n",
              "      <td>...</td>\n",
              "    </tr>\n",
              "    <tr>\n",
              "      <th>237666</th>\n",
              "      <td>d7dx6f3qv7</td>\n",
              "      <td>RoW</td>\n",
              "      <td>e2p108mu</td>\n",
              "      <td>RoW</td>\n",
              "      <td>nan9a4p10ayk</td>\n",
              "      <td>Tops - Mens</td>\n",
              "      <td>NaN</td>\n",
              "      <td>PLN</td>\n",
              "      <td>4.24</td>\n",
              "      <td>2020-08-04</td>\n",
              "      <td>4.39693</td>\n",
              "      <td>0.964309</td>\n",
              "    </tr>\n",
              "    <tr>\n",
              "      <th>237667</th>\n",
              "      <td>iaf2ck3rj6</td>\n",
              "      <td>IT</td>\n",
              "      <td>gjb1qntq</td>\n",
              "      <td>RoW</td>\n",
              "      <td>lxj477q1hab2</td>\n",
              "      <td>Accessories</td>\n",
              "      <td>NaN</td>\n",
              "      <td>CZK</td>\n",
              "      <td>3923.18</td>\n",
              "      <td>2020-08-04</td>\n",
              "      <td>26.12360</td>\n",
              "      <td>150.177617</td>\n",
              "    </tr>\n",
              "    <tr>\n",
              "      <th>237668</th>\n",
              "      <td>tucgt70cwc</td>\n",
              "      <td>AU</td>\n",
              "      <td>9adnlxvr</td>\n",
              "      <td>RoW</td>\n",
              "      <td>2g0g0obhwjuc</td>\n",
              "      <td>Jewellery</td>\n",
              "      <td>NaN</td>\n",
              "      <td>PLN</td>\n",
              "      <td>525.82</td>\n",
              "      <td>2020-08-09</td>\n",
              "      <td>4.41427</td>\n",
              "      <td>119.118223</td>\n",
              "    </tr>\n",
              "    <tr>\n",
              "      <th>237669</th>\n",
              "      <td>rrfjxzbdxu</td>\n",
              "      <td>US</td>\n",
              "      <td>w2pozh7u</td>\n",
              "      <td>US</td>\n",
              "      <td>5mm5eg99xbu2</td>\n",
              "      <td>Bottoms - Womens</td>\n",
              "      <td>Brandy Melville</td>\n",
              "      <td>BRL</td>\n",
              "      <td>34.92</td>\n",
              "      <td>2020-08-06</td>\n",
              "      <td>6.33240</td>\n",
              "      <td>5.514497</td>\n",
              "    </tr>\n",
              "    <tr>\n",
              "      <th>237670</th>\n",
              "      <td>wnmihth4io</td>\n",
              "      <td>GB</td>\n",
              "      <td>5yogzc17</td>\n",
              "      <td>RoW</td>\n",
              "      <td>wrgq88ujwh5d</td>\n",
              "      <td>Bottoms - Womens</td>\n",
              "      <td>NaN</td>\n",
              "      <td>NOK</td>\n",
              "      <td>533.06</td>\n",
              "      <td>2020-08-08</td>\n",
              "      <td>10.64540</td>\n",
              "      <td>50.074210</td>\n",
              "    </tr>\n",
              "  </tbody>\n",
              "</table>\n",
              "<p>237671 rows × 12 columns</p>\n",
              "</div>"
            ],
            "text/plain": [
              "          buyer_id buyer_country seller_id seller_country  product_code  \\\n",
              "0       qzpjsi9t0o            GB  6oufpaot             GB  ydecnydr6obf   \n",
              "1       rd209r8c7c            GB  9p2ansc9             GB  wpxxf59cq7pc   \n",
              "2       pqbcrl8azx            GB  r9zmzem8             GB  ua9mmn86wsqy   \n",
              "3       j5en1rwmxp            GB  3o2nz88r             GB  tduo2uy8iszl   \n",
              "4       kjdezxeh1l            GB  7g56ublf             GB  39o00tcu89zq   \n",
              "...            ...           ...       ...            ...           ...   \n",
              "237666  d7dx6f3qv7           RoW  e2p108mu            RoW  nan9a4p10ayk   \n",
              "237667  iaf2ck3rj6            IT  gjb1qntq            RoW  lxj477q1hab2   \n",
              "237668  tucgt70cwc            AU  9adnlxvr            RoW  2g0g0obhwjuc   \n",
              "237669  rrfjxzbdxu            US  w2pozh7u             US  5mm5eg99xbu2   \n",
              "237670  wnmihth4io            GB  5yogzc17            RoW  wrgq88ujwh5d   \n",
              "\n",
              "                category             brand currency    price       date  \\\n",
              "0                Dresses               NaN      GBP    19.11 2020-08-03   \n",
              "1       Outerwear - Mens  Adidas Originals      GBP    24.91 2020-08-03   \n",
              "2          Tops - Womens               NaN      GBP    19.31 2020-08-03   \n",
              "3       Bottoms - Womens  Urban Outfitters      GBP    16.98 2020-08-03   \n",
              "4                  Other               NaN      GBP     2.85 2020-08-03   \n",
              "...                  ...               ...      ...      ...        ...   \n",
              "237666       Tops - Mens               NaN      PLN     4.24 2020-08-04   \n",
              "237667       Accessories               NaN      CZK  3923.18 2020-08-04   \n",
              "237668         Jewellery               NaN      PLN   525.82 2020-08-09   \n",
              "237669  Bottoms - Womens   Brandy Melville      BRL    34.92 2020-08-06   \n",
              "237670  Bottoms - Womens               NaN      NOK   533.06 2020-08-08   \n",
              "\n",
              "            rate       sales  \n",
              "0        0.89935   21.248680  \n",
              "1        0.89935   27.697782  \n",
              "2        0.89935   21.471062  \n",
              "3        0.89935   18.880302  \n",
              "4        0.89935    3.168955  \n",
              "...          ...         ...  \n",
              "237666   4.39693    0.964309  \n",
              "237667  26.12360  150.177617  \n",
              "237668   4.41427  119.118223  \n",
              "237669   6.33240    5.514497  \n",
              "237670  10.64540   50.074210  \n",
              "\n",
              "[237671 rows x 12 columns]"
            ]
          },
          "execution_count": 98,
          "metadata": {},
          "output_type": "execute_result"
        }
      ],
      "source": [
        "df"
      ]
    },
    {
      "cell_type": "code",
      "execution_count": null,
      "id": "c7ae8f0f",
      "metadata": {
        "id": "c7ae8f0f",
        "outputId": "a84b1a10-46ee-41cb-cbf8-77f924525009"
      },
      "outputs": [
        {
          "data": {
            "text/plain": [
              "Nike                  9575\n",
              "Brandy Melville       5065\n",
              "Topshop               4561\n",
              "PrettyLittle Thing    4136\n",
              "Adidas                3905\n",
              "                      ... \n",
              "Filson                   1\n",
              "Surf Gypsy               1\n",
              "Chaser                   1\n",
              "All Things Mochi         1\n",
              "KTZ                      1\n",
              "Name: brand, Length: 1134, dtype: int64"
            ]
          },
          "execution_count": 120,
          "metadata": {},
          "output_type": "execute_result"
        }
      ],
      "source": [
        "df.brand.value_counts()"
      ]
    },
    {
      "cell_type": "code",
      "execution_count": null,
      "id": "7e8a8fe1",
      "metadata": {
        "id": "7e8a8fe1",
        "outputId": "1ee822c8-83c3-4ea1-8592-9f5cace04822"
      },
      "outputs": [
        {
          "data": {
            "text/plain": [
              "Nike                  9575\n",
              "Brandy Melville       5065\n",
              "Topshop               4561\n",
              "PrettyLittle Thing    4136\n",
              "Adidas                3905\n",
              "                      ... \n",
              "Filson                   1\n",
              "Surf Gypsy               1\n",
              "Chaser                   1\n",
              "All Things Mochi         1\n",
              "KTZ                      1\n",
              "Name: brand, Length: 1134, dtype: int64"
            ]
          },
          "execution_count": 116,
          "metadata": {},
          "output_type": "execute_result"
        }
      ],
      "source": [
        "d = df.brand.value_counts()\n",
        "d"
      ]
    },
    {
      "cell_type": "code",
      "execution_count": null,
      "id": "cd016907",
      "metadata": {
        "id": "cd016907",
        "outputId": "987e5574-3fb0-4db8-d0b2-c11978ad2801"
      },
      "outputs": [
        {
          "data": {
            "text/plain": [
              "array([ True,  True,  True, ..., False, False, False])"
            ]
          },
          "execution_count": 118,
          "metadata": {},
          "output_type": "execute_result"
        }
      ],
      "source": [
        "d.values>35"
      ]
    },
    {
      "cell_type": "code",
      "execution_count": null,
      "id": "16e4c259",
      "metadata": {
        "id": "16e4c259",
        "outputId": "cdb0c0fb-b459-4a6e-cd15-0d4bb1dd4fdb"
      },
      "outputs": [
        {
          "data": {
            "text/plain": [
              "Missy Empire      55\n",
              "George            55\n",
              "Cotton On         53\n",
              "Oasis             52\n",
              "Moda Minx         52\n",
              "                  ..\n",
              "ghd               35\n",
              "Chi Chi London    35\n",
              "Xhilaration       35\n",
              "Jansport          35\n",
              "Bobbi Brown       35\n",
              "Name: brand, Length: 81, dtype: int64"
            ]
          },
          "execution_count": 119,
          "metadata": {},
          "output_type": "execute_result"
        }
      ],
      "source": [
        "d.loc[ (d.values>=35) & (d.values<=55)]"
      ]
    },
    {
      "cell_type": "code",
      "execution_count": null,
      "id": "305e8b28",
      "metadata": {
        "id": "305e8b28",
        "outputId": "316eb994-b6f1-4e4d-fbae-753f331d51e6"
      },
      "outputs": [
        {
          "data": {
            "text/plain": [
              "Index(['Nike', 'Brandy Melville', 'Topshop', 'PrettyLittle Thing', 'Adidas',\n",
              "       'American Vintage', 'Zara', 'Urban Outfitters', 'ASOS', 'Vans',\n",
              "       ...\n",
              "       'Parker', 'Ann Demeulemeester', 'Seychelles', 'Oak + Fort',\n",
              "       'Maidenform', 'Filson', 'Surf Gypsy', 'Chaser', 'All Things Mochi',\n",
              "       'KTZ'],\n",
              "      dtype='object', length=1134)"
            ]
          },
          "execution_count": 121,
          "metadata": {},
          "output_type": "execute_result"
        }
      ],
      "source": [
        "d.index"
      ]
    },
    {
      "cell_type": "code",
      "execution_count": null,
      "id": "13f3c75d",
      "metadata": {
        "id": "13f3c75d",
        "outputId": "d32b0c01-bc3e-4ee5-dc36-e5a1565745e8"
      },
      "outputs": [
        {
          "data": {
            "text/plain": [
              "seri_index_isim\n",
              "Nike                  9575\n",
              "Brandy Melville       5065\n",
              "Topshop               4561\n",
              "PrettyLittle Thing    4136\n",
              "Adidas                3905\n",
              "                      ... \n",
              "Filson                   1\n",
              "Surf Gypsy               1\n",
              "Chaser                   1\n",
              "All Things Mochi         1\n",
              "KTZ                      1\n",
              "Name: brand, Length: 1134, dtype: int64"
            ]
          },
          "execution_count": 123,
          "metadata": {},
          "output_type": "execute_result"
        }
      ],
      "source": [
        "d.index.name='seri_index_isim'\n",
        "d"
      ]
    },
    {
      "cell_type": "markdown",
      "id": "4693b70e",
      "metadata": {
        "id": "4693b70e"
      },
      "source": [
        " 8. How many pairs of shoes were purchased by Australian (AU) buyers?(Just write the the numbers)"
      ]
    },
    {
      "cell_type": "code",
      "execution_count": null,
      "id": "5e34eff7",
      "metadata": {
        "id": "5e34eff7",
        "outputId": "4a4b2ccc-2856-4f11-accb-c3cb143c4660"
      },
      "outputs": [
        {
          "data": {
            "text/html": [
              "<div>\n",
              "<style scoped>\n",
              "    .dataframe tbody tr th:only-of-type {\n",
              "        vertical-align: middle;\n",
              "    }\n",
              "\n",
              "    .dataframe tbody tr th {\n",
              "        vertical-align: top;\n",
              "    }\n",
              "\n",
              "    .dataframe thead th {\n",
              "        text-align: right;\n",
              "    }\n",
              "</style>\n",
              "<table border=\"1\" class=\"dataframe\">\n",
              "  <thead>\n",
              "    <tr style=\"text-align: right;\">\n",
              "      <th></th>\n",
              "      <th>buyer_id</th>\n",
              "      <th>buyer_country</th>\n",
              "      <th>seller_id</th>\n",
              "      <th>seller_country</th>\n",
              "      <th>product_code</th>\n",
              "      <th>category</th>\n",
              "      <th>brand</th>\n",
              "      <th>currency</th>\n",
              "      <th>price</th>\n",
              "      <th>date</th>\n",
              "      <th>rate</th>\n",
              "      <th>sales</th>\n",
              "    </tr>\n",
              "  </thead>\n",
              "  <tbody>\n",
              "    <tr>\n",
              "      <th>0</th>\n",
              "      <td>qzpjsi9t0o</td>\n",
              "      <td>GB</td>\n",
              "      <td>6oufpaot</td>\n",
              "      <td>GB</td>\n",
              "      <td>ydecnydr6obf</td>\n",
              "      <td>Dresses</td>\n",
              "      <td>NaN</td>\n",
              "      <td>GBP</td>\n",
              "      <td>19.11</td>\n",
              "      <td>2020-08-03</td>\n",
              "      <td>0.89935</td>\n",
              "      <td>21.248680</td>\n",
              "    </tr>\n",
              "    <tr>\n",
              "      <th>1</th>\n",
              "      <td>rd209r8c7c</td>\n",
              "      <td>GB</td>\n",
              "      <td>9p2ansc9</td>\n",
              "      <td>GB</td>\n",
              "      <td>wpxxf59cq7pc</td>\n",
              "      <td>Outerwear - Mens</td>\n",
              "      <td>Adidas Originals</td>\n",
              "      <td>GBP</td>\n",
              "      <td>24.91</td>\n",
              "      <td>2020-08-03</td>\n",
              "      <td>0.89935</td>\n",
              "      <td>27.697782</td>\n",
              "    </tr>\n",
              "    <tr>\n",
              "      <th>2</th>\n",
              "      <td>pqbcrl8azx</td>\n",
              "      <td>GB</td>\n",
              "      <td>r9zmzem8</td>\n",
              "      <td>GB</td>\n",
              "      <td>ua9mmn86wsqy</td>\n",
              "      <td>Tops - Womens</td>\n",
              "      <td>NaN</td>\n",
              "      <td>GBP</td>\n",
              "      <td>19.31</td>\n",
              "      <td>2020-08-03</td>\n",
              "      <td>0.89935</td>\n",
              "      <td>21.471062</td>\n",
              "    </tr>\n",
              "    <tr>\n",
              "      <th>3</th>\n",
              "      <td>j5en1rwmxp</td>\n",
              "      <td>GB</td>\n",
              "      <td>3o2nz88r</td>\n",
              "      <td>GB</td>\n",
              "      <td>tduo2uy8iszl</td>\n",
              "      <td>Bottoms - Womens</td>\n",
              "      <td>Urban Outfitters</td>\n",
              "      <td>GBP</td>\n",
              "      <td>16.98</td>\n",
              "      <td>2020-08-03</td>\n",
              "      <td>0.89935</td>\n",
              "      <td>18.880302</td>\n",
              "    </tr>\n",
              "    <tr>\n",
              "      <th>4</th>\n",
              "      <td>kjdezxeh1l</td>\n",
              "      <td>GB</td>\n",
              "      <td>7g56ublf</td>\n",
              "      <td>GB</td>\n",
              "      <td>39o00tcu89zq</td>\n",
              "      <td>Other</td>\n",
              "      <td>NaN</td>\n",
              "      <td>GBP</td>\n",
              "      <td>2.85</td>\n",
              "      <td>2020-08-03</td>\n",
              "      <td>0.89935</td>\n",
              "      <td>3.168955</td>\n",
              "    </tr>\n",
              "    <tr>\n",
              "      <th>...</th>\n",
              "      <td>...</td>\n",
              "      <td>...</td>\n",
              "      <td>...</td>\n",
              "      <td>...</td>\n",
              "      <td>...</td>\n",
              "      <td>...</td>\n",
              "      <td>...</td>\n",
              "      <td>...</td>\n",
              "      <td>...</td>\n",
              "      <td>...</td>\n",
              "      <td>...</td>\n",
              "      <td>...</td>\n",
              "    </tr>\n",
              "    <tr>\n",
              "      <th>237666</th>\n",
              "      <td>d7dx6f3qv7</td>\n",
              "      <td>RoW</td>\n",
              "      <td>e2p108mu</td>\n",
              "      <td>RoW</td>\n",
              "      <td>nan9a4p10ayk</td>\n",
              "      <td>Tops - Mens</td>\n",
              "      <td>NaN</td>\n",
              "      <td>PLN</td>\n",
              "      <td>4.24</td>\n",
              "      <td>2020-08-04</td>\n",
              "      <td>4.39693</td>\n",
              "      <td>0.964309</td>\n",
              "    </tr>\n",
              "    <tr>\n",
              "      <th>237667</th>\n",
              "      <td>iaf2ck3rj6</td>\n",
              "      <td>IT</td>\n",
              "      <td>gjb1qntq</td>\n",
              "      <td>RoW</td>\n",
              "      <td>lxj477q1hab2</td>\n",
              "      <td>Accessories</td>\n",
              "      <td>NaN</td>\n",
              "      <td>CZK</td>\n",
              "      <td>3923.18</td>\n",
              "      <td>2020-08-04</td>\n",
              "      <td>26.12360</td>\n",
              "      <td>150.177617</td>\n",
              "    </tr>\n",
              "    <tr>\n",
              "      <th>237668</th>\n",
              "      <td>tucgt70cwc</td>\n",
              "      <td>AU</td>\n",
              "      <td>9adnlxvr</td>\n",
              "      <td>RoW</td>\n",
              "      <td>2g0g0obhwjuc</td>\n",
              "      <td>Jewellery</td>\n",
              "      <td>NaN</td>\n",
              "      <td>PLN</td>\n",
              "      <td>525.82</td>\n",
              "      <td>2020-08-09</td>\n",
              "      <td>4.41427</td>\n",
              "      <td>119.118223</td>\n",
              "    </tr>\n",
              "    <tr>\n",
              "      <th>237669</th>\n",
              "      <td>rrfjxzbdxu</td>\n",
              "      <td>US</td>\n",
              "      <td>w2pozh7u</td>\n",
              "      <td>US</td>\n",
              "      <td>5mm5eg99xbu2</td>\n",
              "      <td>Bottoms - Womens</td>\n",
              "      <td>Brandy Melville</td>\n",
              "      <td>BRL</td>\n",
              "      <td>34.92</td>\n",
              "      <td>2020-08-06</td>\n",
              "      <td>6.33240</td>\n",
              "      <td>5.514497</td>\n",
              "    </tr>\n",
              "    <tr>\n",
              "      <th>237670</th>\n",
              "      <td>wnmihth4io</td>\n",
              "      <td>GB</td>\n",
              "      <td>5yogzc17</td>\n",
              "      <td>RoW</td>\n",
              "      <td>wrgq88ujwh5d</td>\n",
              "      <td>Bottoms - Womens</td>\n",
              "      <td>NaN</td>\n",
              "      <td>NOK</td>\n",
              "      <td>533.06</td>\n",
              "      <td>2020-08-08</td>\n",
              "      <td>10.64540</td>\n",
              "      <td>50.074210</td>\n",
              "    </tr>\n",
              "  </tbody>\n",
              "</table>\n",
              "<p>237671 rows × 12 columns</p>\n",
              "</div>"
            ],
            "text/plain": [
              "          buyer_id buyer_country seller_id seller_country  product_code  \\\n",
              "0       qzpjsi9t0o            GB  6oufpaot             GB  ydecnydr6obf   \n",
              "1       rd209r8c7c            GB  9p2ansc9             GB  wpxxf59cq7pc   \n",
              "2       pqbcrl8azx            GB  r9zmzem8             GB  ua9mmn86wsqy   \n",
              "3       j5en1rwmxp            GB  3o2nz88r             GB  tduo2uy8iszl   \n",
              "4       kjdezxeh1l            GB  7g56ublf             GB  39o00tcu89zq   \n",
              "...            ...           ...       ...            ...           ...   \n",
              "237666  d7dx6f3qv7           RoW  e2p108mu            RoW  nan9a4p10ayk   \n",
              "237667  iaf2ck3rj6            IT  gjb1qntq            RoW  lxj477q1hab2   \n",
              "237668  tucgt70cwc            AU  9adnlxvr            RoW  2g0g0obhwjuc   \n",
              "237669  rrfjxzbdxu            US  w2pozh7u             US  5mm5eg99xbu2   \n",
              "237670  wnmihth4io            GB  5yogzc17            RoW  wrgq88ujwh5d   \n",
              "\n",
              "                category             brand currency    price       date  \\\n",
              "0                Dresses               NaN      GBP    19.11 2020-08-03   \n",
              "1       Outerwear - Mens  Adidas Originals      GBP    24.91 2020-08-03   \n",
              "2          Tops - Womens               NaN      GBP    19.31 2020-08-03   \n",
              "3       Bottoms - Womens  Urban Outfitters      GBP    16.98 2020-08-03   \n",
              "4                  Other               NaN      GBP     2.85 2020-08-03   \n",
              "...                  ...               ...      ...      ...        ...   \n",
              "237666       Tops - Mens               NaN      PLN     4.24 2020-08-04   \n",
              "237667       Accessories               NaN      CZK  3923.18 2020-08-04   \n",
              "237668         Jewellery               NaN      PLN   525.82 2020-08-09   \n",
              "237669  Bottoms - Womens   Brandy Melville      BRL    34.92 2020-08-06   \n",
              "237670  Bottoms - Womens               NaN      NOK   533.06 2020-08-08   \n",
              "\n",
              "            rate       sales  \n",
              "0        0.89935   21.248680  \n",
              "1        0.89935   27.697782  \n",
              "2        0.89935   21.471062  \n",
              "3        0.89935   18.880302  \n",
              "4        0.89935    3.168955  \n",
              "...          ...         ...  \n",
              "237666   4.39693    0.964309  \n",
              "237667  26.12360  150.177617  \n",
              "237668   4.41427  119.118223  \n",
              "237669   6.33240    5.514497  \n",
              "237670  10.64540   50.074210  \n",
              "\n",
              "[237671 rows x 12 columns]"
            ]
          },
          "execution_count": 124,
          "metadata": {},
          "output_type": "execute_result"
        }
      ],
      "source": [
        "df"
      ]
    },
    {
      "cell_type": "code",
      "execution_count": null,
      "id": "859fc00e",
      "metadata": {
        "id": "859fc00e",
        "outputId": "0e12aafb-071e-42e6-9f87-f390114b7d98"
      },
      "outputs": [
        {
          "data": {
            "text/plain": [
              "13420     Shoes\n",
              "14090     Shoes\n",
              "17679     Shoes\n",
              "17845     Shoes\n",
              "18587     Shoes\n",
              "          ...  \n",
              "231398    Shoes\n",
              "236153    Shoes\n",
              "236677    Shoes\n",
              "236928    Shoes\n",
              "237627    Shoes\n",
              "Name: category, Length: 658, dtype: object"
            ]
          },
          "execution_count": 129,
          "metadata": {},
          "output_type": "execute_result"
        }
      ],
      "source": [
        "df.loc[ df.buyer_country=='AU' ].category.loc[ df.category=='Shoes']"
      ]
    },
    {
      "cell_type": "code",
      "execution_count": null,
      "id": "83a81fb8",
      "metadata": {
        "id": "83a81fb8",
        "outputId": "241f9ad2-8057-4dcf-ac6f-0333807e4197"
      },
      "outputs": [
        {
          "data": {
            "text/plain": [
              "658"
            ]
          },
          "execution_count": 130,
          "metadata": {},
          "output_type": "execute_result"
        }
      ],
      "source": [
        "df.loc[ df.buyer_country=='AU' ].category.loc[ df.category=='Shoes'].shape[0]"
      ]
    },
    {
      "cell_type": "code",
      "execution_count": null,
      "id": "610fee71",
      "metadata": {
        "id": "610fee71",
        "outputId": "79dacd06-1fe7-4db4-8f1b-daba9c754363"
      },
      "outputs": [
        {
          "data": {
            "text/plain": [
              "445       Bottoms - Womens\n",
              "739                   Tech\n",
              "1035         Tops - Womens\n",
              "1888           Accessories\n",
              "1889           Accessories\n",
              "                ...       \n",
              "237436    Bottoms - Womens\n",
              "237444         Accessories\n",
              "237451             Dresses\n",
              "237627               Shoes\n",
              "237668           Jewellery\n",
              "Name: category, Length: 7868, dtype: object"
            ]
          },
          "execution_count": 132,
          "metadata": {},
          "output_type": "execute_result"
        }
      ],
      "source": [
        "df.loc[ df.buyer_country=='AU' ].category"
      ]
    },
    {
      "cell_type": "code",
      "execution_count": null,
      "id": "e8672520",
      "metadata": {
        "id": "e8672520",
        "outputId": "5411b77c-3906-4edf-9d28-5a68225618de"
      },
      "outputs": [
        {
          "data": {
            "text/plain": [
              "445       Bottoms - Womens\n",
              "739                   Tech\n",
              "1035         Tops - Womens\n",
              "1888           Accessories\n",
              "1889           Accessories\n",
              "                ...       \n",
              "237436    Bottoms - Womens\n",
              "237444         Accessories\n",
              "237451             Dresses\n",
              "237627               Shoes\n",
              "237668           Jewellery\n",
              "Name: category, Length: 7868, dtype: object"
            ]
          },
          "execution_count": 133,
          "metadata": {},
          "output_type": "execute_result"
        }
      ],
      "source": [
        "df.loc[ df.buyer_country=='AU' ]['category']"
      ]
    },
    {
      "cell_type": "code",
      "execution_count": null,
      "id": "b9bd5fb9",
      "metadata": {
        "id": "b9bd5fb9",
        "outputId": "7c60a3e2-3077-4c85-c906-f297a97c296e"
      },
      "outputs": [
        {
          "data": {
            "text/html": [
              "<div>\n",
              "<style scoped>\n",
              "    .dataframe tbody tr th:only-of-type {\n",
              "        vertical-align: middle;\n",
              "    }\n",
              "\n",
              "    .dataframe tbody tr th {\n",
              "        vertical-align: top;\n",
              "    }\n",
              "\n",
              "    .dataframe thead th {\n",
              "        text-align: right;\n",
              "    }\n",
              "</style>\n",
              "<table border=\"1\" class=\"dataframe\">\n",
              "  <thead>\n",
              "    <tr style=\"text-align: right;\">\n",
              "      <th></th>\n",
              "      <th>category</th>\n",
              "    </tr>\n",
              "  </thead>\n",
              "  <tbody>\n",
              "    <tr>\n",
              "      <th>445</th>\n",
              "      <td>Bottoms - Womens</td>\n",
              "    </tr>\n",
              "    <tr>\n",
              "      <th>739</th>\n",
              "      <td>Tech</td>\n",
              "    </tr>\n",
              "    <tr>\n",
              "      <th>1035</th>\n",
              "      <td>Tops - Womens</td>\n",
              "    </tr>\n",
              "    <tr>\n",
              "      <th>1888</th>\n",
              "      <td>Accessories</td>\n",
              "    </tr>\n",
              "    <tr>\n",
              "      <th>1889</th>\n",
              "      <td>Accessories</td>\n",
              "    </tr>\n",
              "    <tr>\n",
              "      <th>...</th>\n",
              "      <td>...</td>\n",
              "    </tr>\n",
              "    <tr>\n",
              "      <th>237436</th>\n",
              "      <td>Bottoms - Womens</td>\n",
              "    </tr>\n",
              "    <tr>\n",
              "      <th>237444</th>\n",
              "      <td>Accessories</td>\n",
              "    </tr>\n",
              "    <tr>\n",
              "      <th>237451</th>\n",
              "      <td>Dresses</td>\n",
              "    </tr>\n",
              "    <tr>\n",
              "      <th>237627</th>\n",
              "      <td>Shoes</td>\n",
              "    </tr>\n",
              "    <tr>\n",
              "      <th>237668</th>\n",
              "      <td>Jewellery</td>\n",
              "    </tr>\n",
              "  </tbody>\n",
              "</table>\n",
              "<p>7868 rows × 1 columns</p>\n",
              "</div>"
            ],
            "text/plain": [
              "                category\n",
              "445     Bottoms - Womens\n",
              "739                 Tech\n",
              "1035       Tops - Womens\n",
              "1888         Accessories\n",
              "1889         Accessories\n",
              "...                  ...\n",
              "237436  Bottoms - Womens\n",
              "237444       Accessories\n",
              "237451           Dresses\n",
              "237627             Shoes\n",
              "237668         Jewellery\n",
              "\n",
              "[7868 rows x 1 columns]"
            ]
          },
          "execution_count": 134,
          "metadata": {},
          "output_type": "execute_result"
        }
      ],
      "source": [
        "df.loc[ df.buyer_country=='AU' ][['category']]"
      ]
    },
    {
      "cell_type": "code",
      "execution_count": null,
      "id": "4558427f",
      "metadata": {
        "id": "4558427f",
        "outputId": "672ce810-70df-4a3a-f1e8-8dbd6f03c8b0"
      },
      "outputs": [
        {
          "data": {
            "text/plain": [
              "445       False\n",
              "739       False\n",
              "1035      False\n",
              "1888      False\n",
              "1889      False\n",
              "          ...  \n",
              "237436    False\n",
              "237444    False\n",
              "237451    False\n",
              "237627     True\n",
              "237668    False\n",
              "Name: category, Length: 7868, dtype: bool"
            ]
          },
          "execution_count": 139,
          "metadata": {},
          "output_type": "execute_result"
        }
      ],
      "source": [
        "df.loc[ df.buyer_country=='AU' ].category.apply( lambda x: x=='Shoes' )"
      ]
    },
    {
      "cell_type": "code",
      "execution_count": null,
      "id": "8fe5f33b",
      "metadata": {
        "id": "8fe5f33b",
        "outputId": "87dbebd2-107a-48cb-9819-159f7a42789b"
      },
      "outputs": [
        {
          "data": {
            "text/plain": [
              "False    7210\n",
              "True      658\n",
              "Name: category, dtype: int64"
            ]
          },
          "execution_count": 138,
          "metadata": {},
          "output_type": "execute_result"
        }
      ],
      "source": [
        "df.loc[ df.buyer_country=='AU' ].category.apply( lambda x: x=='Shoes' ).value_counts()"
      ]
    },
    {
      "cell_type": "code",
      "execution_count": null,
      "id": "7d4a9b62",
      "metadata": {
        "id": "7d4a9b62",
        "outputId": "a8f7e00a-730a-411b-9590-fd988ce4ac9e"
      },
      "outputs": [
        {
          "data": {
            "text/plain": [
              "658"
            ]
          },
          "execution_count": 136,
          "metadata": {},
          "output_type": "execute_result"
        }
      ],
      "source": [
        "df.loc[ df.buyer_country=='AU' ].category.apply( lambda x: x=='Shoes' ).sum()"
      ]
    },
    {
      "cell_type": "code",
      "execution_count": null,
      "id": "adeed456",
      "metadata": {
        "id": "adeed456"
      },
      "outputs": [],
      "source": [
        ""
      ]
    },
    {
      "cell_type": "markdown",
      "id": "ebe2ec38",
      "metadata": {
        "id": "ebe2ec38"
      },
      "source": [
        "9. Which brand has the highest average transaction value? (Just write down the brand as in the dataset, your answer is supposed to be case sensitive)"
      ]
    },
    {
      "cell_type": "code",
      "execution_count": null,
      "id": "b013bcde",
      "metadata": {
        "id": "b013bcde",
        "outputId": "606e9013-2046-43cd-c821-91bb758ce782"
      },
      "outputs": [
        {
          "data": {
            "text/html": [
              "<div>\n",
              "<style scoped>\n",
              "    .dataframe tbody tr th:only-of-type {\n",
              "        vertical-align: middle;\n",
              "    }\n",
              "\n",
              "    .dataframe tbody tr th {\n",
              "        vertical-align: top;\n",
              "    }\n",
              "\n",
              "    .dataframe thead th {\n",
              "        text-align: right;\n",
              "    }\n",
              "</style>\n",
              "<table border=\"1\" class=\"dataframe\">\n",
              "  <thead>\n",
              "    <tr style=\"text-align: right;\">\n",
              "      <th></th>\n",
              "      <th>buyer_id</th>\n",
              "      <th>buyer_country</th>\n",
              "      <th>seller_id</th>\n",
              "      <th>seller_country</th>\n",
              "      <th>product_code</th>\n",
              "      <th>category</th>\n",
              "      <th>brand</th>\n",
              "      <th>currency</th>\n",
              "      <th>price</th>\n",
              "      <th>date</th>\n",
              "      <th>rate</th>\n",
              "      <th>sales</th>\n",
              "    </tr>\n",
              "  </thead>\n",
              "  <tbody>\n",
              "    <tr>\n",
              "      <th>0</th>\n",
              "      <td>qzpjsi9t0o</td>\n",
              "      <td>GB</td>\n",
              "      <td>6oufpaot</td>\n",
              "      <td>GB</td>\n",
              "      <td>ydecnydr6obf</td>\n",
              "      <td>Dresses</td>\n",
              "      <td>NaN</td>\n",
              "      <td>GBP</td>\n",
              "      <td>19.11</td>\n",
              "      <td>2020-08-03</td>\n",
              "      <td>0.89935</td>\n",
              "      <td>21.248680</td>\n",
              "    </tr>\n",
              "    <tr>\n",
              "      <th>1</th>\n",
              "      <td>rd209r8c7c</td>\n",
              "      <td>GB</td>\n",
              "      <td>9p2ansc9</td>\n",
              "      <td>GB</td>\n",
              "      <td>wpxxf59cq7pc</td>\n",
              "      <td>Outerwear - Mens</td>\n",
              "      <td>Adidas Originals</td>\n",
              "      <td>GBP</td>\n",
              "      <td>24.91</td>\n",
              "      <td>2020-08-03</td>\n",
              "      <td>0.89935</td>\n",
              "      <td>27.697782</td>\n",
              "    </tr>\n",
              "    <tr>\n",
              "      <th>2</th>\n",
              "      <td>pqbcrl8azx</td>\n",
              "      <td>GB</td>\n",
              "      <td>r9zmzem8</td>\n",
              "      <td>GB</td>\n",
              "      <td>ua9mmn86wsqy</td>\n",
              "      <td>Tops - Womens</td>\n",
              "      <td>NaN</td>\n",
              "      <td>GBP</td>\n",
              "      <td>19.31</td>\n",
              "      <td>2020-08-03</td>\n",
              "      <td>0.89935</td>\n",
              "      <td>21.471062</td>\n",
              "    </tr>\n",
              "    <tr>\n",
              "      <th>3</th>\n",
              "      <td>j5en1rwmxp</td>\n",
              "      <td>GB</td>\n",
              "      <td>3o2nz88r</td>\n",
              "      <td>GB</td>\n",
              "      <td>tduo2uy8iszl</td>\n",
              "      <td>Bottoms - Womens</td>\n",
              "      <td>Urban Outfitters</td>\n",
              "      <td>GBP</td>\n",
              "      <td>16.98</td>\n",
              "      <td>2020-08-03</td>\n",
              "      <td>0.89935</td>\n",
              "      <td>18.880302</td>\n",
              "    </tr>\n",
              "    <tr>\n",
              "      <th>4</th>\n",
              "      <td>kjdezxeh1l</td>\n",
              "      <td>GB</td>\n",
              "      <td>7g56ublf</td>\n",
              "      <td>GB</td>\n",
              "      <td>39o00tcu89zq</td>\n",
              "      <td>Other</td>\n",
              "      <td>NaN</td>\n",
              "      <td>GBP</td>\n",
              "      <td>2.85</td>\n",
              "      <td>2020-08-03</td>\n",
              "      <td>0.89935</td>\n",
              "      <td>3.168955</td>\n",
              "    </tr>\n",
              "    <tr>\n",
              "      <th>...</th>\n",
              "      <td>...</td>\n",
              "      <td>...</td>\n",
              "      <td>...</td>\n",
              "      <td>...</td>\n",
              "      <td>...</td>\n",
              "      <td>...</td>\n",
              "      <td>...</td>\n",
              "      <td>...</td>\n",
              "      <td>...</td>\n",
              "      <td>...</td>\n",
              "      <td>...</td>\n",
              "      <td>...</td>\n",
              "    </tr>\n",
              "    <tr>\n",
              "      <th>237666</th>\n",
              "      <td>d7dx6f3qv7</td>\n",
              "      <td>RoW</td>\n",
              "      <td>e2p108mu</td>\n",
              "      <td>RoW</td>\n",
              "      <td>nan9a4p10ayk</td>\n",
              "      <td>Tops - Mens</td>\n",
              "      <td>NaN</td>\n",
              "      <td>PLN</td>\n",
              "      <td>4.24</td>\n",
              "      <td>2020-08-04</td>\n",
              "      <td>4.39693</td>\n",
              "      <td>0.964309</td>\n",
              "    </tr>\n",
              "    <tr>\n",
              "      <th>237667</th>\n",
              "      <td>iaf2ck3rj6</td>\n",
              "      <td>IT</td>\n",
              "      <td>gjb1qntq</td>\n",
              "      <td>RoW</td>\n",
              "      <td>lxj477q1hab2</td>\n",
              "      <td>Accessories</td>\n",
              "      <td>NaN</td>\n",
              "      <td>CZK</td>\n",
              "      <td>3923.18</td>\n",
              "      <td>2020-08-04</td>\n",
              "      <td>26.12360</td>\n",
              "      <td>150.177617</td>\n",
              "    </tr>\n",
              "    <tr>\n",
              "      <th>237668</th>\n",
              "      <td>tucgt70cwc</td>\n",
              "      <td>AU</td>\n",
              "      <td>9adnlxvr</td>\n",
              "      <td>RoW</td>\n",
              "      <td>2g0g0obhwjuc</td>\n",
              "      <td>Jewellery</td>\n",
              "      <td>NaN</td>\n",
              "      <td>PLN</td>\n",
              "      <td>525.82</td>\n",
              "      <td>2020-08-09</td>\n",
              "      <td>4.41427</td>\n",
              "      <td>119.118223</td>\n",
              "    </tr>\n",
              "    <tr>\n",
              "      <th>237669</th>\n",
              "      <td>rrfjxzbdxu</td>\n",
              "      <td>US</td>\n",
              "      <td>w2pozh7u</td>\n",
              "      <td>US</td>\n",
              "      <td>5mm5eg99xbu2</td>\n",
              "      <td>Bottoms - Womens</td>\n",
              "      <td>Brandy Melville</td>\n",
              "      <td>BRL</td>\n",
              "      <td>34.92</td>\n",
              "      <td>2020-08-06</td>\n",
              "      <td>6.33240</td>\n",
              "      <td>5.514497</td>\n",
              "    </tr>\n",
              "    <tr>\n",
              "      <th>237670</th>\n",
              "      <td>wnmihth4io</td>\n",
              "      <td>GB</td>\n",
              "      <td>5yogzc17</td>\n",
              "      <td>RoW</td>\n",
              "      <td>wrgq88ujwh5d</td>\n",
              "      <td>Bottoms - Womens</td>\n",
              "      <td>NaN</td>\n",
              "      <td>NOK</td>\n",
              "      <td>533.06</td>\n",
              "      <td>2020-08-08</td>\n",
              "      <td>10.64540</td>\n",
              "      <td>50.074210</td>\n",
              "    </tr>\n",
              "  </tbody>\n",
              "</table>\n",
              "<p>237671 rows × 12 columns</p>\n",
              "</div>"
            ],
            "text/plain": [
              "          buyer_id buyer_country seller_id seller_country  product_code  \\\n",
              "0       qzpjsi9t0o            GB  6oufpaot             GB  ydecnydr6obf   \n",
              "1       rd209r8c7c            GB  9p2ansc9             GB  wpxxf59cq7pc   \n",
              "2       pqbcrl8azx            GB  r9zmzem8             GB  ua9mmn86wsqy   \n",
              "3       j5en1rwmxp            GB  3o2nz88r             GB  tduo2uy8iszl   \n",
              "4       kjdezxeh1l            GB  7g56ublf             GB  39o00tcu89zq   \n",
              "...            ...           ...       ...            ...           ...   \n",
              "237666  d7dx6f3qv7           RoW  e2p108mu            RoW  nan9a4p10ayk   \n",
              "237667  iaf2ck3rj6            IT  gjb1qntq            RoW  lxj477q1hab2   \n",
              "237668  tucgt70cwc            AU  9adnlxvr            RoW  2g0g0obhwjuc   \n",
              "237669  rrfjxzbdxu            US  w2pozh7u             US  5mm5eg99xbu2   \n",
              "237670  wnmihth4io            GB  5yogzc17            RoW  wrgq88ujwh5d   \n",
              "\n",
              "                category             brand currency    price       date  \\\n",
              "0                Dresses               NaN      GBP    19.11 2020-08-03   \n",
              "1       Outerwear - Mens  Adidas Originals      GBP    24.91 2020-08-03   \n",
              "2          Tops - Womens               NaN      GBP    19.31 2020-08-03   \n",
              "3       Bottoms - Womens  Urban Outfitters      GBP    16.98 2020-08-03   \n",
              "4                  Other               NaN      GBP     2.85 2020-08-03   \n",
              "...                  ...               ...      ...      ...        ...   \n",
              "237666       Tops - Mens               NaN      PLN     4.24 2020-08-04   \n",
              "237667       Accessories               NaN      CZK  3923.18 2020-08-04   \n",
              "237668         Jewellery               NaN      PLN   525.82 2020-08-09   \n",
              "237669  Bottoms - Womens   Brandy Melville      BRL    34.92 2020-08-06   \n",
              "237670  Bottoms - Womens               NaN      NOK   533.06 2020-08-08   \n",
              "\n",
              "            rate       sales  \n",
              "0        0.89935   21.248680  \n",
              "1        0.89935   27.697782  \n",
              "2        0.89935   21.471062  \n",
              "3        0.89935   18.880302  \n",
              "4        0.89935    3.168955  \n",
              "...          ...         ...  \n",
              "237666   4.39693    0.964309  \n",
              "237667  26.12360  150.177617  \n",
              "237668   4.41427  119.118223  \n",
              "237669   6.33240    5.514497  \n",
              "237670  10.64540   50.074210  \n",
              "\n",
              "[237671 rows x 12 columns]"
            ]
          },
          "execution_count": 131,
          "metadata": {},
          "output_type": "execute_result"
        }
      ],
      "source": [
        "df"
      ]
    },
    {
      "cell_type": "code",
      "execution_count": null,
      "id": "36fbfe17",
      "metadata": {
        "id": "36fbfe17",
        "outputId": "69bb9177-7e5f-4851-8248-8b19232628b4"
      },
      "outputs": [
        {
          "data": {
            "text/plain": [
              "brand\n",
              "& Other Stories       33.126275\n",
              "032c                  36.693996\n",
              "11 Degrees            14.534039\n",
              "1822 Denim            18.089935\n",
              "3.1 Phillip Lim       32.805235\n",
              "                        ...    \n",
              "Golf wang             38.319495\n",
              "Goodhood             108.441929\n",
              "Gosha Rubchinskiy     57.380639\n",
              "Gotcha                19.427122\n",
              "Goyard               338.926936\n",
              "Name: sales, Length: 400, dtype: float64"
            ]
          },
          "execution_count": 157,
          "metadata": {},
          "output_type": "execute_result"
        }
      ],
      "source": [
        "df.groupby('brand').mean()['sales'].head(400)"
      ]
    },
    {
      "cell_type": "code",
      "execution_count": null,
      "id": "f7a4d38b",
      "metadata": {
        "id": "f7a4d38b",
        "outputId": "e79ae8fa-054a-4317-9872-50a68f28f2b4"
      },
      "outputs": [
        {
          "data": {
            "text/plain": [
              "Index(['& Other Stories', '032c', '11 Degrees', '1822 Denim',\n",
              "       '3.1 Phillip Lim', '360 Cashmere', '36572', '3LAB', '3sixteen', '3x1',\n",
              "       ...\n",
              "       'bareMinerals', 'butter LONDON', 'do Sport', 'e.l.f.', 'francesca's',\n",
              "       'ghd', 'kensie', 'liquid blue', 'mixxmix', 'philosophy'],\n",
              "      dtype='object', name='brand', length=1134)"
            ]
          },
          "execution_count": 158,
          "metadata": {},
          "output_type": "execute_result"
        }
      ],
      "source": [
        "df.groupby('brand').mean()['sales'].index"
      ]
    },
    {
      "cell_type": "code",
      "execution_count": null,
      "id": "5191cf38",
      "metadata": {
        "id": "5191cf38",
        "outputId": "895c00f4-8798-473e-e1c1-4cbc6e3e152d"
      },
      "outputs": [
        {
          "data": {
            "text/plain": [
              "(338.92693604836, 399, 'Goyard')"
            ]
          },
          "execution_count": 155,
          "metadata": {},
          "output_type": "execute_result"
        }
      ],
      "source": [
        "df.groupby('brand').mean()['sales'].max(), df.groupby('brand').mean()['sales'].argmax(),\\\n",
        "df.groupby('brand').mean()['sales'].idxmax()"
      ]
    },
    {
      "cell_type": "code",
      "source": [
        " df_new.groupby(\"brand\")[\"total\"].mean().idxmax() #buda baska sekilde cozumu imis "
      ],
      "metadata": {
        "colab": {
          "base_uri": "https://localhost:8080/",
          "height": 171
        },
        "id": "SS5VYD_tjb0t",
        "outputId": "105954ae-fd5c-47ec-e7c6-0f404d07e20c"
      },
      "id": "SS5VYD_tjb0t",
      "execution_count": null,
      "outputs": [
        {
          "output_type": "error",
          "ename": "NameError",
          "evalue": "ignored",
          "traceback": [
            "\u001b[0;31m---------------------------------------------------------------------------\u001b[0m",
            "\u001b[0;31mNameError\u001b[0m                                 Traceback (most recent call last)",
            "\u001b[0;32m<ipython-input-1-ae4319674467>\u001b[0m in \u001b[0;36m<module>\u001b[0;34m()\u001b[0m\n\u001b[0;32m----> 1\u001b[0;31m \u001b[0mdf_new\u001b[0m\u001b[0;34m.\u001b[0m\u001b[0mgroupby\u001b[0m\u001b[0;34m(\u001b[0m\u001b[0;34m\"brand\"\u001b[0m\u001b[0;34m)\u001b[0m\u001b[0;34m[\u001b[0m\u001b[0;34m\"total\"\u001b[0m\u001b[0;34m]\u001b[0m\u001b[0;34m.\u001b[0m\u001b[0mmean\u001b[0m\u001b[0;34m(\u001b[0m\u001b[0;34m)\u001b[0m\u001b[0;34m.\u001b[0m\u001b[0midxmax\u001b[0m\u001b[0;34m(\u001b[0m\u001b[0;34m)\u001b[0m\u001b[0;34m\u001b[0m\u001b[0;34m\u001b[0m\u001b[0m\n\u001b[0m",
            "\u001b[0;31mNameError\u001b[0m: name 'df_new' is not defined"
          ]
        }
      ]
    },
    {
      "cell_type": "markdown",
      "id": "c37395d0",
      "metadata": {
        "id": "c37395d0"
      },
      "source": [
        "10. What is the total value of items purchased by GB buyers from GB sellers? (Just write the numbers in the format of 0.000.000 )"
      ]
    },
    {
      "cell_type": "code",
      "execution_count": null,
      "id": "9bbb7bb6",
      "metadata": {
        "id": "9bbb7bb6",
        "outputId": "30e36429-2740-4628-e2bb-6ddedb9d86e9"
      },
      "outputs": [
        {
          "data": {
            "text/html": [
              "<div>\n",
              "<style scoped>\n",
              "    .dataframe tbody tr th:only-of-type {\n",
              "        vertical-align: middle;\n",
              "    }\n",
              "\n",
              "    .dataframe tbody tr th {\n",
              "        vertical-align: top;\n",
              "    }\n",
              "\n",
              "    .dataframe thead th {\n",
              "        text-align: right;\n",
              "    }\n",
              "</style>\n",
              "<table border=\"1\" class=\"dataframe\">\n",
              "  <thead>\n",
              "    <tr style=\"text-align: right;\">\n",
              "      <th></th>\n",
              "      <th>buyer_id</th>\n",
              "      <th>buyer_country</th>\n",
              "      <th>seller_id</th>\n",
              "      <th>seller_country</th>\n",
              "      <th>product_code</th>\n",
              "      <th>category</th>\n",
              "      <th>brand</th>\n",
              "      <th>currency</th>\n",
              "      <th>price</th>\n",
              "      <th>date</th>\n",
              "      <th>rate</th>\n",
              "      <th>sales</th>\n",
              "    </tr>\n",
              "  </thead>\n",
              "  <tbody>\n",
              "    <tr>\n",
              "      <th>0</th>\n",
              "      <td>qzpjsi9t0o</td>\n",
              "      <td>GB</td>\n",
              "      <td>6oufpaot</td>\n",
              "      <td>GB</td>\n",
              "      <td>ydecnydr6obf</td>\n",
              "      <td>Dresses</td>\n",
              "      <td>NaN</td>\n",
              "      <td>GBP</td>\n",
              "      <td>19.11</td>\n",
              "      <td>2020-08-03</td>\n",
              "      <td>0.89935</td>\n",
              "      <td>21.248680</td>\n",
              "    </tr>\n",
              "    <tr>\n",
              "      <th>1</th>\n",
              "      <td>rd209r8c7c</td>\n",
              "      <td>GB</td>\n",
              "      <td>9p2ansc9</td>\n",
              "      <td>GB</td>\n",
              "      <td>wpxxf59cq7pc</td>\n",
              "      <td>Outerwear - Mens</td>\n",
              "      <td>Adidas Originals</td>\n",
              "      <td>GBP</td>\n",
              "      <td>24.91</td>\n",
              "      <td>2020-08-03</td>\n",
              "      <td>0.89935</td>\n",
              "      <td>27.697782</td>\n",
              "    </tr>\n",
              "    <tr>\n",
              "      <th>2</th>\n",
              "      <td>pqbcrl8azx</td>\n",
              "      <td>GB</td>\n",
              "      <td>r9zmzem8</td>\n",
              "      <td>GB</td>\n",
              "      <td>ua9mmn86wsqy</td>\n",
              "      <td>Tops - Womens</td>\n",
              "      <td>NaN</td>\n",
              "      <td>GBP</td>\n",
              "      <td>19.31</td>\n",
              "      <td>2020-08-03</td>\n",
              "      <td>0.89935</td>\n",
              "      <td>21.471062</td>\n",
              "    </tr>\n",
              "    <tr>\n",
              "      <th>3</th>\n",
              "      <td>j5en1rwmxp</td>\n",
              "      <td>GB</td>\n",
              "      <td>3o2nz88r</td>\n",
              "      <td>GB</td>\n",
              "      <td>tduo2uy8iszl</td>\n",
              "      <td>Bottoms - Womens</td>\n",
              "      <td>Urban Outfitters</td>\n",
              "      <td>GBP</td>\n",
              "      <td>16.98</td>\n",
              "      <td>2020-08-03</td>\n",
              "      <td>0.89935</td>\n",
              "      <td>18.880302</td>\n",
              "    </tr>\n",
              "    <tr>\n",
              "      <th>4</th>\n",
              "      <td>kjdezxeh1l</td>\n",
              "      <td>GB</td>\n",
              "      <td>7g56ublf</td>\n",
              "      <td>GB</td>\n",
              "      <td>39o00tcu89zq</td>\n",
              "      <td>Other</td>\n",
              "      <td>NaN</td>\n",
              "      <td>GBP</td>\n",
              "      <td>2.85</td>\n",
              "      <td>2020-08-03</td>\n",
              "      <td>0.89935</td>\n",
              "      <td>3.168955</td>\n",
              "    </tr>\n",
              "    <tr>\n",
              "      <th>...</th>\n",
              "      <td>...</td>\n",
              "      <td>...</td>\n",
              "      <td>...</td>\n",
              "      <td>...</td>\n",
              "      <td>...</td>\n",
              "      <td>...</td>\n",
              "      <td>...</td>\n",
              "      <td>...</td>\n",
              "      <td>...</td>\n",
              "      <td>...</td>\n",
              "      <td>...</td>\n",
              "      <td>...</td>\n",
              "    </tr>\n",
              "    <tr>\n",
              "      <th>237666</th>\n",
              "      <td>d7dx6f3qv7</td>\n",
              "      <td>RoW</td>\n",
              "      <td>e2p108mu</td>\n",
              "      <td>RoW</td>\n",
              "      <td>nan9a4p10ayk</td>\n",
              "      <td>Tops - Mens</td>\n",
              "      <td>NaN</td>\n",
              "      <td>PLN</td>\n",
              "      <td>4.24</td>\n",
              "      <td>2020-08-04</td>\n",
              "      <td>4.39693</td>\n",
              "      <td>0.964309</td>\n",
              "    </tr>\n",
              "    <tr>\n",
              "      <th>237667</th>\n",
              "      <td>iaf2ck3rj6</td>\n",
              "      <td>IT</td>\n",
              "      <td>gjb1qntq</td>\n",
              "      <td>RoW</td>\n",
              "      <td>lxj477q1hab2</td>\n",
              "      <td>Accessories</td>\n",
              "      <td>NaN</td>\n",
              "      <td>CZK</td>\n",
              "      <td>3923.18</td>\n",
              "      <td>2020-08-04</td>\n",
              "      <td>26.12360</td>\n",
              "      <td>150.177617</td>\n",
              "    </tr>\n",
              "    <tr>\n",
              "      <th>237668</th>\n",
              "      <td>tucgt70cwc</td>\n",
              "      <td>AU</td>\n",
              "      <td>9adnlxvr</td>\n",
              "      <td>RoW</td>\n",
              "      <td>2g0g0obhwjuc</td>\n",
              "      <td>Jewellery</td>\n",
              "      <td>NaN</td>\n",
              "      <td>PLN</td>\n",
              "      <td>525.82</td>\n",
              "      <td>2020-08-09</td>\n",
              "      <td>4.41427</td>\n",
              "      <td>119.118223</td>\n",
              "    </tr>\n",
              "    <tr>\n",
              "      <th>237669</th>\n",
              "      <td>rrfjxzbdxu</td>\n",
              "      <td>US</td>\n",
              "      <td>w2pozh7u</td>\n",
              "      <td>US</td>\n",
              "      <td>5mm5eg99xbu2</td>\n",
              "      <td>Bottoms - Womens</td>\n",
              "      <td>Brandy Melville</td>\n",
              "      <td>BRL</td>\n",
              "      <td>34.92</td>\n",
              "      <td>2020-08-06</td>\n",
              "      <td>6.33240</td>\n",
              "      <td>5.514497</td>\n",
              "    </tr>\n",
              "    <tr>\n",
              "      <th>237670</th>\n",
              "      <td>wnmihth4io</td>\n",
              "      <td>GB</td>\n",
              "      <td>5yogzc17</td>\n",
              "      <td>RoW</td>\n",
              "      <td>wrgq88ujwh5d</td>\n",
              "      <td>Bottoms - Womens</td>\n",
              "      <td>NaN</td>\n",
              "      <td>NOK</td>\n",
              "      <td>533.06</td>\n",
              "      <td>2020-08-08</td>\n",
              "      <td>10.64540</td>\n",
              "      <td>50.074210</td>\n",
              "    </tr>\n",
              "  </tbody>\n",
              "</table>\n",
              "<p>237671 rows × 12 columns</p>\n",
              "</div>"
            ],
            "text/plain": [
              "          buyer_id buyer_country seller_id seller_country  product_code  \\\n",
              "0       qzpjsi9t0o            GB  6oufpaot             GB  ydecnydr6obf   \n",
              "1       rd209r8c7c            GB  9p2ansc9             GB  wpxxf59cq7pc   \n",
              "2       pqbcrl8azx            GB  r9zmzem8             GB  ua9mmn86wsqy   \n",
              "3       j5en1rwmxp            GB  3o2nz88r             GB  tduo2uy8iszl   \n",
              "4       kjdezxeh1l            GB  7g56ublf             GB  39o00tcu89zq   \n",
              "...            ...           ...       ...            ...           ...   \n",
              "237666  d7dx6f3qv7           RoW  e2p108mu            RoW  nan9a4p10ayk   \n",
              "237667  iaf2ck3rj6            IT  gjb1qntq            RoW  lxj477q1hab2   \n",
              "237668  tucgt70cwc            AU  9adnlxvr            RoW  2g0g0obhwjuc   \n",
              "237669  rrfjxzbdxu            US  w2pozh7u             US  5mm5eg99xbu2   \n",
              "237670  wnmihth4io            GB  5yogzc17            RoW  wrgq88ujwh5d   \n",
              "\n",
              "                category             brand currency    price       date  \\\n",
              "0                Dresses               NaN      GBP    19.11 2020-08-03   \n",
              "1       Outerwear - Mens  Adidas Originals      GBP    24.91 2020-08-03   \n",
              "2          Tops - Womens               NaN      GBP    19.31 2020-08-03   \n",
              "3       Bottoms - Womens  Urban Outfitters      GBP    16.98 2020-08-03   \n",
              "4                  Other               NaN      GBP     2.85 2020-08-03   \n",
              "...                  ...               ...      ...      ...        ...   \n",
              "237666       Tops - Mens               NaN      PLN     4.24 2020-08-04   \n",
              "237667       Accessories               NaN      CZK  3923.18 2020-08-04   \n",
              "237668         Jewellery               NaN      PLN   525.82 2020-08-09   \n",
              "237669  Bottoms - Womens   Brandy Melville      BRL    34.92 2020-08-06   \n",
              "237670  Bottoms - Womens               NaN      NOK   533.06 2020-08-08   \n",
              "\n",
              "            rate       sales  \n",
              "0        0.89935   21.248680  \n",
              "1        0.89935   27.697782  \n",
              "2        0.89935   21.471062  \n",
              "3        0.89935   18.880302  \n",
              "4        0.89935    3.168955  \n",
              "...          ...         ...  \n",
              "237666   4.39693    0.964309  \n",
              "237667  26.12360  150.177617  \n",
              "237668   4.41427  119.118223  \n",
              "237669   6.33240    5.514497  \n",
              "237670  10.64540   50.074210  \n",
              "\n",
              "[237671 rows x 12 columns]"
            ]
          },
          "execution_count": 159,
          "metadata": {},
          "output_type": "execute_result"
        }
      ],
      "source": [
        "df"
      ]
    },
    {
      "cell_type": "code",
      "execution_count": null,
      "id": "bc4d6f84",
      "metadata": {
        "id": "bc4d6f84",
        "outputId": "2c18b887-0bf2-4cbf-9121-bab555826e6c"
      },
      "outputs": [
        {
          "data": {
            "text/html": [
              "<div>\n",
              "<style scoped>\n",
              "    .dataframe tbody tr th:only-of-type {\n",
              "        vertical-align: middle;\n",
              "    }\n",
              "\n",
              "    .dataframe tbody tr th {\n",
              "        vertical-align: top;\n",
              "    }\n",
              "\n",
              "    .dataframe thead th {\n",
              "        text-align: right;\n",
              "    }\n",
              "</style>\n",
              "<table border=\"1\" class=\"dataframe\">\n",
              "  <thead>\n",
              "    <tr style=\"text-align: right;\">\n",
              "      <th></th>\n",
              "      <th>buyer_id</th>\n",
              "      <th>buyer_country</th>\n",
              "      <th>seller_id</th>\n",
              "      <th>seller_country</th>\n",
              "      <th>product_code</th>\n",
              "      <th>category</th>\n",
              "      <th>brand</th>\n",
              "      <th>currency</th>\n",
              "      <th>price</th>\n",
              "      <th>date</th>\n",
              "      <th>rate</th>\n",
              "      <th>sales</th>\n",
              "    </tr>\n",
              "  </thead>\n",
              "  <tbody>\n",
              "    <tr>\n",
              "      <th>0</th>\n",
              "      <td>qzpjsi9t0o</td>\n",
              "      <td>GB</td>\n",
              "      <td>6oufpaot</td>\n",
              "      <td>GB</td>\n",
              "      <td>ydecnydr6obf</td>\n",
              "      <td>Dresses</td>\n",
              "      <td>NaN</td>\n",
              "      <td>GBP</td>\n",
              "      <td>19.11</td>\n",
              "      <td>2020-08-03</td>\n",
              "      <td>0.899350</td>\n",
              "      <td>21.248680</td>\n",
              "    </tr>\n",
              "    <tr>\n",
              "      <th>1</th>\n",
              "      <td>rd209r8c7c</td>\n",
              "      <td>GB</td>\n",
              "      <td>9p2ansc9</td>\n",
              "      <td>GB</td>\n",
              "      <td>wpxxf59cq7pc</td>\n",
              "      <td>Outerwear - Mens</td>\n",
              "      <td>Adidas Originals</td>\n",
              "      <td>GBP</td>\n",
              "      <td>24.91</td>\n",
              "      <td>2020-08-03</td>\n",
              "      <td>0.899350</td>\n",
              "      <td>27.697782</td>\n",
              "    </tr>\n",
              "    <tr>\n",
              "      <th>2</th>\n",
              "      <td>pqbcrl8azx</td>\n",
              "      <td>GB</td>\n",
              "      <td>r9zmzem8</td>\n",
              "      <td>GB</td>\n",
              "      <td>ua9mmn86wsqy</td>\n",
              "      <td>Tops - Womens</td>\n",
              "      <td>NaN</td>\n",
              "      <td>GBP</td>\n",
              "      <td>19.31</td>\n",
              "      <td>2020-08-03</td>\n",
              "      <td>0.899350</td>\n",
              "      <td>21.471062</td>\n",
              "    </tr>\n",
              "    <tr>\n",
              "      <th>3</th>\n",
              "      <td>j5en1rwmxp</td>\n",
              "      <td>GB</td>\n",
              "      <td>3o2nz88r</td>\n",
              "      <td>GB</td>\n",
              "      <td>tduo2uy8iszl</td>\n",
              "      <td>Bottoms - Womens</td>\n",
              "      <td>Urban Outfitters</td>\n",
              "      <td>GBP</td>\n",
              "      <td>16.98</td>\n",
              "      <td>2020-08-03</td>\n",
              "      <td>0.899350</td>\n",
              "      <td>18.880302</td>\n",
              "    </tr>\n",
              "    <tr>\n",
              "      <th>4</th>\n",
              "      <td>kjdezxeh1l</td>\n",
              "      <td>GB</td>\n",
              "      <td>7g56ublf</td>\n",
              "      <td>GB</td>\n",
              "      <td>39o00tcu89zq</td>\n",
              "      <td>Other</td>\n",
              "      <td>NaN</td>\n",
              "      <td>GBP</td>\n",
              "      <td>2.85</td>\n",
              "      <td>2020-08-03</td>\n",
              "      <td>0.899350</td>\n",
              "      <td>3.168955</td>\n",
              "    </tr>\n",
              "    <tr>\n",
              "      <th>...</th>\n",
              "      <td>...</td>\n",
              "      <td>...</td>\n",
              "      <td>...</td>\n",
              "      <td>...</td>\n",
              "      <td>...</td>\n",
              "      <td>...</td>\n",
              "      <td>...</td>\n",
              "      <td>...</td>\n",
              "      <td>...</td>\n",
              "      <td>...</td>\n",
              "      <td>...</td>\n",
              "      <td>...</td>\n",
              "    </tr>\n",
              "    <tr>\n",
              "      <th>235867</th>\n",
              "      <td>4bdwbzrro6</td>\n",
              "      <td>GB</td>\n",
              "      <td>k3mm4vxx</td>\n",
              "      <td>GB</td>\n",
              "      <td>83ud4yc60daa</td>\n",
              "      <td>Accessories</td>\n",
              "      <td>NaN</td>\n",
              "      <td>EUR</td>\n",
              "      <td>19.03</td>\n",
              "      <td>2020-08-04</td>\n",
              "      <td>1.000000</td>\n",
              "      <td>19.030000</td>\n",
              "    </tr>\n",
              "    <tr>\n",
              "      <th>236300</th>\n",
              "      <td>opd00596sb</td>\n",
              "      <td>GB</td>\n",
              "      <td>an5r1hl6</td>\n",
              "      <td>GB</td>\n",
              "      <td>0ku1jrnf43o3</td>\n",
              "      <td>Tops - Womens</td>\n",
              "      <td>Fendi</td>\n",
              "      <td>EUR</td>\n",
              "      <td>59.95</td>\n",
              "      <td>2020-08-04</td>\n",
              "      <td>1.000000</td>\n",
              "      <td>59.950000</td>\n",
              "    </tr>\n",
              "    <tr>\n",
              "      <th>236796</th>\n",
              "      <td>yfi1i9skeo</td>\n",
              "      <td>GB</td>\n",
              "      <td>x20r5ih7</td>\n",
              "      <td>GB</td>\n",
              "      <td>cqevc7rcp5my</td>\n",
              "      <td>Tops - Mens</td>\n",
              "      <td>Octobers Very Own</td>\n",
              "      <td>CAD</td>\n",
              "      <td>422.54</td>\n",
              "      <td>2020-08-03</td>\n",
              "      <td>1.575375</td>\n",
              "      <td>268.215504</td>\n",
              "    </tr>\n",
              "    <tr>\n",
              "      <th>236924</th>\n",
              "      <td>0txj6lkg8n</td>\n",
              "      <td>GB</td>\n",
              "      <td>wpenf96j</td>\n",
              "      <td>GB</td>\n",
              "      <td>xczajl2pp9se</td>\n",
              "      <td>Accessories</td>\n",
              "      <td>Louis Vuitton</td>\n",
              "      <td>NZD</td>\n",
              "      <td>117.11</td>\n",
              "      <td>2020-08-09</td>\n",
              "      <td>1.785000</td>\n",
              "      <td>65.607843</td>\n",
              "    </tr>\n",
              "    <tr>\n",
              "      <th>237633</th>\n",
              "      <td>k357zicv95</td>\n",
              "      <td>GB</td>\n",
              "      <td>pzbp73fd</td>\n",
              "      <td>GB</td>\n",
              "      <td>yemuo4mkv1ux</td>\n",
              "      <td>Bottoms - Mens</td>\n",
              "      <td>Unbranded</td>\n",
              "      <td>SEK</td>\n",
              "      <td>212.27</td>\n",
              "      <td>2020-08-05</td>\n",
              "      <td>10.272170</td>\n",
              "      <td>20.664572</td>\n",
              "    </tr>\n",
              "  </tbody>\n",
              "</table>\n",
              "<p>133876 rows × 12 columns</p>\n",
              "</div>"
            ],
            "text/plain": [
              "          buyer_id buyer_country seller_id seller_country  product_code  \\\n",
              "0       qzpjsi9t0o            GB  6oufpaot             GB  ydecnydr6obf   \n",
              "1       rd209r8c7c            GB  9p2ansc9             GB  wpxxf59cq7pc   \n",
              "2       pqbcrl8azx            GB  r9zmzem8             GB  ua9mmn86wsqy   \n",
              "3       j5en1rwmxp            GB  3o2nz88r             GB  tduo2uy8iszl   \n",
              "4       kjdezxeh1l            GB  7g56ublf             GB  39o00tcu89zq   \n",
              "...            ...           ...       ...            ...           ...   \n",
              "235867  4bdwbzrro6            GB  k3mm4vxx             GB  83ud4yc60daa   \n",
              "236300  opd00596sb            GB  an5r1hl6             GB  0ku1jrnf43o3   \n",
              "236796  yfi1i9skeo            GB  x20r5ih7             GB  cqevc7rcp5my   \n",
              "236924  0txj6lkg8n            GB  wpenf96j             GB  xczajl2pp9se   \n",
              "237633  k357zicv95            GB  pzbp73fd             GB  yemuo4mkv1ux   \n",
              "\n",
              "                category              brand currency   price       date  \\\n",
              "0                Dresses                NaN      GBP   19.11 2020-08-03   \n",
              "1       Outerwear - Mens   Adidas Originals      GBP   24.91 2020-08-03   \n",
              "2          Tops - Womens                NaN      GBP   19.31 2020-08-03   \n",
              "3       Bottoms - Womens   Urban Outfitters      GBP   16.98 2020-08-03   \n",
              "4                  Other                NaN      GBP    2.85 2020-08-03   \n",
              "...                  ...                ...      ...     ...        ...   \n",
              "235867       Accessories                NaN      EUR   19.03 2020-08-04   \n",
              "236300     Tops - Womens              Fendi      EUR   59.95 2020-08-04   \n",
              "236796       Tops - Mens  Octobers Very Own      CAD  422.54 2020-08-03   \n",
              "236924       Accessories      Louis Vuitton      NZD  117.11 2020-08-09   \n",
              "237633    Bottoms - Mens          Unbranded      SEK  212.27 2020-08-05   \n",
              "\n",
              "             rate       sales  \n",
              "0        0.899350   21.248680  \n",
              "1        0.899350   27.697782  \n",
              "2        0.899350   21.471062  \n",
              "3        0.899350   18.880302  \n",
              "4        0.899350    3.168955  \n",
              "...           ...         ...  \n",
              "235867   1.000000   19.030000  \n",
              "236300   1.000000   59.950000  \n",
              "236796   1.575375  268.215504  \n",
              "236924   1.785000   65.607843  \n",
              "237633  10.272170   20.664572  \n",
              "\n",
              "[133876 rows x 12 columns]"
            ]
          },
          "execution_count": 160,
          "metadata": {},
          "output_type": "execute_result"
        }
      ],
      "source": [
        "df.loc[ (df.buyer_country=='GB') & (df.seller_country=='GB') ]"
      ]
    },
    {
      "cell_type": "code",
      "execution_count": null,
      "id": "5065d61a",
      "metadata": {
        "id": "5065d61a",
        "outputId": "0f85dcbb-8977-4b73-f24d-dd77693e2e76"
      },
      "outputs": [
        {
          "data": {
            "text/plain": [
              "0          21.248680\n",
              "1          27.697782\n",
              "2          21.471062\n",
              "3          18.880302\n",
              "4           3.168955\n",
              "             ...    \n",
              "235867     19.030000\n",
              "236300     59.950000\n",
              "236796    268.215504\n",
              "236924     65.607843\n",
              "237633     20.664572\n",
              "Name: sales, Length: 133876, dtype: float64"
            ]
          },
          "execution_count": 161,
          "metadata": {},
          "output_type": "execute_result"
        }
      ],
      "source": [
        "df.loc[ (df.buyer_country=='GB') & (df.seller_country=='GB') ]['sales']"
      ]
    },
    {
      "cell_type": "code",
      "execution_count": null,
      "id": "f746dda7",
      "metadata": {
        "id": "f746dda7",
        "outputId": "ebdb2ae0-02e3-4cf9-b027-d9fccda1fb82"
      },
      "outputs": [
        {
          "data": {
            "text/plain": [
              "3526745.033129233"
            ]
          },
          "execution_count": 162,
          "metadata": {},
          "output_type": "execute_result"
        }
      ],
      "source": [
        "df.loc[ (df.buyer_country=='GB') & (df.seller_country=='GB') ]['sales'].sum()  # para birimi aynı değil"
      ]
    },
    {
      "cell_type": "code",
      "execution_count": null,
      "id": "8c2da450",
      "metadata": {
        "id": "8c2da450",
        "outputId": "ceb55959-1181-4f2a-df16-d2e7033b8c86"
      },
      "outputs": [
        {
          "data": {
            "text/plain": [
              "3526745"
            ]
          },
          "execution_count": 164,
          "metadata": {},
          "output_type": "execute_result"
        }
      ],
      "source": [
        "round( df.loc[ (df.buyer_country=='GB') & (df.seller_country=='GB') ]['sales'].sum() )"
      ]
    },
    {
      "cell_type": "markdown",
      "id": "d4627076",
      "metadata": {
        "id": "d4627076"
      },
      "source": [
        "11. What percentage of US sellers' transactions were purchased by US buyers? (Just write the percentage in the format of 00.00%)"
      ]
    },
    {
      "cell_type": "code",
      "execution_count": null,
      "id": "5e85a5eb",
      "metadata": {
        "id": "5e85a5eb",
        "outputId": "4ee06eb9-d99a-443a-bd1e-5b19ccd74c0e"
      },
      "outputs": [
        {
          "data": {
            "text/html": [
              "<div>\n",
              "<style scoped>\n",
              "    .dataframe tbody tr th:only-of-type {\n",
              "        vertical-align: middle;\n",
              "    }\n",
              "\n",
              "    .dataframe tbody tr th {\n",
              "        vertical-align: top;\n",
              "    }\n",
              "\n",
              "    .dataframe thead th {\n",
              "        text-align: right;\n",
              "    }\n",
              "</style>\n",
              "<table border=\"1\" class=\"dataframe\">\n",
              "  <thead>\n",
              "    <tr style=\"text-align: right;\">\n",
              "      <th></th>\n",
              "      <th>buyer_id</th>\n",
              "      <th>buyer_country</th>\n",
              "      <th>seller_id</th>\n",
              "      <th>seller_country</th>\n",
              "      <th>product_code</th>\n",
              "      <th>category</th>\n",
              "      <th>brand</th>\n",
              "      <th>currency</th>\n",
              "      <th>price</th>\n",
              "      <th>date</th>\n",
              "      <th>rate</th>\n",
              "      <th>sales</th>\n",
              "    </tr>\n",
              "  </thead>\n",
              "  <tbody>\n",
              "    <tr>\n",
              "      <th>0</th>\n",
              "      <td>qzpjsi9t0o</td>\n",
              "      <td>GB</td>\n",
              "      <td>6oufpaot</td>\n",
              "      <td>GB</td>\n",
              "      <td>ydecnydr6obf</td>\n",
              "      <td>Dresses</td>\n",
              "      <td>NaN</td>\n",
              "      <td>GBP</td>\n",
              "      <td>19.11</td>\n",
              "      <td>2020-08-03</td>\n",
              "      <td>0.89935</td>\n",
              "      <td>21.248680</td>\n",
              "    </tr>\n",
              "    <tr>\n",
              "      <th>1</th>\n",
              "      <td>rd209r8c7c</td>\n",
              "      <td>GB</td>\n",
              "      <td>9p2ansc9</td>\n",
              "      <td>GB</td>\n",
              "      <td>wpxxf59cq7pc</td>\n",
              "      <td>Outerwear - Mens</td>\n",
              "      <td>Adidas Originals</td>\n",
              "      <td>GBP</td>\n",
              "      <td>24.91</td>\n",
              "      <td>2020-08-03</td>\n",
              "      <td>0.89935</td>\n",
              "      <td>27.697782</td>\n",
              "    </tr>\n",
              "    <tr>\n",
              "      <th>2</th>\n",
              "      <td>pqbcrl8azx</td>\n",
              "      <td>GB</td>\n",
              "      <td>r9zmzem8</td>\n",
              "      <td>GB</td>\n",
              "      <td>ua9mmn86wsqy</td>\n",
              "      <td>Tops - Womens</td>\n",
              "      <td>NaN</td>\n",
              "      <td>GBP</td>\n",
              "      <td>19.31</td>\n",
              "      <td>2020-08-03</td>\n",
              "      <td>0.89935</td>\n",
              "      <td>21.471062</td>\n",
              "    </tr>\n",
              "    <tr>\n",
              "      <th>3</th>\n",
              "      <td>j5en1rwmxp</td>\n",
              "      <td>GB</td>\n",
              "      <td>3o2nz88r</td>\n",
              "      <td>GB</td>\n",
              "      <td>tduo2uy8iszl</td>\n",
              "      <td>Bottoms - Womens</td>\n",
              "      <td>Urban Outfitters</td>\n",
              "      <td>GBP</td>\n",
              "      <td>16.98</td>\n",
              "      <td>2020-08-03</td>\n",
              "      <td>0.89935</td>\n",
              "      <td>18.880302</td>\n",
              "    </tr>\n",
              "    <tr>\n",
              "      <th>4</th>\n",
              "      <td>kjdezxeh1l</td>\n",
              "      <td>GB</td>\n",
              "      <td>7g56ublf</td>\n",
              "      <td>GB</td>\n",
              "      <td>39o00tcu89zq</td>\n",
              "      <td>Other</td>\n",
              "      <td>NaN</td>\n",
              "      <td>GBP</td>\n",
              "      <td>2.85</td>\n",
              "      <td>2020-08-03</td>\n",
              "      <td>0.89935</td>\n",
              "      <td>3.168955</td>\n",
              "    </tr>\n",
              "    <tr>\n",
              "      <th>...</th>\n",
              "      <td>...</td>\n",
              "      <td>...</td>\n",
              "      <td>...</td>\n",
              "      <td>...</td>\n",
              "      <td>...</td>\n",
              "      <td>...</td>\n",
              "      <td>...</td>\n",
              "      <td>...</td>\n",
              "      <td>...</td>\n",
              "      <td>...</td>\n",
              "      <td>...</td>\n",
              "      <td>...</td>\n",
              "    </tr>\n",
              "    <tr>\n",
              "      <th>237666</th>\n",
              "      <td>d7dx6f3qv7</td>\n",
              "      <td>RoW</td>\n",
              "      <td>e2p108mu</td>\n",
              "      <td>RoW</td>\n",
              "      <td>nan9a4p10ayk</td>\n",
              "      <td>Tops - Mens</td>\n",
              "      <td>NaN</td>\n",
              "      <td>PLN</td>\n",
              "      <td>4.24</td>\n",
              "      <td>2020-08-04</td>\n",
              "      <td>4.39693</td>\n",
              "      <td>0.964309</td>\n",
              "    </tr>\n",
              "    <tr>\n",
              "      <th>237667</th>\n",
              "      <td>iaf2ck3rj6</td>\n",
              "      <td>IT</td>\n",
              "      <td>gjb1qntq</td>\n",
              "      <td>RoW</td>\n",
              "      <td>lxj477q1hab2</td>\n",
              "      <td>Accessories</td>\n",
              "      <td>NaN</td>\n",
              "      <td>CZK</td>\n",
              "      <td>3923.18</td>\n",
              "      <td>2020-08-04</td>\n",
              "      <td>26.12360</td>\n",
              "      <td>150.177617</td>\n",
              "    </tr>\n",
              "    <tr>\n",
              "      <th>237668</th>\n",
              "      <td>tucgt70cwc</td>\n",
              "      <td>AU</td>\n",
              "      <td>9adnlxvr</td>\n",
              "      <td>RoW</td>\n",
              "      <td>2g0g0obhwjuc</td>\n",
              "      <td>Jewellery</td>\n",
              "      <td>NaN</td>\n",
              "      <td>PLN</td>\n",
              "      <td>525.82</td>\n",
              "      <td>2020-08-09</td>\n",
              "      <td>4.41427</td>\n",
              "      <td>119.118223</td>\n",
              "    </tr>\n",
              "    <tr>\n",
              "      <th>237669</th>\n",
              "      <td>rrfjxzbdxu</td>\n",
              "      <td>US</td>\n",
              "      <td>w2pozh7u</td>\n",
              "      <td>US</td>\n",
              "      <td>5mm5eg99xbu2</td>\n",
              "      <td>Bottoms - Womens</td>\n",
              "      <td>Brandy Melville</td>\n",
              "      <td>BRL</td>\n",
              "      <td>34.92</td>\n",
              "      <td>2020-08-06</td>\n",
              "      <td>6.33240</td>\n",
              "      <td>5.514497</td>\n",
              "    </tr>\n",
              "    <tr>\n",
              "      <th>237670</th>\n",
              "      <td>wnmihth4io</td>\n",
              "      <td>GB</td>\n",
              "      <td>5yogzc17</td>\n",
              "      <td>RoW</td>\n",
              "      <td>wrgq88ujwh5d</td>\n",
              "      <td>Bottoms - Womens</td>\n",
              "      <td>NaN</td>\n",
              "      <td>NOK</td>\n",
              "      <td>533.06</td>\n",
              "      <td>2020-08-08</td>\n",
              "      <td>10.64540</td>\n",
              "      <td>50.074210</td>\n",
              "    </tr>\n",
              "  </tbody>\n",
              "</table>\n",
              "<p>237671 rows × 12 columns</p>\n",
              "</div>"
            ],
            "text/plain": [
              "          buyer_id buyer_country seller_id seller_country  product_code  \\\n",
              "0       qzpjsi9t0o            GB  6oufpaot             GB  ydecnydr6obf   \n",
              "1       rd209r8c7c            GB  9p2ansc9             GB  wpxxf59cq7pc   \n",
              "2       pqbcrl8azx            GB  r9zmzem8             GB  ua9mmn86wsqy   \n",
              "3       j5en1rwmxp            GB  3o2nz88r             GB  tduo2uy8iszl   \n",
              "4       kjdezxeh1l            GB  7g56ublf             GB  39o00tcu89zq   \n",
              "...            ...           ...       ...            ...           ...   \n",
              "237666  d7dx6f3qv7           RoW  e2p108mu            RoW  nan9a4p10ayk   \n",
              "237667  iaf2ck3rj6            IT  gjb1qntq            RoW  lxj477q1hab2   \n",
              "237668  tucgt70cwc            AU  9adnlxvr            RoW  2g0g0obhwjuc   \n",
              "237669  rrfjxzbdxu            US  w2pozh7u             US  5mm5eg99xbu2   \n",
              "237670  wnmihth4io            GB  5yogzc17            RoW  wrgq88ujwh5d   \n",
              "\n",
              "                category             brand currency    price       date  \\\n",
              "0                Dresses               NaN      GBP    19.11 2020-08-03   \n",
              "1       Outerwear - Mens  Adidas Originals      GBP    24.91 2020-08-03   \n",
              "2          Tops - Womens               NaN      GBP    19.31 2020-08-03   \n",
              "3       Bottoms - Womens  Urban Outfitters      GBP    16.98 2020-08-03   \n",
              "4                  Other               NaN      GBP     2.85 2020-08-03   \n",
              "...                  ...               ...      ...      ...        ...   \n",
              "237666       Tops - Mens               NaN      PLN     4.24 2020-08-04   \n",
              "237667       Accessories               NaN      CZK  3923.18 2020-08-04   \n",
              "237668         Jewellery               NaN      PLN   525.82 2020-08-09   \n",
              "237669  Bottoms - Womens   Brandy Melville      BRL    34.92 2020-08-06   \n",
              "237670  Bottoms - Womens               NaN      NOK   533.06 2020-08-08   \n",
              "\n",
              "            rate       sales  \n",
              "0        0.89935   21.248680  \n",
              "1        0.89935   27.697782  \n",
              "2        0.89935   21.471062  \n",
              "3        0.89935   18.880302  \n",
              "4        0.89935    3.168955  \n",
              "...          ...         ...  \n",
              "237666   4.39693    0.964309  \n",
              "237667  26.12360  150.177617  \n",
              "237668   4.41427  119.118223  \n",
              "237669   6.33240    5.514497  \n",
              "237670  10.64540   50.074210  \n",
              "\n",
              "[237671 rows x 12 columns]"
            ]
          },
          "execution_count": 165,
          "metadata": {},
          "output_type": "execute_result"
        }
      ],
      "source": [
        "df"
      ]
    },
    {
      "cell_type": "code",
      "execution_count": null,
      "id": "fc5f35b7",
      "metadata": {
        "id": "fc5f35b7",
        "outputId": "efa41e32-6a3f-4c26-ecbd-994e27aa7f0b"
      },
      "outputs": [
        {
          "data": {
            "text/html": [
              "<div>\n",
              "<style scoped>\n",
              "    .dataframe tbody tr th:only-of-type {\n",
              "        vertical-align: middle;\n",
              "    }\n",
              "\n",
              "    .dataframe tbody tr th {\n",
              "        vertical-align: top;\n",
              "    }\n",
              "\n",
              "    .dataframe thead th {\n",
              "        text-align: right;\n",
              "    }\n",
              "</style>\n",
              "<table border=\"1\" class=\"dataframe\">\n",
              "  <thead>\n",
              "    <tr style=\"text-align: right;\">\n",
              "      <th></th>\n",
              "      <th>buyer_id</th>\n",
              "      <th>buyer_country</th>\n",
              "      <th>seller_id</th>\n",
              "      <th>seller_country</th>\n",
              "      <th>product_code</th>\n",
              "      <th>category</th>\n",
              "      <th>brand</th>\n",
              "      <th>currency</th>\n",
              "      <th>price</th>\n",
              "      <th>date</th>\n",
              "      <th>rate</th>\n",
              "      <th>sales</th>\n",
              "    </tr>\n",
              "  </thead>\n",
              "  <tbody>\n",
              "    <tr>\n",
              "      <th>2283</th>\n",
              "      <td>3j95yx6wup</td>\n",
              "      <td>GB</td>\n",
              "      <td>skmvdhuk</td>\n",
              "      <td>US</td>\n",
              "      <td>ync12uryxow0</td>\n",
              "      <td>Shoes</td>\n",
              "      <td>Nike</td>\n",
              "      <td>GBP</td>\n",
              "      <td>111.00</td>\n",
              "      <td>2020-08-03</td>\n",
              "      <td>0.89935</td>\n",
              "      <td>123.422472</td>\n",
              "    </tr>\n",
              "    <tr>\n",
              "      <th>2284</th>\n",
              "      <td>x7aa9gdbc4</td>\n",
              "      <td>US</td>\n",
              "      <td>skmvdhuk</td>\n",
              "      <td>US</td>\n",
              "      <td>jyz0v0al09uw</td>\n",
              "      <td>Tops - Mens</td>\n",
              "      <td>Hugo Boss</td>\n",
              "      <td>GBP</td>\n",
              "      <td>19.68</td>\n",
              "      <td>2020-08-03</td>\n",
              "      <td>0.89935</td>\n",
              "      <td>21.882471</td>\n",
              "    </tr>\n",
              "    <tr>\n",
              "      <th>6049</th>\n",
              "      <td>57o59g602o</td>\n",
              "      <td>GB</td>\n",
              "      <td>6wrqs7vq</td>\n",
              "      <td>US</td>\n",
              "      <td>cajxgdvj4pi7</td>\n",
              "      <td>Tops - Mens</td>\n",
              "      <td>Patagonia</td>\n",
              "      <td>GBP</td>\n",
              "      <td>38.49</td>\n",
              "      <td>2020-08-03</td>\n",
              "      <td>0.89935</td>\n",
              "      <td>42.797576</td>\n",
              "    </tr>\n",
              "    <tr>\n",
              "      <th>8093</th>\n",
              "      <td>ugqd9ybhv6</td>\n",
              "      <td>US</td>\n",
              "      <td>4f4klmnu</td>\n",
              "      <td>US</td>\n",
              "      <td>fv9znlng5p7f</td>\n",
              "      <td>Tops - Mens</td>\n",
              "      <td>NaN</td>\n",
              "      <td>GBP</td>\n",
              "      <td>34.24</td>\n",
              "      <td>2020-08-03</td>\n",
              "      <td>0.89935</td>\n",
              "      <td>38.071941</td>\n",
              "    </tr>\n",
              "    <tr>\n",
              "      <th>10109</th>\n",
              "      <td>c0926rtpnh</td>\n",
              "      <td>GB</td>\n",
              "      <td>vb2kphyp</td>\n",
              "      <td>US</td>\n",
              "      <td>thmojbwtriv6</td>\n",
              "      <td>Other</td>\n",
              "      <td>NaN</td>\n",
              "      <td>GBP</td>\n",
              "      <td>9.65</td>\n",
              "      <td>2020-08-03</td>\n",
              "      <td>0.89935</td>\n",
              "      <td>10.729972</td>\n",
              "    </tr>\n",
              "    <tr>\n",
              "      <th>...</th>\n",
              "      <td>...</td>\n",
              "      <td>...</td>\n",
              "      <td>...</td>\n",
              "      <td>...</td>\n",
              "      <td>...</td>\n",
              "      <td>...</td>\n",
              "      <td>...</td>\n",
              "      <td>...</td>\n",
              "      <td>...</td>\n",
              "      <td>...</td>\n",
              "      <td>...</td>\n",
              "      <td>...</td>\n",
              "    </tr>\n",
              "    <tr>\n",
              "      <th>237620</th>\n",
              "      <td>gaeeaczxhm</td>\n",
              "      <td>RoW</td>\n",
              "      <td>nwf1wnr9</td>\n",
              "      <td>US</td>\n",
              "      <td>hhyjdd6q4dd8</td>\n",
              "      <td>Art</td>\n",
              "      <td>NaN</td>\n",
              "      <td>SEK</td>\n",
              "      <td>329.98</td>\n",
              "      <td>2020-08-03</td>\n",
              "      <td>10.29040</td>\n",
              "      <td>32.066781</td>\n",
              "    </tr>\n",
              "    <tr>\n",
              "      <th>237622</th>\n",
              "      <td>6zqe0dq688</td>\n",
              "      <td>RoW</td>\n",
              "      <td>nwf1wnr9</td>\n",
              "      <td>US</td>\n",
              "      <td>7hb82zo1qwsx</td>\n",
              "      <td>Art</td>\n",
              "      <td>NaN</td>\n",
              "      <td>SEK</td>\n",
              "      <td>312.31</td>\n",
              "      <td>2020-08-06</td>\n",
              "      <td>10.32150</td>\n",
              "      <td>30.258199</td>\n",
              "    </tr>\n",
              "    <tr>\n",
              "      <th>237639</th>\n",
              "      <td>8qfb4oy0qx</td>\n",
              "      <td>US</td>\n",
              "      <td>8hqcuuzp</td>\n",
              "      <td>US</td>\n",
              "      <td>os3m6i2pyuns</td>\n",
              "      <td>Other</td>\n",
              "      <td>NaN</td>\n",
              "      <td>JPY</td>\n",
              "      <td>3352.54</td>\n",
              "      <td>2020-08-06</td>\n",
              "      <td>125.37500</td>\n",
              "      <td>26.740100</td>\n",
              "    </tr>\n",
              "    <tr>\n",
              "      <th>237658</th>\n",
              "      <td>n8toz7raxv</td>\n",
              "      <td>US</td>\n",
              "      <td>jjvkctil</td>\n",
              "      <td>US</td>\n",
              "      <td>7p6hqqxi87f6</td>\n",
              "      <td>Bottoms - Womens</td>\n",
              "      <td>ASOS</td>\n",
              "      <td>TWD</td>\n",
              "      <td>42.81</td>\n",
              "      <td>2020-08-04</td>\n",
              "      <td>34.62260</td>\n",
              "      <td>1.236476</td>\n",
              "    </tr>\n",
              "    <tr>\n",
              "      <th>237669</th>\n",
              "      <td>rrfjxzbdxu</td>\n",
              "      <td>US</td>\n",
              "      <td>w2pozh7u</td>\n",
              "      <td>US</td>\n",
              "      <td>5mm5eg99xbu2</td>\n",
              "      <td>Bottoms - Womens</td>\n",
              "      <td>Brandy Melville</td>\n",
              "      <td>BRL</td>\n",
              "      <td>34.92</td>\n",
              "      <td>2020-08-06</td>\n",
              "      <td>6.33240</td>\n",
              "      <td>5.514497</td>\n",
              "    </tr>\n",
              "  </tbody>\n",
              "</table>\n",
              "<p>82111 rows × 12 columns</p>\n",
              "</div>"
            ],
            "text/plain": [
              "          buyer_id buyer_country seller_id seller_country  product_code  \\\n",
              "2283    3j95yx6wup            GB  skmvdhuk             US  ync12uryxow0   \n",
              "2284    x7aa9gdbc4            US  skmvdhuk             US  jyz0v0al09uw   \n",
              "6049    57o59g602o            GB  6wrqs7vq             US  cajxgdvj4pi7   \n",
              "8093    ugqd9ybhv6            US  4f4klmnu             US  fv9znlng5p7f   \n",
              "10109   c0926rtpnh            GB  vb2kphyp             US  thmojbwtriv6   \n",
              "...            ...           ...       ...            ...           ...   \n",
              "237620  gaeeaczxhm           RoW  nwf1wnr9             US  hhyjdd6q4dd8   \n",
              "237622  6zqe0dq688           RoW  nwf1wnr9             US  7hb82zo1qwsx   \n",
              "237639  8qfb4oy0qx            US  8hqcuuzp             US  os3m6i2pyuns   \n",
              "237658  n8toz7raxv            US  jjvkctil             US  7p6hqqxi87f6   \n",
              "237669  rrfjxzbdxu            US  w2pozh7u             US  5mm5eg99xbu2   \n",
              "\n",
              "                category            brand currency    price       date  \\\n",
              "2283               Shoes             Nike      GBP   111.00 2020-08-03   \n",
              "2284         Tops - Mens        Hugo Boss      GBP    19.68 2020-08-03   \n",
              "6049         Tops - Mens        Patagonia      GBP    38.49 2020-08-03   \n",
              "8093         Tops - Mens              NaN      GBP    34.24 2020-08-03   \n",
              "10109              Other              NaN      GBP     9.65 2020-08-03   \n",
              "...                  ...              ...      ...      ...        ...   \n",
              "237620               Art              NaN      SEK   329.98 2020-08-03   \n",
              "237622               Art              NaN      SEK   312.31 2020-08-06   \n",
              "237639             Other              NaN      JPY  3352.54 2020-08-06   \n",
              "237658  Bottoms - Womens             ASOS      TWD    42.81 2020-08-04   \n",
              "237669  Bottoms - Womens  Brandy Melville      BRL    34.92 2020-08-06   \n",
              "\n",
              "             rate       sales  \n",
              "2283      0.89935  123.422472  \n",
              "2284      0.89935   21.882471  \n",
              "6049      0.89935   42.797576  \n",
              "8093      0.89935   38.071941  \n",
              "10109     0.89935   10.729972  \n",
              "...           ...         ...  \n",
              "237620   10.29040   32.066781  \n",
              "237622   10.32150   30.258199  \n",
              "237639  125.37500   26.740100  \n",
              "237658   34.62260    1.236476  \n",
              "237669    6.33240    5.514497  \n",
              "\n",
              "[82111 rows x 12 columns]"
            ]
          },
          "execution_count": 178,
          "metadata": {},
          "output_type": "execute_result"
        }
      ],
      "source": [
        "df.loc[ df.seller_country == 'US' ]"
      ]
    },
    {
      "cell_type": "markdown",
      "id": "c00370d5",
      "metadata": {
        "id": "c00370d5"
      },
      "source": [
        "# first"
      ]
    },
    {
      "cell_type": "code",
      "execution_count": null,
      "id": "217cddf1",
      "metadata": {
        "id": "217cddf1",
        "outputId": "7c8f342f-8b26-4cd8-c5d8-39d5df42815d"
      },
      "outputs": [
        {
          "data": {
            "text/plain": [
              "US     80658\n",
              "CA       391\n",
              "RoW      382\n",
              "GB       301\n",
              "AU       229\n",
              "DE        66\n",
              "FR        45\n",
              "IE        28\n",
              "IT        11\n",
              "Name: buyer_country, dtype: int64"
            ]
          },
          "execution_count": 173,
          "metadata": {},
          "output_type": "execute_result"
        }
      ],
      "source": [
        "df.loc[ df.seller_country == 'US' ].buyer_country.value_counts()"
      ]
    },
    {
      "cell_type": "code",
      "execution_count": null,
      "id": "e4a219d0",
      "metadata": {
        "id": "e4a219d0",
        "outputId": "46ff9304-75f7-4caa-c949-1d93d7909a88"
      },
      "outputs": [
        {
          "data": {
            "text/plain": [
              "80658"
            ]
          },
          "execution_count": 175,
          "metadata": {},
          "output_type": "execute_result"
        }
      ],
      "source": [
        "df.loc[ df.seller_country == 'US' ].buyer_country.value_counts()[0]"
      ]
    },
    {
      "cell_type": "code",
      "execution_count": null,
      "id": "2c261abf",
      "metadata": {
        "id": "2c261abf",
        "outputId": "179faaa5-e4f0-4d17-b37e-100374bc7b39"
      },
      "outputs": [
        {
          "data": {
            "text/plain": [
              "80658"
            ]
          },
          "execution_count": 176,
          "metadata": {},
          "output_type": "execute_result"
        }
      ],
      "source": [
        "df.loc[ df.seller_country == 'US' ].buyer_country.value_counts().US"
      ]
    },
    {
      "cell_type": "code",
      "execution_count": null,
      "id": "6fb9bd20",
      "metadata": {
        "id": "6fb9bd20",
        "outputId": "068ad6a8-d85f-4c86-8c1a-f038bbe8d3f9"
      },
      "outputs": [
        {
          "data": {
            "text/plain": [
              "98.23044415486353"
            ]
          },
          "execution_count": 184,
          "metadata": {},
          "output_type": "execute_result"
        }
      ],
      "source": [
        "df.loc[ df.seller_country == 'US' ].buyer_country.value_counts().US / df.loc[ df.seller_country == 'US' ].shape[0]*100"
      ]
    },
    {
      "cell_type": "code",
      "execution_count": null,
      "id": "044bdd02",
      "metadata": {
        "id": "044bdd02",
        "outputId": "87c02e2b-16ac-4079-90f9-e68dcdcb67df"
      },
      "outputs": [
        {
          "data": {
            "text/plain": [
              "(82111, 12)"
            ]
          },
          "execution_count": 181,
          "metadata": {},
          "output_type": "execute_result"
        }
      ],
      "source": [
        "df.loc[ df.seller_country == 'US' ].shape"
      ]
    },
    {
      "cell_type": "code",
      "execution_count": null,
      "id": "ff650f3f",
      "metadata": {
        "id": "ff650f3f",
        "outputId": "5ae8d3ff-c0a3-4493-d6f3-50b1365f9a22"
      },
      "outputs": [
        {
          "data": {
            "text/plain": [
              "82111"
            ]
          },
          "execution_count": 182,
          "metadata": {},
          "output_type": "execute_result"
        }
      ],
      "source": [
        "df.loc[ df.seller_country == 'US' ].shape[0]"
      ]
    },
    {
      "cell_type": "markdown",
      "id": "df761632",
      "metadata": {
        "id": "df761632"
      },
      "source": [
        "# second aproach our vision"
      ]
    },
    {
      "cell_type": "code",
      "execution_count": null,
      "id": "7d2ab32e",
      "metadata": {
        "id": "7d2ab32e",
        "outputId": "d9413812-36bd-4c4d-8bae-99acc35a10af"
      },
      "outputs": [
        {
          "data": {
            "text/plain": [
              "2106695.5606899997"
            ]
          },
          "execution_count": 189,
          "metadata": {},
          "output_type": "execute_result"
        }
      ],
      "source": [
        "a = df.loc[ df.seller_country == 'US' ].sales.sum()  # us sum sales\n",
        "a"
      ]
    },
    {
      "cell_type": "code",
      "execution_count": null,
      "id": "b03e4b8a",
      "metadata": {
        "id": "b03e4b8a",
        "outputId": "7c531205-5152-4b7e-ae55-c39b567e0b39"
      },
      "outputs": [
        {
          "data": {
            "text/plain": [
              "2021779.311517296"
            ]
          },
          "execution_count": 190,
          "metadata": {},
          "output_type": "execute_result"
        }
      ],
      "source": [
        "b = df.loc[ (df.seller_country == 'US') & (df.buyer_country == 'US')].sales.sum()\n",
        "b"
      ]
    },
    {
      "cell_type": "code",
      "execution_count": null,
      "id": "1916796b",
      "metadata": {
        "id": "1916796b",
        "outputId": "40105466-bf21-418d-eb5e-95a826c05a74"
      },
      "outputs": [
        {
          "data": {
            "text/plain": [
              "95.96922067159569"
            ]
          },
          "execution_count": 193,
          "metadata": {},
          "output_type": "execute_result"
        }
      ],
      "source": [
        "b/a*100"
      ]
    },
    {
      "cell_type": "code",
      "execution_count": null,
      "id": "aaa650de",
      "metadata": {
        "id": "aaa650de",
        "outputId": "d868bbd1-4925-44e7-8846-3f0606db2c02"
      },
      "outputs": [
        {
          "data": {
            "text/plain": [
              "95.97"
            ]
          },
          "execution_count": 194,
          "metadata": {},
          "output_type": "execute_result"
        }
      ],
      "source": [
        "round( b/a*100, 2)"
      ]
    },
    {
      "cell_type": "code",
      "execution_count": null,
      "id": "f1526763",
      "metadata": {
        "id": "f1526763"
      },
      "outputs": [],
      "source": [
        ""
      ]
    }
  ],
  "metadata": {
    "hide_input": false,
    "kernelspec": {
      "display_name": "Python 3 (ipykernel)",
      "language": "python",
      "name": "python3"
    },
    "language_info": {
      "codemirror_mode": {
        "name": "ipython",
        "version": 3
      },
      "file_extension": ".py",
      "mimetype": "text/x-python",
      "name": "python",
      "nbconvert_exporter": "python",
      "pygments_lexer": "ipython3",
      "version": "3.9.7"
    },
    "nbTranslate": {
      "displayLangs": [
        "*"
      ],
      "hotkey": "alt-t",
      "langInMainMenu": true,
      "sourceLang": "en",
      "targetLang": "fr",
      "useGoogleTranslate": true
    },
    "toc": {
      "base_numbering": 1,
      "nav_menu": {},
      "number_sections": true,
      "sideBar": true,
      "skip_h1_title": false,
      "title_cell": "Table of Contents",
      "title_sidebar": "Contents",
      "toc_cell": false,
      "toc_position": {},
      "toc_section_display": true,
      "toc_window_display": false
    },
    "colab": {
      "name": "Time Sensitive Real Interview Questions-1.ipynb",
      "provenance": [],
      "include_colab_link": true
    }
  },
  "nbformat": 4,
  "nbformat_minor": 5
}