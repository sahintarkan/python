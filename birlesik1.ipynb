{
  "nbformat": 4,
  "nbformat_minor": 0,
  "metadata": {
    "colab": {
      "name": "ilk calisma.ipynb",
      "provenance": [],
      "collapsed_sections": []
    },
    "kernelspec": {
      "name": "python3",
      "display_name": "Python 3"
    },
    "language_info": {
      "name": "python"
    }
  },
  "cells": [
    {
      "cell_type": "code",
      "execution_count": null,
      "metadata": {
        "id": "7_RUrbF5wVHo"
      },
      "outputs": [],
      "source": [
        ""
      ]
    },
    {
      "cell_type": "code",
      "source": [
        "print (\"hello world\")"
      ],
      "metadata": {
        "colab": {
          "base_uri": "https://localhost:8080/"
        },
        "id": "7ar91Ss9w2rM",
        "outputId": "1700f17e-ed0f-43f8-a687-c5575033dd17"
      },
      "execution_count": null,
      "outputs": [
        {
          "output_type": "stream",
          "name": "stdout",
          "text": [
            "hello world\n"
          ]
        }
      ]
    },
    {
      "cell_type": "code",
      "source": [
        "print(\"hello world\")"
      ],
      "metadata": {
        "colab": {
          "base_uri": "https://localhost:8080/"
        },
        "id": "tYXJJ34V3Y3X",
        "outputId": "2519a995-f068-46f0-e65a-ce16d0455935"
      },
      "execution_count": null,
      "outputs": [
        {
          "output_type": "stream",
          "name": "stdout",
          "text": [
            "hello world\n"
          ]
        }
      ]
    },
    {
      "cell_type": "code",
      "source": [
        "print(\"olur\")"
      ],
      "metadata": {
        "colab": {
          "base_uri": "https://localhost:8080/"
        },
        "id": "f3oKZCLG4ZvM",
        "outputId": "3be1c652-7604-4eec-9cd3-5006873247ac"
      },
      "execution_count": null,
      "outputs": [
        {
          "output_type": "stream",
          "name": "stdout",
          "text": [
            "olur\n"
          ]
        }
      ]
    },
    {
      "cell_type": "code",
      "source": [
        "print('benim adim tark\n",
        "olur')"
      ],
      "metadata": {
        "colab": {
          "base_uri": "https://localhost:8080/",
          "height": 130
        },
        "id": "c543oA1i5QTp",
        "outputId": "a2ae8b64-1f39-4138-c997-4dc930d1b177"
      },
      "execution_count": null,
      "outputs": [
        {
          "output_type": "error",
          "ename": "SyntaxError",
          "evalue": "ignored",
          "traceback": [
            "\u001b[0;36m  File \u001b[0;32m\"<ipython-input-4-c1963a548f25>\"\u001b[0;36m, line \u001b[0;32m1\u001b[0m\n\u001b[0;31m    print('benim adim tark\u001b[0m\n\u001b[0m                          ^\u001b[0m\n\u001b[0;31mSyntaxError\u001b[0m\u001b[0;31m:\u001b[0m EOL while scanning string literal\n"
          ]
        }
      ]
    },
    {
      "cell_type": "code",
      "source": [
        "print('''aas\n",
        "dd\n",
        "ddd''')\n"
      ],
      "metadata": {
        "colab": {
          "base_uri": "https://localhost:8080/"
        },
        "id": "7iN8rNtv54WT",
        "outputId": "872be1b3-31c0-4e05-a689-ef1df6974c92"
      },
      "execution_count": null,
      "outputs": [
        {
          "output_type": "stream",
          "name": "stdout",
          "text": [
            "aas\n",
            "dd\n",
            "ddd\n"
          ]
        }
      ]
    },
    {
      "cell_type": "code",
      "source": [
        "print(41)"
      ],
      "metadata": {
        "colab": {
          "base_uri": "https://localhost:8080/"
        },
        "id": "zwQu3dHZ6CRx",
        "outputId": "c1756804-10b7-4ce1-9406-f24d80c1ccd9"
      },
      "execution_count": null,
      "outputs": [
        {
          "output_type": "stream",
          "name": "stdout",
          "text": [
            "41\n"
          ]
        }
      ]
    },
    {
      "cell_type": "code",
      "source": [
        "print(''''we should have enough time for our family\"''')"
      ],
      "metadata": {
        "colab": {
          "base_uri": "https://localhost:8080/"
        },
        "id": "HAc_q7Np7Oyy",
        "outputId": "bcede40a-21f1-4ca2-effa-a57d76e06fdf"
      },
      "execution_count": null,
      "outputs": [
        {
          "output_type": "stream",
          "name": "stdout",
          "text": [
            "'we should have enough time for our family\"\n"
          ]
        }
      ]
    },
    {
      "cell_type": "code",
      "source": [
        "print('''''')"
      ],
      "metadata": {
        "colab": {
          "base_uri": "https://localhost:8080/"
        },
        "id": "w5Ya-HHg8CzW",
        "outputId": "2f4915b2-9465-411c-cb78-c7ad694b56e8"
      },
      "execution_count": null,
      "outputs": [
        {
          "output_type": "stream",
          "name": "stdout",
          "text": [
            "\n"
          ]
        }
      ]
    },
    {
      "cell_type": "code",
      "source": [
        "print('adam ol \\\n",
        "adamim')"
      ],
      "metadata": {
        "colab": {
          "base_uri": "https://localhost:8080/"
        },
        "id": "Lnt1SDsQ9tmL",
        "outputId": "0421dcd9-02e1-4471-cfcf-e97a06bbfab7"
      },
      "execution_count": null,
      "outputs": [
        {
          "output_type": "stream",
          "name": "stdout",
          "text": [
            "adam ol adamim\n"
          ]
        }
      ]
    },
    {
      "cell_type": "code",
      "source": [
        "x=3\n",
        "y=4\n",
        "a=\n",
        "\n",
        "print(a)\n"
      ],
      "metadata": {
        "colab": {
          "base_uri": "https://localhost:8080/",
          "height": 130
        },
        "id": "6186XgbWGcGR",
        "outputId": "e36074f6-bbc5-4880-afc9-6d650d94809d"
      },
      "execution_count": null,
      "outputs": [
        {
          "output_type": "error",
          "ename": "SyntaxError",
          "evalue": "ignored",
          "traceback": [
            "\u001b[0;36m  File \u001b[0;32m\"<ipython-input-20-90c9fc26b6e9>\"\u001b[0;36m, line \u001b[0;32m3\u001b[0m\n\u001b[0;31m    a=(x^2)+(9y^3)\u001b[0m\n\u001b[0m              ^\u001b[0m\n\u001b[0;31mSyntaxError\u001b[0m\u001b[0;31m:\u001b[0m invalid syntax\n"
          ]
        }
      ]
    },
    {
      "cell_type": "code",
      "source": [
        ""
      ],
      "metadata": {
        "id": "kDHh6aKWHsEj"
      },
      "execution_count": null,
      "outputs": []
    },
    {
      "cell_type": "code",
      "source": [
        ""
      ],
      "metadata": {
        "colab": {
          "base_uri": "https://localhost:8080/",
          "height": 165
        },
        "id": "CqrhG7L_HwKa",
        "outputId": "5089d5f3-583c-4e55-b4fd-b60a85e57ac1"
      },
      "execution_count": null,
      "outputs": [
        {
          "output_type": "error",
          "ename": "NameError",
          "evalue": "ignored",
          "traceback": [
            "\u001b[0;31m---------------------------------------------------------------------------\u001b[0m",
            "\u001b[0;31mNameError\u001b[0m                                 Traceback (most recent call last)",
            "\u001b[0;32m<ipython-input-14-39cb3db33052>\u001b[0m in \u001b[0;36m<module>\u001b[0;34m()\u001b[0m\n\u001b[0;32m----> 1\u001b[0;31m \u001b[0mprint\u001b[0m\u001b[0;34m(\u001b[0m\u001b[0mx\u001b[0m\u001b[0;34m+\u001b[0m\u001b[0my\u001b[0m\u001b[0;34m)\u001b[0m\u001b[0;34m\u001b[0m\u001b[0;34m\u001b[0m\u001b[0m\n\u001b[0m",
            "\u001b[0;31mNameError\u001b[0m: name 'x' is not defined"
          ]
        }
      ]
    },
    {
      "cell_type": "code",
      "source": [
        "3-5\n"
      ],
      "metadata": {
        "colab": {
          "base_uri": "https://localhost:8080/"
        },
        "id": "VfOmsQHMHz7Y",
        "outputId": "85682731-f7ad-4c84-863f-2e186e95d34e"
      },
      "execution_count": null,
      "outputs": [
        {
          "output_type": "execute_result",
          "data": {
            "text/plain": [
              "-2"
            ]
          },
          "metadata": {},
          "execution_count": 21
        }
      ]
    },
    {
      "cell_type": "code",
      "source": [
        "# 'ali'\n",
        "# 'veli'"
      ],
      "metadata": {
        "id": "6qNw6zvvKN2L"
      },
      "execution_count": null,
      "outputs": []
    },
    {
      "cell_type": "code",
      "source": [
        "masa=10\n",
        "veri=\"alim=-satim\"\n",
        "hayat=3.45\n",
        "print(masa,veri,hayat) \n"
      ],
      "metadata": {
        "colab": {
          "base_uri": "https://localhost:8080/"
        },
        "id": "ko9yoXG0OYHt",
        "outputId": "6132fbea-4e84-4d63-ca3a-318982c2a28e"
      },
      "execution_count": null,
      "outputs": [
        {
          "output_type": "stream",
          "name": "stdout",
          "text": [
            "10 alim=-satim 3.45\n"
          ]
        }
      ]
    },
    {
      "cell_type": "code",
      "source": [
        ""
      ],
      "metadata": {
        "id": "qkRUha4nOnHE"
      },
      "execution_count": null,
      "outputs": []
    },
    {
      "cell_type": "code",
      "source": [
        "masa=10\n",
        "veri=\"alim=-satim\"\n",
        "hayat=3.45\n",
        "print(masa,veri,hayat) \n"
      ],
      "metadata": {
        "colab": {
          "base_uri": "https://localhost:8080/"
        },
        "outputId": "6132fbea-4e84-4d63-ca3a-318982c2a28e",
        "id": "eD8FkI3IP6Me"
      },
      "execution_count": null,
      "outputs": [
        {
          "output_type": "stream",
          "name": "stdout",
          "text": [
            "10 alim=-satim 3.45\n"
          ]
        }
      ]
    },
    {
      "cell_type": "code",
      "source": [
        "a='walter'\n",
        "print(a)"
      ],
      "metadata": {
        "id": "chApGNeuBHC6"
      },
      "execution_count": null,
      "outputs": []
    },
    {
      "cell_type": "code",
      "source": [
        "a='walter'\n",
        "print(a)"
      ],
      "metadata": {
        "id": "gzfT2jPoBG_5"
      },
      "execution_count": null,
      "outputs": []
    },
    {
      "cell_type": "code",
      "source": [
        "type(a)"
      ],
      "metadata": {
        "id": "AzYA3OqHBG9R"
      },
      "execution_count": null,
      "outputs": []
    },
    {
      "cell_type": "code",
      "source": [
        "float(1)"
      ],
      "metadata": {
        "id": "prp9PAVVBG6o"
      },
      "execution_count": null,
      "outputs": []
    },
    {
      "cell_type": "code",
      "source": [
        "int(3.14)"
      ],
      "metadata": {
        "id": "LktLpoXZBGx4"
      },
      "execution_count": null,
      "outputs": []
    },
    {
      "cell_type": "code",
      "source": [
        "a=3.13\n",
        "print(type(a))"
      ],
      "metadata": {
        "id": "deXcmEDjBaF9"
      },
      "execution_count": null,
      "outputs": []
    },
    {
      "cell_type": "code",
      "source": [
        "bool(None)"
      ],
      "metadata": {
        "id": "7iHTjTpLBaD0"
      },
      "execution_count": null,
      "outputs": []
    },
    {
      "cell_type": "code",
      "source": [
        "print(\"clarusway\" and 0 and not \"\" and False and (\" \" or None))"
      ],
      "metadata": {
        "id": "hIDu18kDBaBO"
      },
      "execution_count": null,
      "outputs": []
    },
    {
      "cell_type": "code",
      "source": [
        "print(True and False and not \"False\" and None and (\"None\" or None))"
      ],
      "metadata": {
        "id": "NSiOjnP6BZ-2"
      },
      "execution_count": null,
      "outputs": []
    },
    {
      "cell_type": "code",
      "source": [
        "print(True and False and (not True and False) and not (True or False))"
      ],
      "metadata": {
        "id": "3PgCq0GBBZ8E"
      },
      "execution_count": null,
      "outputs": []
    },
    {
      "cell_type": "code",
      "source": [
        "degisken=10\n",
        "degisken=degisken+1\n",
        "degisken"
      ],
      "metadata": {
        "id": "Ls4iICWfBZ5X"
      },
      "execution_count": null,
      "outputs": []
    },
    {
      "cell_type": "code",
      "source": [
        "\n",
        "degisken2=5\n",
        "degisken2=degisken2*2\n",
        "degisken2"
      ],
      "metadata": {
        "id": "V_T1eNrTBgUU"
      },
      "execution_count": null,
      "outputs": []
    },
    {
      "cell_type": "code",
      "source": [
        "degisken +=1 # degisken=degisken+1 le ayni sonuc"
      ],
      "metadata": {
        "id": "yISGZBCfBgRt"
      },
      "execution_count": null,
      "outputs": []
    },
    {
      "cell_type": "code",
      "source": [
        "a=8\n",
        "b=2\n",
        "a*=b"
      ],
      "metadata": {
        "id": "9YFfwtj_BgPd"
      },
      "execution_count": null,
      "outputs": []
    },
    {
      "cell_type": "code",
      "source": [
        "a=3\n",
        "\n",
        "b=4\n",
        "c=(a**2+b**2)**0.5\n",
        "print(c)"
      ],
      "metadata": {
        "id": "iHpm3_JuBgNK"
      },
      "execution_count": null,
      "outputs": []
    },
    {
      "cell_type": "code",
      "source": [
        "a=3\n",
        "b=4\n",
        "c=a**2+b**2\n",
        "print(c**0.5)"
      ],
      "metadata": {
        "id": "TtnBOfiUBgKT"
      },
      "execution_count": null,
      "outputs": []
    },
    {
      "cell_type": "code",
      "source": [
        "#seperator degisewbilir burda tire isareti yaptik herhangi bir isaret koyabi;iriz\n",
        "print('ali')\n",
        "print('veli','macit',sep='-')"
      ],
      "metadata": {
        "id": "wQDUlJPLBgHr",
        "colab": {
          "base_uri": "https://localhost:8080/"
        },
        "outputId": "1634e2f6-cd93-4fc9-d91e-b2be76ff43ab"
      },
      "execution_count": 1,
      "outputs": [
        {
          "output_type": "stream",
          "name": "stdout",
          "text": [
            "ali\n",
            "veli-macit\n"
          ]
        }
      ]
    },
    {
      "cell_type": "code",
      "source": [
        "print('ali', end=' ')# end e tanimlarsak onu yapar burda bosluk var sadece bir bosluk verdi\n",
        "print('veli', 'ayse')\n",
        "#end e defoult olarak alt satira gecer tanimli \"\\n #en son deger den sonra cursorun n erde duracaginia uygular\n",
        "#new line dadir end defoult "
      ],
      "metadata": {
        "id": "6gvC159pBgFU"
      },
      "execution_count": null,
      "outputs": []
    },
    {
      "cell_type": "code",
      "source": [
        "bool(0)"
      ],
      "metadata": {
        "id": "f1r4O3BCBgC_"
      },
      "execution_count": null,
      "outputs": []
    },
    {
      "cell_type": "code",
      "source": [
        "my_age = 33\n",
        "your_age = 30\n",
        "my_age = your_age\n",
        "print(my_age)\n",
        "# my_age değişkeni your_age değişkenine atanmıştır."
      ],
      "metadata": {
        "id": "lMEJiU2BBf9w"
      },
      "execution_count": null,
      "outputs": []
    },
    {
      "cell_type": "code",
      "source": [
        "variable = 3.14\n",
        "VAR_ONE = 'something'# Büyük harf tavsiye edilmez."
      ],
      "metadata": {
        "id": "lrv_VLf6Bf30"
      },
      "execution_count": null,
      "outputs": []
    },
    {
      "cell_type": "code",
      "source": [
        "if\n",
        "or\n",
        "and\n",
        "True\n",
        "False\n",
        "in\n",
        "while\n",
        "for\n",
        "else\n",
        "pass\n",
        "break\n",
        "yield\n",
        "# Değişkenlere pythonun sıkça kullandığı\n",
        "# kelimelerle isim vermemeye çalışmalıyız."
      ],
      "metadata": {
        "id": "RVsxx0pcBf2F"
      },
      "execution_count": null,
      "outputs": []
    },
    {
      "cell_type": "code",
      "source": [
        "x = y = z = \"same\"\n",
        "print(x)\n",
        "print(y)\n",
        "print(z)\n",
        "# değer atamalarında sağdan sola atama yapmalı , bu mantıkla düşünmeliyiz. "
      ],
      "metadata": {
        "id": "WRGjN0SSBfzc"
      },
      "execution_count": null,
      "outputs": []
    },
    {
      "cell_type": "code",
      "source": [
        "jan = march = may = aug = july = octo = dec = 31\n",
        "feb = 28\n",
        "apr = june = sept = nov = dec = 30\n",
        "print (jan, feb, march, apr, may , june, july, aug, sept, octo, nov, dec)"
      ],
      "metadata": {
        "id": "9_iSKD3XBfw3"
      },
      "execution_count": null,
      "outputs": []
    },
    {
      "cell_type": "code",
      "source": [
        "thomas = 33\n",
        "marry = 28\n",
        "walter = 'none' # rezerve etmek istediğimiz değere value olarak none atanır.\n",
        "isabella = 46\n",
        "print(thomas, marry, walter, isabella)"
      ],
      "metadata": {
        "id": "6X6n-uczBfu1"
      },
      "execution_count": null,
      "outputs": []
    },
    {
      "cell_type": "code",
      "source": [
        "website = \"apple.com\"\n",
        "print(website)\n",
        "website = \"clarusway.com\"\n",
        "print(website)"
      ],
      "metadata": {
        "id": "scujA240BfsB"
      },
      "execution_count": null,
      "outputs": []
    },
    {
      "cell_type": "code",
      "source": [
        "a = 11\n",
        "b = 22\n",
        "c = 44\n",
        "a = 33\n",
        "b = 55\n",
        "c = a\n",
        "print(a, b, c)"
      ],
      "metadata": {
        "id": "VlbqgyryBfpf"
      },
      "execution_count": null,
      "outputs": []
    },
    {
      "cell_type": "code",
      "source": [
        "x = 15\n",
        "y = 33\n",
        "z = x\n",
        "x = y\n",
        "print(x)\n",
        "print(y)\n",
        "print(z)\n",
        "# son verilen değere odaklanmalıyız."
      ],
      "metadata": {
        "id": "hI6ITrYuBfmf"
      },
      "execution_count": null,
      "outputs": []
    },
    {
      "cell_type": "code",
      "source": [
        "a, b, c = 5, 3.2, \"hello\"\n",
        "print(a)\n",
        "print(b)\n",
        "print(c)"
      ],
      "metadata": {
        "id": "teAiarfcXx_f"
      },
      "execution_count": null,
      "outputs": []
    },
    {
      "cell_type": "code",
      "source": [
        "my_text = 'being a good person'\n",
        "print(type(my_text))\n",
        "# print komutunun içinde \"type\" fonk. çalıştırırsak tür çıktısı verir."
      ],
      "metadata": {
        "id": "p6FzJ-mIXx9B"
      },
      "execution_count": null,
      "outputs": []
    },
    {
      "cell_type": "code",
      "source": [
        "my_integer = 40\n",
        "negative_number = -18\n",
        "print(my_integer)\n",
        "print(negative_number)\n",
        "# pozitif yada negatif tamsayıların ondalıksız halini verir."
      ],
      "metadata": {
        "id": "_osHOtLfXx6O"
      },
      "execution_count": null,
      "outputs": []
    },
    {
      "cell_type": "code",
      "source": [
        "my_float = 40.0\n",
        "negative_float = -18.6\n",
        "print(my_float)\n",
        "print(negative_float)\n",
        "# sayıları ondalıklı kısmıyla yazdırır."
      ],
      "metadata": {
        "id": "hv8UNyQJXxrC"
      },
      "execution_count": null,
      "outputs": []
    },
    {
      "cell_type": "code",
      "source": [
        "my_data = 'I am string'\n",
        "print(type(my_data))"
      ],
      "metadata": {
        "id": "HlXNbKMxXxo8"
      },
      "execution_count": null,
      "outputs": []
    },
    {
      "cell_type": "code",
      "source": [
        "str(3.14)"
      ],
      "metadata": {
        "id": "jdTHjQPHXxnI"
      },
      "execution_count": null,
      "outputs": []
    },
    {
      "cell_type": "code",
      "source": [
        "str(False)"
      ],
      "metadata": {
        "id": "is6Itm0DXxkh"
      },
      "execution_count": null,
      "outputs": []
    },
    {
      "cell_type": "code",
      "source": [
        "pi = 3.14\n",
        "converted_pi = int(pi)\n",
        "print(converted_pi)\n",
        "print(type(converted_pi))\n",
        "# float integer dönüşümü\n"
      ],
      "metadata": {
        "id": "f5Z4onTIXxht"
      },
      "execution_count": null,
      "outputs": []
    },
    {
      "cell_type": "code",
      "source": [
        "pi = 3.14\n",
        "r = 5\n",
        "print(pi*r*r)"
      ],
      "metadata": {
        "id": "PW9QvbyIXxfX"
      },
      "execution_count": null,
      "outputs": []
    },
    {
      "cell_type": "code",
      "source": [
        "r = 5\n",
        "area = 3.14 * r * r\n",
        "print(area)"
      ],
      "metadata": {
        "id": "A06620TEXxdP"
      },
      "execution_count": null,
      "outputs": []
    },
    {
      "cell_type": "code",
      "source": [
        "VAR_ONE = \"Something but nothing\"\n",
        "\n",
        "# Büyük harf tavsiye edilmez"
      ],
      "metadata": {
        "id": "VSO711x3XxZ8"
      },
      "execution_count": null,
      "outputs": []
    },
    {
      "cell_type": "code",
      "source": [
        "or = \"alideliveli\""
      ],
      "metadata": {
        "colab": {
          "base_uri": "https://localhost:8080/",
          "height": 135
        },
        "id": "ToiOyID4YMSm",
        "outputId": "54593ac6-47dc-41e5-f99f-e9c86690d4c5"
      },
      "execution_count": 1,
      "outputs": [
        {
          "output_type": "error",
          "ename": "SyntaxError",
          "evalue": "ignored",
          "traceback": [
            "\u001b[0;36m  File \u001b[0;32m\"<ipython-input-1-7003aafd32c8>\"\u001b[0;36m, line \u001b[0;32m1\u001b[0m\n\u001b[0;31m    or = \"alideliveli\"\u001b[0m\n\u001b[0m     ^\u001b[0m\n\u001b[0;31mSyntaxError\u001b[0m\u001b[0;31m:\u001b[0m invalid syntax\n"
          ]
        }
      ]
    },
    {
      "cell_type": "code",
      "source": [
        "if \n",
        "or\n",
        "and\n",
        "True\n",
        "False\n",
        "in\n",
        "while\n",
        "for\n",
        "else\n",
        "elif\n",
        "pass\n",
        "break\n",
        "yield\n"
      ],
      "metadata": {
        "id": "eUXEnFCYYMQv"
      },
      "execution_count": null,
      "outputs": []
    },
    {
      "cell_type": "code",
      "source": [
        "and = \"mahmut_sevda_yelda\""
      ],
      "metadata": {
        "colab": {
          "base_uri": "https://localhost:8080/",
          "height": 135
        },
        "id": "kyJvCjUtYMOd",
        "outputId": "7c5e2759-1ba5-43b7-c04a-2de88216305b"
      },
      "execution_count": 2,
      "outputs": [
        {
          "output_type": "error",
          "ename": "SyntaxError",
          "evalue": "ignored",
          "traceback": [
            "\u001b[0;36m  File \u001b[0;32m\"<ipython-input-2-be2c25473048>\"\u001b[0;36m, line \u001b[0;32m1\u001b[0m\n\u001b[0;31m    and = \"mahmut_sevda_yelda\"\u001b[0m\n\u001b[0m      ^\u001b[0m\n\u001b[0;31mSyntaxError\u001b[0m\u001b[0;31m:\u001b[0m invalid syntax\n"
          ]
        }
      ]
    },
    {
      "cell_type": "code",
      "source": [
        "if = 22"
      ],
      "metadata": {
        "colab": {
          "base_uri": "https://localhost:8080/",
          "height": 135
        },
        "id": "mErkkV0YYMMC",
        "outputId": "9a8ac441-b7e4-44ca-dd88-2edb31fb9663"
      },
      "execution_count": 3,
      "outputs": [
        {
          "output_type": "error",
          "ename": "SyntaxError",
          "evalue": "ignored",
          "traceback": [
            "\u001b[0;36m  File \u001b[0;32m\"<ipython-input-3-98b701bcfce9>\"\u001b[0;36m, line \u001b[0;32m1\u001b[0m\n\u001b[0;31m    if = 22\u001b[0m\n\u001b[0m       ^\u001b[0m\n\u001b[0;31mSyntaxError\u001b[0m\u001b[0;31m:\u001b[0m invalid syntax\n"
          ]
        }
      ]
    },
    {
      "cell_type": "code",
      "source": [
        "if_or_else = \"clarusway\""
      ],
      "metadata": {
        "id": "xbpw6LyIYMJC"
      },
      "execution_count": null,
      "outputs": []
    },
    {
      "cell_type": "code",
      "source": [
        "walter = None\n",
        "walter"
      ],
      "metadata": {
        "id": "VJY2iMEkYMGU"
      },
      "execution_count": 4,
      "outputs": []
    },
    {
      "cell_type": "code",
      "source": [
        "c = 11"
      ],
      "metadata": {
        "id": "32X-ns4OYMDl"
      },
      "execution_count": null,
      "outputs": []
    },
    {
      "cell_type": "code",
      "source": [
        "C"
      ],
      "metadata": {
        "colab": {
          "base_uri": "https://localhost:8080/",
          "height": 171
        },
        "id": "-FOOLiqeZHPp",
        "outputId": "6ca902c3-9235-4511-dd3f-da8900cdafd3"
      },
      "execution_count": 5,
      "outputs": [
        {
          "output_type": "error",
          "ename": "NameError",
          "evalue": "ignored",
          "traceback": [
            "\u001b[0;31m---------------------------------------------------------------------------\u001b[0m",
            "\u001b[0;31mNameError\u001b[0m                                 Traceback (most recent call last)",
            "\u001b[0;32m<ipython-input-5-6fa8c5733662>\u001b[0m in \u001b[0;36m<module>\u001b[0;34m()\u001b[0m\n\u001b[0;32m----> 1\u001b[0;31m \u001b[0mC\u001b[0m\u001b[0;34m\u001b[0m\u001b[0;34m\u001b[0m\u001b[0m\n\u001b[0m",
            "\u001b[0;31mNameError\u001b[0m: name 'C' is not defined"
          ]
        }
      ]
    },
    {
      "cell_type": "code",
      "source": [
        "a = 11\n",
        "b = 22\n",
        "c = 44\n",
        "\n",
        "a = 33\n",
        "b = 55\n",
        "c = a\n",
        "print(a, b, c)"
      ],
      "metadata": {
        "id": "iUPab8jzZHMw"
      },
      "execution_count": null,
      "outputs": []
    },
    {
      "cell_type": "code",
      "source": [
        "\"x\" = 15"
      ],
      "metadata": {
        "id": "uUG-TWDRZHHk"
      },
      "execution_count": null,
      "outputs": []
    },
    {
      "cell_type": "code",
      "source": [
        "15 = 22"
      ],
      "metadata": {
        "id": "d9kMeaqLZHEw"
      },
      "execution_count": null,
      "outputs": []
    },
    {
      "cell_type": "code",
      "source": [
        "alideliveli\" = \"ali\""
      ],
      "metadata": {
        "id": "MbiQ83cnZHB_"
      },
      "execution_count": null,
      "outputs": []
    },
    {
      "cell_type": "code",
      "source": [
        "type(\"alideliveli\")"
      ],
      "metadata": {
        "id": "b8_RGGnVZG_C"
      },
      "execution_count": null,
      "outputs": []
    },
    {
      "cell_type": "code",
      "source": [
        "type(a)"
      ],
      "metadata": {
        "id": "oy0g_rksZdEa"
      },
      "execution_count": null,
      "outputs": []
    },
    {
      "cell_type": "code",
      "source": [
        "10.5"
      ],
      "metadata": {
        "id": "dw-RCbu6ZdCL"
      },
      "execution_count": null,
      "outputs": []
    },
    {
      "cell_type": "code",
      "source": [
        "10 == 10.0"
      ],
      "metadata": {
        "id": "ff3mhouuZc_Y"
      },
      "execution_count": null,
      "outputs": []
    },
    {
      "cell_type": "code",
      "source": [
        "0 == 0.0"
      ],
      "metadata": {
        "id": "TyIzutogZc8k"
      },
      "execution_count": null,
      "outputs": []
    },
    {
      "cell_type": "code",
      "source": [
        "float(0)"
      ],
      "metadata": {
        "id": "b4y5mxsvZcxt"
      },
      "execution_count": null,
      "outputs": []
    },
    {
      "cell_type": "code",
      "source": [
        "\"10\" # string\n",
        "10  # integer\n",
        "10.0  # float"
      ],
      "metadata": {
        "id": "GCKiGWrbZcuK"
      },
      "execution_count": null,
      "outputs": []
    },
    {
      "cell_type": "code",
      "source": [
        "type(0.0)"
      ],
      "metadata": {
        "id": "6_JeW6MtZqSO"
      },
      "execution_count": null,
      "outputs": []
    },
    {
      "cell_type": "code",
      "source": [
        "int(\"10\")"
      ],
      "metadata": {
        "id": "_ZZvtT1xZqP0"
      },
      "execution_count": null,
      "outputs": []
    },
    {
      "cell_type": "code",
      "source": [
        "a = int(\"11\")\n",
        "type(a)"
      ],
      "metadata": {
        "id": "FVyr-m-bZqNf"
      },
      "execution_count": null,
      "outputs": []
    },
    {
      "cell_type": "code",
      "source": [
        "int(\"onbir\")\n",
        "int(\"ten\")"
      ],
      "metadata": {
        "colab": {
          "base_uri": "https://localhost:8080/",
          "height": 190
        },
        "id": "Jq6mYEqJZqK-",
        "outputId": "ebe5f65a-a87e-4596-a5b3-e3333a333fbc"
      },
      "execution_count": 6,
      "outputs": [
        {
          "output_type": "error",
          "ename": "ValueError",
          "evalue": "ignored",
          "traceback": [
            "\u001b[0;31m---------------------------------------------------------------------------\u001b[0m",
            "\u001b[0;31mValueError\u001b[0m                                Traceback (most recent call last)",
            "\u001b[0;32m<ipython-input-6-6578afcc0cc8>\u001b[0m in \u001b[0;36m<module>\u001b[0;34m()\u001b[0m\n\u001b[0;32m----> 1\u001b[0;31m \u001b[0mint\u001b[0m\u001b[0;34m(\u001b[0m\u001b[0;34m\"onbir\"\u001b[0m\u001b[0;34m)\u001b[0m\u001b[0;34m\u001b[0m\u001b[0;34m\u001b[0m\u001b[0m\n\u001b[0m\u001b[1;32m      2\u001b[0m \u001b[0mint\u001b[0m\u001b[0;34m(\u001b[0m\u001b[0;34m\"ten\"\u001b[0m\u001b[0;34m)\u001b[0m\u001b[0;34m\u001b[0m\u001b[0;34m\u001b[0m\u001b[0m\n",
            "\u001b[0;31mValueError\u001b[0m: invalid literal for int() with base 10: 'onbir'"
          ]
        }
      ]
    },
    {
      "cell_type": "code",
      "source": [
        "str(3.14)"
      ],
      "metadata": {
        "id": "320QAUfqZqIg"
      },
      "execution_count": null,
      "outputs": []
    },
    {
      "cell_type": "code",
      "source": [
        "str(False)"
      ],
      "metadata": {
        "id": "aIk80dWVZ5qd"
      },
      "execution_count": null,
      "outputs": []
    },
    {
      "cell_type": "code",
      "source": [
        "print(\"24\")"
      ],
      "metadata": {
        "id": "7AXzUnPAZ5nv"
      },
      "execution_count": null,
      "outputs": []
    },
    {
      "cell_type": "code",
      "source": [
        "print(24)"
      ],
      "metadata": {
        "id": "JB4Nbpb4Z5kL"
      },
      "execution_count": null,
      "outputs": []
    },
    {
      "cell_type": "code",
      "source": [
        "\"24\""
      ],
      "metadata": {
        "id": "ixfw5RoEZ5hj"
      },
      "execution_count": null,
      "outputs": []
    },
    {
      "cell_type": "code",
      "source": [
        "int(3.14)"
      ],
      "metadata": {
        "id": "-EMCTPb_Z5fR"
      },
      "execution_count": null,
      "outputs": []
    },
    {
      "cell_type": "code",
      "source": [
        "float(11)"
      ],
      "metadata": {
        "id": "4h9C2aQaZ5c0"
      },
      "execution_count": null,
      "outputs": []
    },
    {
      "cell_type": "code",
      "source": [
        "float(\"11\")"
      ],
      "metadata": {
        "id": "MPkWn7UAZ5aC"
      },
      "execution_count": null,
      "outputs": []
    },
    {
      "cell_type": "code",
      "source": [
        "float(\"33.33\")"
      ],
      "metadata": {
        "id": "zxacWNFpZqFk"
      },
      "execution_count": null,
      "outputs": []
    },
    {
      "cell_type": "code",
      "source": [
        "\"33\" + \"11\""
      ],
      "metadata": {
        "id": "kd4vqg_kZqCb"
      },
      "execution_count": null,
      "outputs": []
    },
    {
      "cell_type": "code",
      "source": [
        "33 + 11"
      ],
      "metadata": {
        "id": "0lgttksEaOye"
      },
      "execution_count": null,
      "outputs": []
    },
    {
      "cell_type": "code",
      "source": [
        "\"33\" + 11"
      ],
      "metadata": {
        "id": "jLehx7w7aOwG"
      },
      "execution_count": null,
      "outputs": []
    },
    {
      "cell_type": "code",
      "source": [
        "43 // 5"
      ],
      "metadata": {
        "id": "_IEtJDu1aOti"
      },
      "execution_count": null,
      "outputs": []
    },
    {
      "cell_type": "code",
      "source": [
        "60 % 7"
      ],
      "metadata": {
        "colab": {
          "base_uri": "https://localhost:8080/"
        },
        "id": "S2szidZ6aOrT",
        "outputId": "c725ee9e-7ce4-4d95-a12c-6fac4b464c8e"
      },
      "execution_count": 7,
      "outputs": [
        {
          "output_type": "execute_result",
          "data": {
            "text/plain": [
              "4"
            ]
          },
          "metadata": {},
          "execution_count": 7
        }
      ]
    },
    {
      "cell_type": "code",
      "source": [
        "kadayıf = True  # olmazsa olmaz\n",
        "\n",
        "# iç --> olmazsa olmaz\n",
        "fındık = False  # fark etmez\n",
        "fıstık = False  # fark etmez\n",
        "ceviz = True  # fark etmez\n",
        "\n",
        "# şerbet  --> olmazsa olmaz\n",
        "su = True\n",
        "şeker = True\n",
        "\n",
        "yumurta = True  # olmazsa olmaz"
      ],
      "metadata": {
        "id": "lER9I-GmaOol"
      },
      "execution_count": null,
      "outputs": []
    },
    {
      "cell_type": "code",
      "source": [
        "# yedim = kadayıf and (şerbet) and (iç) and yumurta"
      ],
      "metadata": {
        "id": "zXJzrXmoaOlw"
      },
      "execution_count": null,
      "outputs": []
    },
    {
      "cell_type": "code",
      "source": [
        "yedim = kadayıf and (su and şeker) and (fındık or fıstık or ceviz) and yumurta\n",
        "yedim"
      ],
      "metadata": {
        "id": "xj1a9wa3b-Hu"
      },
      "execution_count": null,
      "outputs": []
    },
    {
      "cell_type": "code",
      "source": [
        "# içecek --> olmazsa olmaz\n",
        "\n",
        "çay = True\n",
        "meşrubat = False\n",
        "limonata = False"
      ],
      "metadata": {
        "id": "UV0pQtkZb-Fp"
      },
      "execution_count": null,
      "outputs": []
    },
    {
      "cell_type": "code",
      "source": [
        "yedim = kadayıf and (su and şeker) and (fındık or fıstık or ceviz) and yumurta\\\n",
        "and (çay or meşrubat or limonata)\n",
        "yedim"
      ],
      "metadata": {
        "id": "9DojPF8Nb-CY"
      },
      "execution_count": null,
      "outputs": []
    },
    {
      "cell_type": "code",
      "source": [
        "para = 1000"
      ],
      "metadata": {
        "id": "3NthUrwVb9_4"
      },
      "execution_count": null,
      "outputs": []
    },
    {
      "cell_type": "code",
      "source": [
        "para = para + para * 0.07  # pazartesi\n",
        "para"
      ],
      "metadata": {
        "id": "v8qA5UCPb98R"
      },
      "execution_count": null,
      "outputs": []
    },
    {
      "cell_type": "code",
      "source": [
        "para = para + para * 0.07  # salı\n",
        "para"
      ],
      "metadata": {
        "id": "CDvB5OEsb90d"
      },
      "execution_count": null,
      "outputs": []
    },
    {
      "cell_type": "code",
      "source": [
        "para = para + para * 0.07  # çarşamba\n",
        "para"
      ],
      "metadata": {
        "id": "RtV6FSrab9yO"
      },
      "execution_count": null,
      "outputs": []
    },
    {
      "cell_type": "code",
      "source": [
        "para = para + para * 0.07  # perşembe\n",
        "para"
      ],
      "metadata": {
        "id": "3JwPm7Spb9vk"
      },
      "execution_count": null,
      "outputs": []
    },
    {
      "cell_type": "code",
      "source": [
        "para = para + para * 0.07  # cuma\n",
        "para"
      ],
      "metadata": {
        "id": "zSUawis7b9s8"
      },
      "execution_count": null,
      "outputs": []
    },
    {
      "cell_type": "code",
      "source": [
        "para = para + para * 0.07  # cumartesi\n",
        "para"
      ],
      "metadata": {
        "id": "R6NcqUiJb9il"
      },
      "execution_count": null,
      "outputs": []
    },
    {
      "cell_type": "code",
      "source": [
        "para = para + para * 0.07  # pazar\n",
        "para"
      ],
      "metadata": {
        "id": "ujQ7W2TEcQc4"
      },
      "execution_count": null,
      "outputs": []
    },
    {
      "cell_type": "code",
      "source": [
        "para = 1000"
      ],
      "metadata": {
        "id": "QDZGBbKmcQZq"
      },
      "execution_count": null,
      "outputs": []
    },
    {
      "cell_type": "code",
      "source": [
        "para = para * 1.07\n",
        "para = para * 1.07 * 1.07 * 1.07 * 1.07 * 1.07 * 1.07 * 1.07\n",
        "# para = para * 1.07\n",
        "# para = para * 1.07\n",
        "# para = para * 1.07\n",
        "# para = para * 1.07\n",
        "# para = para * 1.07"
      ],
      "metadata": {
        "id": "rQpCFyFIcQXh"
      },
      "execution_count": null,
      "outputs": []
    },
    {
      "cell_type": "code",
      "source": [
        "sonuç = para * 1.07**7\n",
        "sonuç"
      ],
      "metadata": {
        "id": "d3tL4QXxcQVF"
      },
      "execution_count": null,
      "outputs": []
    },
    {
      "cell_type": "code",
      "source": [
        "city = \"phoenix\""
      ],
      "metadata": {
        "id": "hzM7xlGMcQSq"
      },
      "execution_count": 9,
      "outputs": []
    },
    {
      "cell_type": "code",
      "source": [
        "city[-2]"
      ],
      "metadata": {
        "colab": {
          "base_uri": "https://localhost:8080/",
          "height": 35
        },
        "id": "MtOqdJYkcQQJ",
        "outputId": "c48390f2-d7df-4ca2-d554-a720ef0afc0b"
      },
      "execution_count": 12,
      "outputs": [
        {
          "output_type": "execute_result",
          "data": {
            "text/plain": [
              "'i'"
            ],
            "application/vnd.google.colaboratory.intrinsic+json": {
              "type": "string"
            }
          },
          "metadata": {},
          "execution_count": 12
        }
      ]
    },
    {
      "cell_type": "code",
      "source": [
        "city[5]"
      ],
      "metadata": {
        "colab": {
          "base_uri": "https://localhost:8080/",
          "height": 35
        },
        "id": "KSUwH1uUcQNc",
        "outputId": "c9cfd0a4-2b5e-45cd-ee22-c6d90f9001b6"
      },
      "execution_count": 13,
      "outputs": [
        {
          "output_type": "execute_result",
          "data": {
            "text/plain": [
              "'i'"
            ],
            "application/vnd.google.colaboratory.intrinsic+json": {
              "type": "string"
            }
          },
          "metadata": {},
          "execution_count": 13
        }
      ]
    },
    {
      "cell_type": "code",
      "source": [
        "city[1:5]"
      ],
      "metadata": {
        "colab": {
          "base_uri": "https://localhost:8080/",
          "height": 35
        },
        "id": "QhdzmLX4cnkT",
        "outputId": "733eb2ff-51e7-4114-b504-b95fdaeec1b9"
      },
      "execution_count": 10,
      "outputs": [
        {
          "output_type": "execute_result",
          "data": {
            "text/plain": [
              "'hoen'"
            ],
            "application/vnd.google.colaboratory.intrinsic+json": {
              "type": "string"
            }
          },
          "metadata": {},
          "execution_count": 10
        }
      ]
    },
    {
      "cell_type": "code",
      "source": [
        "city[-6:-2]"
      ],
      "metadata": {
        "colab": {
          "base_uri": "https://localhost:8080/",
          "height": 35
        },
        "id": "f6aJHq8JcvUX",
        "outputId": "6af8a276-7856-43e2-8965-433d68cf82e3"
      },
      "execution_count": 14,
      "outputs": [
        {
          "output_type": "execute_result",
          "data": {
            "text/plain": [
              "'hoen'"
            ],
            "application/vnd.google.colaboratory.intrinsic+json": {
              "type": "string"
            }
          },
          "metadata": {},
          "execution_count": 14
        }
      ]
    },
    {
      "cell_type": "code",
      "source": [
        "city[1:-3]"
      ],
      "metadata": {
        "colab": {
          "base_uri": "https://localhost:8080/",
          "height": 35
        },
        "id": "fXRJweWTcvQH",
        "outputId": "a826d3d7-3491-4a8a-bbda-72034241dd68"
      },
      "execution_count": 15,
      "outputs": [
        {
          "output_type": "execute_result",
          "data": {
            "text/plain": [
              "'hoe'"
            ],
            "application/vnd.google.colaboratory.intrinsic+json": {
              "type": "string"
            }
          },
          "metadata": {},
          "execution_count": 15
        }
      ]
    },
    {
      "cell_type": "code",
      "source": [
        "city[-7:4]"
      ],
      "metadata": {
        "colab": {
          "base_uri": "https://localhost:8080/",
          "height": 35
        },
        "id": "N0vHibMWcvNn",
        "outputId": "be7a8b27-bb83-435b-b106-a554a93456c7"
      },
      "execution_count": 11,
      "outputs": [
        {
          "output_type": "execute_result",
          "data": {
            "text/plain": [
              "'phoe'"
            ],
            "application/vnd.google.colaboratory.intrinsic+json": {
              "type": "string"
            }
          },
          "metadata": {},
          "execution_count": 11
        }
      ]
    },
    {
      "cell_type": "code",
      "source": [
        "city[::-1]"
      ],
      "metadata": {
        "colab": {
          "base_uri": "https://localhost:8080/",
          "height": 35
        },
        "id": "BS1drEpOcvK9",
        "outputId": "72eec905-508e-4e09-f9d7-794a48b2ecad"
      },
      "execution_count": 16,
      "outputs": [
        {
          "output_type": "execute_result",
          "data": {
            "text/plain": [
              "'xineohp'"
            ],
            "application/vnd.google.colaboratory.intrinsic+json": {
              "type": "string"
            }
          },
          "metadata": {},
          "execution_count": 16
        }
      ]
    },
    {
      "cell_type": "code",
      "source": [
        "city[-2:-6]"
      ],
      "metadata": {
        "id": "wb3LnV2ncvIW"
      },
      "execution_count": null,
      "outputs": []
    },
    {
      "cell_type": "code",
      "source": [
        "city[-2:-6:-1]"
      ],
      "metadata": {
        "id": "kWnuVG-ic-Kr"
      },
      "execution_count": null,
      "outputs": []
    },
    {
      "cell_type": "code",
      "source": [
        "city[2:6:-1]"
      ],
      "metadata": {
        "id": "rNoI5LAtc-IW"
      },
      "execution_count": null,
      "outputs": []
    },
    {
      "cell_type": "code",
      "source": [
        "len(city)"
      ],
      "metadata": {
        "id": "hJS6zT1Mc-GA"
      },
      "execution_count": null,
      "outputs": []
    },
    {
      "cell_type": "code",
      "source": [
        "len(\"321\")"
      ],
      "metadata": {
        "id": "cYpU2f1Cc-BD"
      },
      "execution_count": null,
      "outputs": []
    },
    {
      "cell_type": "code",
      "source": [
        "len(\"0\")"
      ],
      "metadata": {
        "id": "rb5tARanc9-a"
      },
      "execution_count": null,
      "outputs": []
    },
    {
      "cell_type": "code",
      "source": [
        "len(\"1 1\")"
      ],
      "metadata": {
        "id": "ucqLzdbFdZYm"
      },
      "execution_count": null,
      "outputs": []
    },
    {
      "cell_type": "code",
      "source": [
        "len(111)"
      ],
      "metadata": {
        "colab": {
          "base_uri": "https://localhost:8080/",
          "height": 171
        },
        "id": "CpptjXSudZV8",
        "outputId": "a119a23b-a09f-48e3-e88c-ccb2aa9ad2c6"
      },
      "execution_count": 17,
      "outputs": [
        {
          "output_type": "error",
          "ename": "TypeError",
          "evalue": "ignored",
          "traceback": [
            "\u001b[0;31m---------------------------------------------------------------------------\u001b[0m",
            "\u001b[0;31mTypeError\u001b[0m                                 Traceback (most recent call last)",
            "\u001b[0;32m<ipython-input-17-93cd539acb93>\u001b[0m in \u001b[0;36m<module>\u001b[0;34m()\u001b[0m\n\u001b[0;32m----> 1\u001b[0;31m \u001b[0mlen\u001b[0m\u001b[0;34m(\u001b[0m\u001b[0;36m111\u001b[0m\u001b[0;34m)\u001b[0m\u001b[0;34m\u001b[0m\u001b[0;34m\u001b[0m\u001b[0m\n\u001b[0m",
            "\u001b[0;31mTypeError\u001b[0m: object of type 'int' has no len()"
          ]
        }
      ]
    },
    {
      "cell_type": "code",
      "source": [
        "sonuc = str((5 + 6) ** 2) + \"121\""
      ],
      "metadata": {
        "id": "HEs8MTyxdZTc"
      },
      "execution_count": null,
      "outputs": []
    },
    {
      "cell_type": "code",
      "source": [
        "\"ali\" + \"deli\" + \"veli\""
      ],
      "metadata": {
        "id": "4sccQL0ldZRA"
      },
      "execution_count": null,
      "outputs": []
    },
    {
      "cell_type": "code",
      "source": [
        "\"100\" + \"500\" + \"001\""
      ],
      "metadata": {
        "id": "sylABFVzdZOg"
      },
      "execution_count": null,
      "outputs": []
    },
    {
      "cell_type": "code",
      "source": [
        "sonuc = (sonuc + sonuc) * 2\n",
        "sonuc"
      ],
      "metadata": {
        "id": "UFbAjQ8vdZL4"
      },
      "execution_count": null,
      "outputs": []
    },
    {
      "cell_type": "code",
      "source": [
        "\"ali\" * 3"
      ],
      "metadata": {
        "id": "w3mA_tkHdZJK"
      },
      "execution_count": null,
      "outputs": []
    },
    {
      "cell_type": "code",
      "source": [
        "3 * \"veli\""
      ],
      "metadata": {
        "id": "fuOoc3RndfNL"
      },
      "execution_count": null,
      "outputs": []
    },
    {
      "cell_type": "code",
      "source": [
        "print(* \"clarusway\")"
      ],
      "metadata": {
        "id": "22RKMqzydfKu"
      },
      "execution_count": null,
      "outputs": []
    },
    {
      "cell_type": "code",
      "source": [
        "1 + \"1\""
      ],
      "metadata": {
        "colab": {
          "base_uri": "https://localhost:8080/",
          "height": 171
        },
        "id": "T9d-RccadfHp",
        "outputId": "aadd1565-ed68-462b-aeb1-68b55ad7c5d8"
      },
      "execution_count": 18,
      "outputs": [
        {
          "output_type": "error",
          "ename": "TypeError",
          "evalue": "ignored",
          "traceback": [
            "\u001b[0;31m---------------------------------------------------------------------------\u001b[0m",
            "\u001b[0;31mTypeError\u001b[0m                                 Traceback (most recent call last)",
            "\u001b[0;32m<ipython-input-18-b780703cc5f9>\u001b[0m in \u001b[0;36m<module>\u001b[0;34m()\u001b[0m\n\u001b[0;32m----> 1\u001b[0;31m \u001b[0;36m1\u001b[0m \u001b[0;34m+\u001b[0m \u001b[0;34m\"1\"\u001b[0m\u001b[0;34m\u001b[0m\u001b[0;34m\u001b[0m\u001b[0m\n\u001b[0m",
            "\u001b[0;31mTypeError\u001b[0m: unsupported operand type(s) for +: 'int' and 'str'"
          ]
        }
      ]
    },
    {
      "cell_type": "code",
      "source": [
        "2 * \"v\""
      ],
      "metadata": {
        "id": "IDRLsCZzdfE4"
      },
      "execution_count": null,
      "outputs": []
    },
    {
      "cell_type": "code",
      "source": [
        "string_1 = 'I am angry...'\n",
        "print(* string_1)"
      ],
      "metadata": {
        "id": "Mpqcp0YfdfAJ"
      },
      "execution_count": null,
      "outputs": []
    },
    {
      "cell_type": "code",
      "source": [
        "string_2 = '1453'\n",
        "print(* string_2)"
      ],
      "metadata": {
        "id": "J3TBURnnd1Cd"
      },
      "execution_count": null,
      "outputs": []
    },
    {
      "cell_type": "code",
      "source": [
        "print(* 'joseph@clarusway.com')"
      ],
      "metadata": {
        "id": "wrRBUQUId1AI"
      },
      "execution_count": null,
      "outputs": []
    },
    {
      "cell_type": "code",
      "source": [
        "len(\" \")"
      ],
      "metadata": {
        "id": "wGw1p3jDd09d"
      },
      "execution_count": null,
      "outputs": []
    },
    {
      "cell_type": "code",
      "source": [
        "a = \"ali\"\n",
        "b = \"deli\""
      ],
      "metadata": {
        "id": "cude4jKCd07O"
      },
      "execution_count": null,
      "outputs": []
    },
    {
      "cell_type": "code",
      "source": [
        "a = a + b\n",
        "a"
      ],
      "metadata": {
        "id": "jzUArOwad040"
      },
      "execution_count": null,
      "outputs": []
    },
    {
      "cell_type": "code",
      "source": [
        "\"metotlar\".format()"
      ],
      "metadata": {
        "id": "x6zYOWGdd02V"
      },
      "execution_count": null,
      "outputs": []
    },
    {
      "cell_type": "code",
      "source": [
        "deneme = \"clarusway\""
      ],
      "metadata": {
        "id": "GREy7Uked0zh"
      },
      "execution_count": null,
      "outputs": []
    },
    {
      "cell_type": "code",
      "source": [
        "deneme.format()"
      ],
      "metadata": {
        "id": "NJccJa2tde9r"
      },
      "execution_count": null,
      "outputs": []
    },
    {
      "cell_type": "code",
      "source": [
        "saat = \"05:00\"\n",
        "yer = \"Okul\"\n",
        "miktar = 2"
      ],
      "metadata": {
        "id": "ATbx9teteCv_"
      },
      "execution_count": null,
      "outputs": []
    },
    {
      "cell_type": "code",
      "source": [
        "\"Ben sabah {} de uyandım. {}'a gittim. Gelirken de {} kg elma aldım.\".format(saat, yer, miktar)"
      ],
      "metadata": {
        "id": "W5NHlkvMeCtb"
      },
      "execution_count": null,
      "outputs": []
    },
    {
      "cell_type": "code",
      "source": [
        "\"Ben sabah {} de uyandım. {}'a gittim. Gelirken de {} kg elma aldım.\".format(\"05:00\", \"Okul\", 2)\n"
      ],
      "metadata": {
        "id": "Fr3NM_ySeCrQ"
      },
      "execution_count": null,
      "outputs": []
    },
    {
      "cell_type": "code",
      "source": [
        "\"Ben sabah {saat} de uyandım. {yer}'a gittim. Gelirken de {miktar} kg elma aldım.\".format(yer = \"Okul\", miktar = 2, saat = \"05:00\")"
      ],
      "metadata": {
        "id": "tXBbxI7ReCn8"
      },
      "execution_count": null,
      "outputs": []
    },
    {
      "cell_type": "code",
      "source": [
        "\"Ben sabah {1} de uyandım. {0}'a gittim. Gelirken de {2} kg elma aldım.\".format(\"Okul\", \"05:00\", 3)"
      ],
      "metadata": {
        "id": "KGR2KZzpeCj6"
      },
      "execution_count": null,
      "outputs": []
    },
    {
      "cell_type": "code",
      "source": [
        ""
      ],
      "metadata": {
        "id": "1X-djjWYeCfs"
      },
      "execution_count": null,
      "outputs": []
    },
    {
      "cell_type": "code",
      "source": [
        ""
      ],
      "metadata": {
        "id": "p_tRrCZDeCcg"
      },
      "execution_count": null,
      "outputs": []
    },
    {
      "cell_type": "code",
      "source": [
        ""
      ],
      "metadata": {
        "id": "CTIS50jYejo3"
      },
      "execution_count": null,
      "outputs": []
    },
    {
      "cell_type": "code",
      "source": [
        ""
      ],
      "metadata": {
        "id": "_6qpGFHuejlo"
      },
      "execution_count": null,
      "outputs": []
    }
  ]
}